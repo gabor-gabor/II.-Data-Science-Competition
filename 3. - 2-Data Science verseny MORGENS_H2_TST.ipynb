{
 "cells": [
  {
   "cell_type": "code",
   "execution_count": 1,
   "id": "24494670",
   "metadata": {},
   "outputs": [
    {
     "name": "stdout",
     "output_type": "stream",
     "text": [
      "Módosított fájl mentve ide: C:/Users/user/Desktop/PROMETHEUS/2024_PROJECT - D36 - DATA-SCIENCE-VERSENY/3_2. MORGENS - Data Science verseny/Alapadat letötések/Py_TISZ_csv\\booking_data_2_CLEAN.csv\n"
     ]
    }
   ],
   "source": [
    "import pandas as pd    # 2.1 - tábla\n",
    "import os\n",
    "\n",
    "# Beolvasás és célmappa meghatározása\n",
    "input_file_path = \"C:/Users/user/Desktop/PROMETHEUS/2024_PROJECT - D36 - DATA-SCIENCE-VERSENY/3_2. MORGENS - Data Science verseny/Alapadat letötések/Py_előkészítve/booking_data_hotel_2.csv\"\n",
    "output_directory = \"C:/Users/user/Desktop/PROMETHEUS/2024_PROJECT - D36 - DATA-SCIENCE-VERSENY/3_2. MORGENS - Data Science verseny/Alapadat letötések/Py_TISZ_csv\"\n",
    "\n",
    "# Fájl beolvasása\n",
    "booking_2 = pd.read_csv(input_file_path, sep=\";\")\n",
    "\n",
    "# Adattípusok átalakítása\n",
    "booking_2['search_log_id'] = pd.to_numeric(booking_2['search_log_id'], errors='coerce').astype('Int64')\n",
    "booking_2['total_price_final'] = pd.to_numeric(booking_2['total_price_final'], errors='coerce').astype('float64')\n",
    "booking_2['rooms_total_price'] = pd.to_numeric(booking_2['rooms_total_price'], errors='coerce').astype('float64')\n",
    "booking_2['upsell_total_price'] = pd.to_numeric(booking_2['upsell_total_price'], errors='coerce').astype('float64')\n",
    "booking_2['vouchers_total_price'] = pd.to_numeric(booking_2['vouchers_total_price'], errors='coerce').astype('Int64')\n",
    "booking_2['loyalty_discount_total'] = pd.to_numeric(booking_2['loyalty_discount_total'], errors='coerce').astype('float64')\n",
    "booking_2['redeemed_loyalty_points_total'] = pd.to_numeric(booking_2['redeemed_loyalty_points_total'], errors='coerce').astype('float64')\n",
    "\n",
    "# Új fájlnév generálása\n",
    "output_file_name = \"booking_data_2_CLEAN.csv\"\n",
    "output_file_path = os.path.join(output_directory, output_file_name)\n",
    "\n",
    "# Módosított adatfájl mentése új mappába\n",
    "booking_2.to_csv(output_file_path, index=False, sep=\";\")\n",
    "\n",
    "# Ellenőrzés\n",
    "print(f\"Módosított fájl mentve ide: {output_file_path}\")"
   ]
  },
  {
   "cell_type": "code",
   "execution_count": 2,
   "id": "513f8eff",
   "metadata": {},
   "outputs": [
    {
     "name": "stdout",
     "output_type": "stream",
     "text": [
      "Módosított fájl mentve ide: C:/Users/user/Desktop/PROMETHEUS/2024_PROJECT - D36 - DATA-SCIENCE-VERSENY/3_2. MORGENS - Data Science verseny/Alapadat letötések/Py_TISZ_csv\\daily_occupancy_2_CLEAN.csv\n"
     ]
    }
   ],
   "source": [
    "import pandas as pd    # 2.2 - tábla\n",
    "import os\n",
    "\n",
    "# Beolvasás és célmappa meghatározása\n",
    "daily_occupancy_2 = pd.read_csv(\"C:/Users/user/Desktop/PROMETHEUS/2024_PROJECT - D36 - DATA-SCIENCE-VERSENY/3_2. MORGENS - Data Science verseny/Alapadat letötések/Py_előkészítve/daily_occupancy_hotel_2.csv\", sep=\";\")\n",
    "output_directory = \"C:/Users/user/Desktop/PROMETHEUS/2024_PROJECT - D36 - DATA-SCIENCE-VERSENY/3_2. MORGENS - Data Science verseny/Alapadat letötések/Py_TISZ_csv\"\n",
    "\n",
    "# Fájl beolvasása\n",
    "daily_occupancy_hotel_2 = pd.read_csv(input_file_path, sep=\";\")\n",
    "\n",
    "# Adattípusok átalakítása\n",
    "daily_occupancy_2['recording_date'] = daily_occupancy_2['recording_date'].astype('object')\n",
    "daily_occupancy_2['subject_date'] = daily_occupancy_2['subject_date'].astype('object')\n",
    "daily_occupancy_2['fill_rate'] = pd.to_numeric(daily_occupancy_2['fill_rate'], errors='coerce').astype('float64')\n",
    "\n",
    "# Új fájlnév generálása\n",
    "output_file_name = \"daily_occupancy_2_CLEAN.csv\"\n",
    "output_file_path = os.path.join(output_directory, output_file_name)\n",
    "\n",
    "# Módosított adatfájl mentése új mappába\n",
    "daily_occupancy_2.to_csv(output_file_path, index=False, sep=\";\")\n",
    "\n",
    "# Ellenőrzés\n",
    "print(f\"Módosított fájl mentve ide: {output_file_path}\")"
   ]
  },
  {
   "cell_type": "code",
   "execution_count": 4,
   "id": "c0e6fadc",
   "metadata": {},
   "outputs": [
    {
     "ename": "KeyError",
     "evalue": "'date'",
     "output_type": "error",
     "traceback": [
      "\u001b[1;31m---------------------------------------------------------------------------\u001b[0m",
      "\u001b[1;31mKeyError\u001b[0m                                  Traceback (most recent call last)",
      "\u001b[1;32m~\\anaconda3\\lib\\site-packages\\pandas\\core\\indexes\\base.py\u001b[0m in \u001b[0;36mget_loc\u001b[1;34m(self, key, method, tolerance)\u001b[0m\n\u001b[0;32m   3628\u001b[0m             \u001b[1;32mtry\u001b[0m\u001b[1;33m:\u001b[0m\u001b[1;33m\u001b[0m\u001b[1;33m\u001b[0m\u001b[0m\n\u001b[1;32m-> 3629\u001b[1;33m                 \u001b[1;32mreturn\u001b[0m \u001b[0mself\u001b[0m\u001b[1;33m.\u001b[0m\u001b[0m_engine\u001b[0m\u001b[1;33m.\u001b[0m\u001b[0mget_loc\u001b[0m\u001b[1;33m(\u001b[0m\u001b[0mcasted_key\u001b[0m\u001b[1;33m)\u001b[0m\u001b[1;33m\u001b[0m\u001b[1;33m\u001b[0m\u001b[0m\n\u001b[0m\u001b[0;32m   3630\u001b[0m             \u001b[1;32mexcept\u001b[0m \u001b[0mKeyError\u001b[0m \u001b[1;32mas\u001b[0m \u001b[0merr\u001b[0m\u001b[1;33m:\u001b[0m\u001b[1;33m\u001b[0m\u001b[1;33m\u001b[0m\u001b[0m\n",
      "\u001b[1;32m~\\anaconda3\\lib\\site-packages\\pandas\\_libs\\index.pyx\u001b[0m in \u001b[0;36mpandas._libs.index.IndexEngine.get_loc\u001b[1;34m()\u001b[0m\n",
      "\u001b[1;32m~\\anaconda3\\lib\\site-packages\\pandas\\_libs\\index.pyx\u001b[0m in \u001b[0;36mpandas._libs.index.IndexEngine.get_loc\u001b[1;34m()\u001b[0m\n",
      "\u001b[1;32mpandas\\_libs\\hashtable_class_helper.pxi\u001b[0m in \u001b[0;36mpandas._libs.hashtable.PyObjectHashTable.get_item\u001b[1;34m()\u001b[0m\n",
      "\u001b[1;32mpandas\\_libs\\hashtable_class_helper.pxi\u001b[0m in \u001b[0;36mpandas._libs.hashtable.PyObjectHashTable.get_item\u001b[1;34m()\u001b[0m\n",
      "\u001b[1;31mKeyError\u001b[0m: 'date'",
      "\nThe above exception was the direct cause of the following exception:\n",
      "\u001b[1;31mKeyError\u001b[0m                                  Traceback (most recent call last)",
      "\u001b[1;32m~\\AppData\\Local\\Temp\\ipykernel_11660\\861379847.py\u001b[0m in \u001b[0;36m<module>\u001b[1;34m\u001b[0m\n\u001b[0;32m     10\u001b[0m \u001b[1;33m\u001b[0m\u001b[0m\n\u001b[0;32m     11\u001b[0m \u001b[1;31m# Ha most megfelelőek az oszlopnevek, folytathatjuk az adattípus átalakítást\u001b[0m\u001b[1;33m\u001b[0m\u001b[1;33m\u001b[0m\u001b[0m\n\u001b[1;32m---> 12\u001b[1;33m \u001b[0mdaily_ppc_budget_2\u001b[0m\u001b[1;33m[\u001b[0m\u001b[1;34m'date'\u001b[0m\u001b[1;33m]\u001b[0m \u001b[1;33m=\u001b[0m \u001b[0mdaily_ppc_budget_2\u001b[0m\u001b[1;33m[\u001b[0m\u001b[1;34m'date'\u001b[0m\u001b[1;33m]\u001b[0m\u001b[1;33m.\u001b[0m\u001b[0mastype\u001b[0m\u001b[1;33m(\u001b[0m\u001b[1;34m'object'\u001b[0m\u001b[1;33m)\u001b[0m\u001b[1;33m\u001b[0m\u001b[1;33m\u001b[0m\u001b[0m\n\u001b[0m\u001b[0;32m     13\u001b[0m \u001b[0mdaily_ppc_budget_2\u001b[0m\u001b[1;33m[\u001b[0m\u001b[1;34m'daily_google_spend'\u001b[0m\u001b[1;33m]\u001b[0m \u001b[1;33m=\u001b[0m \u001b[0mpd\u001b[0m\u001b[1;33m.\u001b[0m\u001b[0mto_numeric\u001b[0m\u001b[1;33m(\u001b[0m\u001b[0mdaily_ppc_budget_2\u001b[0m\u001b[1;33m[\u001b[0m\u001b[1;34m'daily_google_spend'\u001b[0m\u001b[1;33m]\u001b[0m\u001b[1;33m,\u001b[0m \u001b[0merrors\u001b[0m\u001b[1;33m=\u001b[0m\u001b[1;34m'coerce'\u001b[0m\u001b[1;33m)\u001b[0m\u001b[1;33m.\u001b[0m\u001b[0mastype\u001b[0m\u001b[1;33m(\u001b[0m\u001b[1;34m'Int64'\u001b[0m\u001b[1;33m)\u001b[0m\u001b[1;33m\u001b[0m\u001b[1;33m\u001b[0m\u001b[0m\n\u001b[0;32m     14\u001b[0m \u001b[0mdaily_ppc_budget_2\u001b[0m\u001b[1;33m[\u001b[0m\u001b[1;34m'daily_microsoft_spend'\u001b[0m\u001b[1;33m]\u001b[0m \u001b[1;33m=\u001b[0m \u001b[0mpd\u001b[0m\u001b[1;33m.\u001b[0m\u001b[0mto_numeric\u001b[0m\u001b[1;33m(\u001b[0m\u001b[0mdaily_ppc_budget_2\u001b[0m\u001b[1;33m[\u001b[0m\u001b[1;34m'daily_microsoft_spend'\u001b[0m\u001b[1;33m]\u001b[0m\u001b[1;33m,\u001b[0m \u001b[0merrors\u001b[0m\u001b[1;33m=\u001b[0m\u001b[1;34m'coerce'\u001b[0m\u001b[1;33m)\u001b[0m\u001b[1;33m.\u001b[0m\u001b[0mastype\u001b[0m\u001b[1;33m(\u001b[0m\u001b[1;34m'Int64'\u001b[0m\u001b[1;33m)\u001b[0m\u001b[1;33m\u001b[0m\u001b[1;33m\u001b[0m\u001b[0m\n",
      "\u001b[1;32m~\\anaconda3\\lib\\site-packages\\pandas\\core\\frame.py\u001b[0m in \u001b[0;36m__getitem__\u001b[1;34m(self, key)\u001b[0m\n\u001b[0;32m   3503\u001b[0m             \u001b[1;32mif\u001b[0m \u001b[0mself\u001b[0m\u001b[1;33m.\u001b[0m\u001b[0mcolumns\u001b[0m\u001b[1;33m.\u001b[0m\u001b[0mnlevels\u001b[0m \u001b[1;33m>\u001b[0m \u001b[1;36m1\u001b[0m\u001b[1;33m:\u001b[0m\u001b[1;33m\u001b[0m\u001b[1;33m\u001b[0m\u001b[0m\n\u001b[0;32m   3504\u001b[0m                 \u001b[1;32mreturn\u001b[0m \u001b[0mself\u001b[0m\u001b[1;33m.\u001b[0m\u001b[0m_getitem_multilevel\u001b[0m\u001b[1;33m(\u001b[0m\u001b[0mkey\u001b[0m\u001b[1;33m)\u001b[0m\u001b[1;33m\u001b[0m\u001b[1;33m\u001b[0m\u001b[0m\n\u001b[1;32m-> 3505\u001b[1;33m             \u001b[0mindexer\u001b[0m \u001b[1;33m=\u001b[0m \u001b[0mself\u001b[0m\u001b[1;33m.\u001b[0m\u001b[0mcolumns\u001b[0m\u001b[1;33m.\u001b[0m\u001b[0mget_loc\u001b[0m\u001b[1;33m(\u001b[0m\u001b[0mkey\u001b[0m\u001b[1;33m)\u001b[0m\u001b[1;33m\u001b[0m\u001b[1;33m\u001b[0m\u001b[0m\n\u001b[0m\u001b[0;32m   3506\u001b[0m             \u001b[1;32mif\u001b[0m \u001b[0mis_integer\u001b[0m\u001b[1;33m(\u001b[0m\u001b[0mindexer\u001b[0m\u001b[1;33m)\u001b[0m\u001b[1;33m:\u001b[0m\u001b[1;33m\u001b[0m\u001b[1;33m\u001b[0m\u001b[0m\n\u001b[0;32m   3507\u001b[0m                 \u001b[0mindexer\u001b[0m \u001b[1;33m=\u001b[0m \u001b[1;33m[\u001b[0m\u001b[0mindexer\u001b[0m\u001b[1;33m]\u001b[0m\u001b[1;33m\u001b[0m\u001b[1;33m\u001b[0m\u001b[0m\n",
      "\u001b[1;32m~\\anaconda3\\lib\\site-packages\\pandas\\core\\indexes\\base.py\u001b[0m in \u001b[0;36mget_loc\u001b[1;34m(self, key, method, tolerance)\u001b[0m\n\u001b[0;32m   3629\u001b[0m                 \u001b[1;32mreturn\u001b[0m \u001b[0mself\u001b[0m\u001b[1;33m.\u001b[0m\u001b[0m_engine\u001b[0m\u001b[1;33m.\u001b[0m\u001b[0mget_loc\u001b[0m\u001b[1;33m(\u001b[0m\u001b[0mcasted_key\u001b[0m\u001b[1;33m)\u001b[0m\u001b[1;33m\u001b[0m\u001b[1;33m\u001b[0m\u001b[0m\n\u001b[0;32m   3630\u001b[0m             \u001b[1;32mexcept\u001b[0m \u001b[0mKeyError\u001b[0m \u001b[1;32mas\u001b[0m \u001b[0merr\u001b[0m\u001b[1;33m:\u001b[0m\u001b[1;33m\u001b[0m\u001b[1;33m\u001b[0m\u001b[0m\n\u001b[1;32m-> 3631\u001b[1;33m                 \u001b[1;32mraise\u001b[0m \u001b[0mKeyError\u001b[0m\u001b[1;33m(\u001b[0m\u001b[0mkey\u001b[0m\u001b[1;33m)\u001b[0m \u001b[1;32mfrom\u001b[0m \u001b[0merr\u001b[0m\u001b[1;33m\u001b[0m\u001b[1;33m\u001b[0m\u001b[0m\n\u001b[0m\u001b[0;32m   3632\u001b[0m             \u001b[1;32mexcept\u001b[0m \u001b[0mTypeError\u001b[0m\u001b[1;33m:\u001b[0m\u001b[1;33m\u001b[0m\u001b[1;33m\u001b[0m\u001b[0m\n\u001b[0;32m   3633\u001b[0m                 \u001b[1;31m# If we have a listlike key, _check_indexing_error will raise\u001b[0m\u001b[1;33m\u001b[0m\u001b[1;33m\u001b[0m\u001b[0m\n",
      "\u001b[1;31mKeyError\u001b[0m: 'date'"
     ]
    }
   ],
   "source": [
    "import pandas as pd    # 2.3 - tábla - Forrástábla fejléce hibás \",date_\" ezt tisztíttatni!!!!!!!\n",
    "import os\n",
    "\n",
    "# Beolvasás és célmappa meghatározása\n",
    "daily_ppc_budget_2 = pd.read_csv(\"C:/Users/user/Desktop/PROMETHEUS/2024_PROJECT - D36 - DATA-SCIENCE-VERSENY/3_2. MORGENS - Data Science verseny/Alapadat letötések/Py_előkészítve/daily_ppc_budget_hotel_2.csv\", sep=\",\", index_col=0)\n",
    "output_directory = \"C:/Users/user/Desktop/PROMETHEUS/2024_PROJECT - D36 - DATA-SCIENCE-VERSENY/3_2. MORGENS - Data Science verseny/Alapadat letötések/Py_TISZ_csv\"\n",
    "\n",
    "# Fájl beolvasása\n",
    "\n",
    "\n",
    "# Ha most megfelelőek az oszlopnevek, folytathatjuk az adattípus átalakítást\n",
    "daily_ppc_budget_2['date'] = daily_ppc_budget_2['date'].astype('object')\n",
    "daily_ppc_budget_2['daily_google_spend'] = pd.to_numeric(daily_ppc_budget_2['daily_google_spend'], errors='coerce').astype('Int64')\n",
    "daily_ppc_budget_2['daily_microsoft_spend'] = pd.to_numeric(daily_ppc_budget_2['daily_microsoft_spend'], errors='coerce').astype('Int64')\n",
    "daily_ppc_budget_2['daily_meta_spend'] = pd.to_numeric(daily_ppc_budget_2['daily_meta_spend'], errors='coerce').astype('Int64')\n",
    "\n",
    "# Új fájlnév generálása\n",
    "output_file_name = \"daily_ppc_budget_2_CLEAN.csv\"\n",
    "output_file_path = os.path.join(output_directory, output_file_name)\n",
    "\n",
    "# Módosított adatfájl mentése új mappába\n",
    "daily_ppc_budget_2.to_csv(output_file_path, index=False, sep=\";\")\n",
    "\n",
    "# Ellenőrzés\n",
    "print(f\"Módosított fájl mentve ide: {output_file_path}\")"
   ]
  },
  {
   "cell_type": "code",
   "execution_count": 5,
   "id": "2f668d23",
   "metadata": {},
   "outputs": [
    {
     "name": "stdout",
     "output_type": "stream",
     "text": [
      "Index(['daily_google_spend', 'daily_microsoft_spend', 'daily_meta_spend'], dtype='object')\n"
     ]
    }
   ],
   "source": [
    "print(daily_ppc_budget_2.columns)"
   ]
  },
  {
   "cell_type": "code",
   "execution_count": 6,
   "id": "fc5e2a95",
   "metadata": {},
   "outputs": [
    {
     "ename": "KeyError",
     "evalue": "'date'",
     "output_type": "error",
     "traceback": [
      "\u001b[1;31m---------------------------------------------------------------------------\u001b[0m",
      "\u001b[1;31mKeyError\u001b[0m                                  Traceback (most recent call last)",
      "\u001b[1;32m~\\anaconda3\\lib\\site-packages\\pandas\\core\\indexes\\base.py\u001b[0m in \u001b[0;36mget_loc\u001b[1;34m(self, key, method, tolerance)\u001b[0m\n\u001b[0;32m   3628\u001b[0m             \u001b[1;32mtry\u001b[0m\u001b[1;33m:\u001b[0m\u001b[1;33m\u001b[0m\u001b[1;33m\u001b[0m\u001b[0m\n\u001b[1;32m-> 3629\u001b[1;33m                 \u001b[1;32mreturn\u001b[0m \u001b[0mself\u001b[0m\u001b[1;33m.\u001b[0m\u001b[0m_engine\u001b[0m\u001b[1;33m.\u001b[0m\u001b[0mget_loc\u001b[0m\u001b[1;33m(\u001b[0m\u001b[0mcasted_key\u001b[0m\u001b[1;33m)\u001b[0m\u001b[1;33m\u001b[0m\u001b[1;33m\u001b[0m\u001b[0m\n\u001b[0m\u001b[0;32m   3630\u001b[0m             \u001b[1;32mexcept\u001b[0m \u001b[0mKeyError\u001b[0m \u001b[1;32mas\u001b[0m \u001b[0merr\u001b[0m\u001b[1;33m:\u001b[0m\u001b[1;33m\u001b[0m\u001b[1;33m\u001b[0m\u001b[0m\n",
      "\u001b[1;32m~\\anaconda3\\lib\\site-packages\\pandas\\_libs\\index.pyx\u001b[0m in \u001b[0;36mpandas._libs.index.IndexEngine.get_loc\u001b[1;34m()\u001b[0m\n",
      "\u001b[1;32m~\\anaconda3\\lib\\site-packages\\pandas\\_libs\\index.pyx\u001b[0m in \u001b[0;36mpandas._libs.index.IndexEngine.get_loc\u001b[1;34m()\u001b[0m\n",
      "\u001b[1;32mpandas\\_libs\\hashtable_class_helper.pxi\u001b[0m in \u001b[0;36mpandas._libs.hashtable.PyObjectHashTable.get_item\u001b[1;34m()\u001b[0m\n",
      "\u001b[1;32mpandas\\_libs\\hashtable_class_helper.pxi\u001b[0m in \u001b[0;36mpandas._libs.hashtable.PyObjectHashTable.get_item\u001b[1;34m()\u001b[0m\n",
      "\u001b[1;31mKeyError\u001b[0m: 'date'",
      "\nThe above exception was the direct cause of the following exception:\n",
      "\u001b[1;31mKeyError\u001b[0m                                  Traceback (most recent call last)",
      "\u001b[1;32m~\\AppData\\Local\\Temp\\ipykernel_11660\\125072783.py\u001b[0m in \u001b[0;36m<module>\u001b[1;34m\u001b[0m\n\u001b[0;32m      9\u001b[0m \u001b[1;33m\u001b[0m\u001b[0m\n\u001b[0;32m     10\u001b[0m \u001b[1;31m# Ha most megfelelőek az oszlopnevek, folytathatjuk az adattípus átalakítást\u001b[0m\u001b[1;33m\u001b[0m\u001b[1;33m\u001b[0m\u001b[0m\n\u001b[1;32m---> 11\u001b[1;33m \u001b[0mdaily_ppc_budget_2\u001b[0m\u001b[1;33m[\u001b[0m\u001b[1;34m'date'\u001b[0m\u001b[1;33m]\u001b[0m \u001b[1;33m=\u001b[0m \u001b[0mdaily_ppc_budget_2\u001b[0m\u001b[1;33m[\u001b[0m\u001b[1;34m'date'\u001b[0m\u001b[1;33m]\u001b[0m\u001b[1;33m.\u001b[0m\u001b[0mastype\u001b[0m\u001b[1;33m(\u001b[0m\u001b[1;34m'object'\u001b[0m\u001b[1;33m)\u001b[0m\u001b[1;33m\u001b[0m\u001b[1;33m\u001b[0m\u001b[0m\n\u001b[0m\u001b[0;32m     12\u001b[0m \u001b[0mdaily_ppc_budget_2\u001b[0m\u001b[1;33m[\u001b[0m\u001b[1;34m'daily_google_spend'\u001b[0m\u001b[1;33m]\u001b[0m \u001b[1;33m=\u001b[0m \u001b[0mpd\u001b[0m\u001b[1;33m.\u001b[0m\u001b[0mto_numeric\u001b[0m\u001b[1;33m(\u001b[0m\u001b[0mdaily_ppc_budget_2\u001b[0m\u001b[1;33m[\u001b[0m\u001b[1;34m'daily_google_spend'\u001b[0m\u001b[1;33m]\u001b[0m\u001b[1;33m,\u001b[0m \u001b[0merrors\u001b[0m\u001b[1;33m=\u001b[0m\u001b[1;34m'coerce'\u001b[0m\u001b[1;33m)\u001b[0m\u001b[1;33m.\u001b[0m\u001b[0mastype\u001b[0m\u001b[1;33m(\u001b[0m\u001b[1;34m'Int64'\u001b[0m\u001b[1;33m)\u001b[0m\u001b[1;33m\u001b[0m\u001b[1;33m\u001b[0m\u001b[0m\n\u001b[0;32m     13\u001b[0m \u001b[0mdaily_ppc_budget_2\u001b[0m\u001b[1;33m[\u001b[0m\u001b[1;34m'daily_microsoft_spend'\u001b[0m\u001b[1;33m]\u001b[0m \u001b[1;33m=\u001b[0m \u001b[0mpd\u001b[0m\u001b[1;33m.\u001b[0m\u001b[0mto_numeric\u001b[0m\u001b[1;33m(\u001b[0m\u001b[0mdaily_ppc_budget_2\u001b[0m\u001b[1;33m[\u001b[0m\u001b[1;34m'daily_microsoft_spend'\u001b[0m\u001b[1;33m]\u001b[0m\u001b[1;33m,\u001b[0m \u001b[0merrors\u001b[0m\u001b[1;33m=\u001b[0m\u001b[1;34m'coerce'\u001b[0m\u001b[1;33m)\u001b[0m\u001b[1;33m.\u001b[0m\u001b[0mastype\u001b[0m\u001b[1;33m(\u001b[0m\u001b[1;34m'Int64'\u001b[0m\u001b[1;33m)\u001b[0m\u001b[1;33m\u001b[0m\u001b[1;33m\u001b[0m\u001b[0m\n",
      "\u001b[1;32m~\\anaconda3\\lib\\site-packages\\pandas\\core\\frame.py\u001b[0m in \u001b[0;36m__getitem__\u001b[1;34m(self, key)\u001b[0m\n\u001b[0;32m   3503\u001b[0m             \u001b[1;32mif\u001b[0m \u001b[0mself\u001b[0m\u001b[1;33m.\u001b[0m\u001b[0mcolumns\u001b[0m\u001b[1;33m.\u001b[0m\u001b[0mnlevels\u001b[0m \u001b[1;33m>\u001b[0m \u001b[1;36m1\u001b[0m\u001b[1;33m:\u001b[0m\u001b[1;33m\u001b[0m\u001b[1;33m\u001b[0m\u001b[0m\n\u001b[0;32m   3504\u001b[0m                 \u001b[1;32mreturn\u001b[0m \u001b[0mself\u001b[0m\u001b[1;33m.\u001b[0m\u001b[0m_getitem_multilevel\u001b[0m\u001b[1;33m(\u001b[0m\u001b[0mkey\u001b[0m\u001b[1;33m)\u001b[0m\u001b[1;33m\u001b[0m\u001b[1;33m\u001b[0m\u001b[0m\n\u001b[1;32m-> 3505\u001b[1;33m             \u001b[0mindexer\u001b[0m \u001b[1;33m=\u001b[0m \u001b[0mself\u001b[0m\u001b[1;33m.\u001b[0m\u001b[0mcolumns\u001b[0m\u001b[1;33m.\u001b[0m\u001b[0mget_loc\u001b[0m\u001b[1;33m(\u001b[0m\u001b[0mkey\u001b[0m\u001b[1;33m)\u001b[0m\u001b[1;33m\u001b[0m\u001b[1;33m\u001b[0m\u001b[0m\n\u001b[0m\u001b[0;32m   3506\u001b[0m             \u001b[1;32mif\u001b[0m \u001b[0mis_integer\u001b[0m\u001b[1;33m(\u001b[0m\u001b[0mindexer\u001b[0m\u001b[1;33m)\u001b[0m\u001b[1;33m:\u001b[0m\u001b[1;33m\u001b[0m\u001b[1;33m\u001b[0m\u001b[0m\n\u001b[0;32m   3507\u001b[0m                 \u001b[0mindexer\u001b[0m \u001b[1;33m=\u001b[0m \u001b[1;33m[\u001b[0m\u001b[0mindexer\u001b[0m\u001b[1;33m]\u001b[0m\u001b[1;33m\u001b[0m\u001b[1;33m\u001b[0m\u001b[0m\n",
      "\u001b[1;32m~\\anaconda3\\lib\\site-packages\\pandas\\core\\indexes\\base.py\u001b[0m in \u001b[0;36mget_loc\u001b[1;34m(self, key, method, tolerance)\u001b[0m\n\u001b[0;32m   3629\u001b[0m                 \u001b[1;32mreturn\u001b[0m \u001b[0mself\u001b[0m\u001b[1;33m.\u001b[0m\u001b[0m_engine\u001b[0m\u001b[1;33m.\u001b[0m\u001b[0mget_loc\u001b[0m\u001b[1;33m(\u001b[0m\u001b[0mcasted_key\u001b[0m\u001b[1;33m)\u001b[0m\u001b[1;33m\u001b[0m\u001b[1;33m\u001b[0m\u001b[0m\n\u001b[0;32m   3630\u001b[0m             \u001b[1;32mexcept\u001b[0m \u001b[0mKeyError\u001b[0m \u001b[1;32mas\u001b[0m \u001b[0merr\u001b[0m\u001b[1;33m:\u001b[0m\u001b[1;33m\u001b[0m\u001b[1;33m\u001b[0m\u001b[0m\n\u001b[1;32m-> 3631\u001b[1;33m                 \u001b[1;32mraise\u001b[0m \u001b[0mKeyError\u001b[0m\u001b[1;33m(\u001b[0m\u001b[0mkey\u001b[0m\u001b[1;33m)\u001b[0m \u001b[1;32mfrom\u001b[0m \u001b[0merr\u001b[0m\u001b[1;33m\u001b[0m\u001b[1;33m\u001b[0m\u001b[0m\n\u001b[0m\u001b[0;32m   3632\u001b[0m             \u001b[1;32mexcept\u001b[0m \u001b[0mTypeError\u001b[0m\u001b[1;33m:\u001b[0m\u001b[1;33m\u001b[0m\u001b[1;33m\u001b[0m\u001b[0m\n\u001b[0;32m   3633\u001b[0m                 \u001b[1;31m# If we have a listlike key, _check_indexing_error will raise\u001b[0m\u001b[1;33m\u001b[0m\u001b[1;33m\u001b[0m\u001b[0m\n",
      "\u001b[1;31mKeyError\u001b[0m: 'date'"
     ]
    }
   ],
   "source": [
    "import pandas as pd\n",
    "import os\n",
    "\n",
    "# Beolvasás és célmappa meghatározása\n",
    "daily_ppc_budget_2 = pd.read_csv(\"C:/Users/user/Desktop/PROMETHEUS/2024_PROJECT - D36 - DATA-SCIENCE-VERSENY/3_2. MORGENS - Data Science verseny/Alapadat letötések/Py_előkészítve/daily_ppc_budget_hotel_2.csv\", sep=\",\", index_col=0)\n",
    "\n",
    "# Az oszlopnevek tisztítása\n",
    "daily_ppc_budget_2.columns = daily_ppc_budget_2.columns.str.replace('\"', '').str.strip()\n",
    "\n",
    "# Ha most megfelelőek az oszlopnevek, folytathatjuk az adattípus átalakítást\n",
    "daily_ppc_budget_2['date'] = daily_ppc_budget_2['date'].astype('object')\n",
    "daily_ppc_budget_2['daily_google_spend'] = pd.to_numeric(daily_ppc_budget_2['daily_google_spend'], errors='coerce').astype('Int64')\n",
    "daily_ppc_budget_2['daily_microsoft_spend'] = pd.to_numeric(daily_ppc_budget_2['daily_microsoft_spend'], errors='coerce').astype('Int64')\n",
    "daily_ppc_budget_2['daily_meta_spend'] = pd.to_numeric(daily_ppc_budget_2['daily_meta_spend'], errors='coerce').astype('Int64')\n",
    "\n",
    "# Új fájlnév generálása és mentése\n",
    "output_directory = \"C:/Users/user/Desktop/PROMETHEUS/2024_PROJECT - D36 - DATA-SCIENCE-VERSENY/3_2. MORGENS - Data Science verseny/Alapadat letötések/Py_TISZ_csv\"\n",
    "output_file_name = \"daily_ppc_budget_2_CLEAN.csv\"\n",
    "output_file_path = os.path.join(output_directory, output_file_name)\n",
    "daily_ppc_budget_2.to_csv(output_file_path, index=False, sep=\";\")\n",
    "\n",
    "# Ellenőrzés\n",
    "print(f\"Módosított fájl mentve ide: {output_file_path}\")"
   ]
  },
  {
   "cell_type": "code",
   "execution_count": 7,
   "id": "7a25da8f",
   "metadata": {},
   "outputs": [
    {
     "name": "stdout",
     "output_type": "stream",
     "text": [
      "A fájl oszlopnevei: Index(['daily_google_spend', 'daily_microsoft_spend', 'daily_meta_spend'], dtype='object')\n"
     ]
    }
   ],
   "source": [
    "# Oszlopnevek tisztítása\n",
    "daily_ppc_budget_2.columns = daily_ppc_budget_2.columns.str.replace('\"', '').str.strip()\n",
    "\n",
    "# Az oszlopnevek megjelenítése\n",
    "print(\"A fájl oszlopnevei:\", daily_ppc_budget_2.columns)\n"
   ]
  },
  {
   "cell_type": "code",
   "execution_count": 8,
   "id": "c930f650",
   "metadata": {},
   "outputs": [
    {
     "name": "stdout",
     "output_type": "stream",
     "text": [
      "             daily_google_spend  daily_microsoft_spend  daily_meta_spend\n",
      "2024.09.18.              136513                   7484             33554\n",
      "2024.09.19.              121423                   5580             41405\n",
      "2024.09.20.              107031                   5964             48341\n",
      "2024.09.21.              109008                   5028             50098\n",
      "2024.09.22.              141350                   4804             57303\n"
     ]
    }
   ],
   "source": [
    "# Az első néhány sor megtekintése\n",
    "print(daily_ppc_budget_2.head())\n"
   ]
  },
  {
   "cell_type": "code",
   "execution_count": 9,
   "id": "d8ff3be8",
   "metadata": {},
   "outputs": [
    {
     "name": "stdout",
     "output_type": "stream",
     "text": [
      "A fájl oszlopnevei: Index(['Unnamed: 0', 'daily_google_spend', 'daily_microsoft_spend',\n",
      "       'daily_meta_spend'],\n",
      "      dtype='object')\n"
     ]
    },
    {
     "ename": "KeyError",
     "evalue": "'date'",
     "output_type": "error",
     "traceback": [
      "\u001b[1;31m---------------------------------------------------------------------------\u001b[0m",
      "\u001b[1;31mKeyError\u001b[0m                                  Traceback (most recent call last)",
      "\u001b[1;32m~\\anaconda3\\lib\\site-packages\\pandas\\core\\indexes\\base.py\u001b[0m in \u001b[0;36mget_loc\u001b[1;34m(self, key, method, tolerance)\u001b[0m\n\u001b[0;32m   3628\u001b[0m             \u001b[1;32mtry\u001b[0m\u001b[1;33m:\u001b[0m\u001b[1;33m\u001b[0m\u001b[1;33m\u001b[0m\u001b[0m\n\u001b[1;32m-> 3629\u001b[1;33m                 \u001b[1;32mreturn\u001b[0m \u001b[0mself\u001b[0m\u001b[1;33m.\u001b[0m\u001b[0m_engine\u001b[0m\u001b[1;33m.\u001b[0m\u001b[0mget_loc\u001b[0m\u001b[1;33m(\u001b[0m\u001b[0mcasted_key\u001b[0m\u001b[1;33m)\u001b[0m\u001b[1;33m\u001b[0m\u001b[1;33m\u001b[0m\u001b[0m\n\u001b[0m\u001b[0;32m   3630\u001b[0m             \u001b[1;32mexcept\u001b[0m \u001b[0mKeyError\u001b[0m \u001b[1;32mas\u001b[0m \u001b[0merr\u001b[0m\u001b[1;33m:\u001b[0m\u001b[1;33m\u001b[0m\u001b[1;33m\u001b[0m\u001b[0m\n",
      "\u001b[1;32m~\\anaconda3\\lib\\site-packages\\pandas\\_libs\\index.pyx\u001b[0m in \u001b[0;36mpandas._libs.index.IndexEngine.get_loc\u001b[1;34m()\u001b[0m\n",
      "\u001b[1;32m~\\anaconda3\\lib\\site-packages\\pandas\\_libs\\index.pyx\u001b[0m in \u001b[0;36mpandas._libs.index.IndexEngine.get_loc\u001b[1;34m()\u001b[0m\n",
      "\u001b[1;32mpandas\\_libs\\hashtable_class_helper.pxi\u001b[0m in \u001b[0;36mpandas._libs.hashtable.PyObjectHashTable.get_item\u001b[1;34m()\u001b[0m\n",
      "\u001b[1;32mpandas\\_libs\\hashtable_class_helper.pxi\u001b[0m in \u001b[0;36mpandas._libs.hashtable.PyObjectHashTable.get_item\u001b[1;34m()\u001b[0m\n",
      "\u001b[1;31mKeyError\u001b[0m: 'date'",
      "\nThe above exception was the direct cause of the following exception:\n",
      "\u001b[1;31mKeyError\u001b[0m                                  Traceback (most recent call last)",
      "\u001b[1;32m~\\AppData\\Local\\Temp\\ipykernel_11660\\967365956.py\u001b[0m in \u001b[0;36m<module>\u001b[1;34m\u001b[0m\n\u001b[0;32m     12\u001b[0m \u001b[1;33m\u001b[0m\u001b[0m\n\u001b[0;32m     13\u001b[0m \u001b[1;31m# Ha minden rendben, folytathatod az adattípus átalakítást\u001b[0m\u001b[1;33m\u001b[0m\u001b[1;33m\u001b[0m\u001b[0m\n\u001b[1;32m---> 14\u001b[1;33m \u001b[0mdaily_ppc_budget_2\u001b[0m\u001b[1;33m[\u001b[0m\u001b[1;34m'date'\u001b[0m\u001b[1;33m]\u001b[0m \u001b[1;33m=\u001b[0m \u001b[0mdaily_ppc_budget_2\u001b[0m\u001b[1;33m[\u001b[0m\u001b[1;34m'date'\u001b[0m\u001b[1;33m]\u001b[0m\u001b[1;33m.\u001b[0m\u001b[0mastype\u001b[0m\u001b[1;33m(\u001b[0m\u001b[1;34m'object'\u001b[0m\u001b[1;33m)\u001b[0m\u001b[1;33m\u001b[0m\u001b[1;33m\u001b[0m\u001b[0m\n\u001b[0m\u001b[0;32m     15\u001b[0m \u001b[0mdaily_ppc_budget_2\u001b[0m\u001b[1;33m[\u001b[0m\u001b[1;34m'daily_google_spend'\u001b[0m\u001b[1;33m]\u001b[0m \u001b[1;33m=\u001b[0m \u001b[0mpd\u001b[0m\u001b[1;33m.\u001b[0m\u001b[0mto_numeric\u001b[0m\u001b[1;33m(\u001b[0m\u001b[0mdaily_ppc_budget_2\u001b[0m\u001b[1;33m[\u001b[0m\u001b[1;34m'daily_google_spend'\u001b[0m\u001b[1;33m]\u001b[0m\u001b[1;33m,\u001b[0m \u001b[0merrors\u001b[0m\u001b[1;33m=\u001b[0m\u001b[1;34m'coerce'\u001b[0m\u001b[1;33m)\u001b[0m\u001b[1;33m.\u001b[0m\u001b[0mastype\u001b[0m\u001b[1;33m(\u001b[0m\u001b[1;34m'Int64'\u001b[0m\u001b[1;33m)\u001b[0m\u001b[1;33m\u001b[0m\u001b[1;33m\u001b[0m\u001b[0m\n\u001b[0;32m     16\u001b[0m \u001b[0mdaily_ppc_budget_2\u001b[0m\u001b[1;33m[\u001b[0m\u001b[1;34m'daily_microsoft_spend'\u001b[0m\u001b[1;33m]\u001b[0m \u001b[1;33m=\u001b[0m \u001b[0mpd\u001b[0m\u001b[1;33m.\u001b[0m\u001b[0mto_numeric\u001b[0m\u001b[1;33m(\u001b[0m\u001b[0mdaily_ppc_budget_2\u001b[0m\u001b[1;33m[\u001b[0m\u001b[1;34m'daily_microsoft_spend'\u001b[0m\u001b[1;33m]\u001b[0m\u001b[1;33m,\u001b[0m \u001b[0merrors\u001b[0m\u001b[1;33m=\u001b[0m\u001b[1;34m'coerce'\u001b[0m\u001b[1;33m)\u001b[0m\u001b[1;33m.\u001b[0m\u001b[0mastype\u001b[0m\u001b[1;33m(\u001b[0m\u001b[1;34m'Int64'\u001b[0m\u001b[1;33m)\u001b[0m\u001b[1;33m\u001b[0m\u001b[1;33m\u001b[0m\u001b[0m\n",
      "\u001b[1;32m~\\anaconda3\\lib\\site-packages\\pandas\\core\\frame.py\u001b[0m in \u001b[0;36m__getitem__\u001b[1;34m(self, key)\u001b[0m\n\u001b[0;32m   3503\u001b[0m             \u001b[1;32mif\u001b[0m \u001b[0mself\u001b[0m\u001b[1;33m.\u001b[0m\u001b[0mcolumns\u001b[0m\u001b[1;33m.\u001b[0m\u001b[0mnlevels\u001b[0m \u001b[1;33m>\u001b[0m \u001b[1;36m1\u001b[0m\u001b[1;33m:\u001b[0m\u001b[1;33m\u001b[0m\u001b[1;33m\u001b[0m\u001b[0m\n\u001b[0;32m   3504\u001b[0m                 \u001b[1;32mreturn\u001b[0m \u001b[0mself\u001b[0m\u001b[1;33m.\u001b[0m\u001b[0m_getitem_multilevel\u001b[0m\u001b[1;33m(\u001b[0m\u001b[0mkey\u001b[0m\u001b[1;33m)\u001b[0m\u001b[1;33m\u001b[0m\u001b[1;33m\u001b[0m\u001b[0m\n\u001b[1;32m-> 3505\u001b[1;33m             \u001b[0mindexer\u001b[0m \u001b[1;33m=\u001b[0m \u001b[0mself\u001b[0m\u001b[1;33m.\u001b[0m\u001b[0mcolumns\u001b[0m\u001b[1;33m.\u001b[0m\u001b[0mget_loc\u001b[0m\u001b[1;33m(\u001b[0m\u001b[0mkey\u001b[0m\u001b[1;33m)\u001b[0m\u001b[1;33m\u001b[0m\u001b[1;33m\u001b[0m\u001b[0m\n\u001b[0m\u001b[0;32m   3506\u001b[0m             \u001b[1;32mif\u001b[0m \u001b[0mis_integer\u001b[0m\u001b[1;33m(\u001b[0m\u001b[0mindexer\u001b[0m\u001b[1;33m)\u001b[0m\u001b[1;33m:\u001b[0m\u001b[1;33m\u001b[0m\u001b[1;33m\u001b[0m\u001b[0m\n\u001b[0;32m   3507\u001b[0m                 \u001b[0mindexer\u001b[0m \u001b[1;33m=\u001b[0m \u001b[1;33m[\u001b[0m\u001b[0mindexer\u001b[0m\u001b[1;33m]\u001b[0m\u001b[1;33m\u001b[0m\u001b[1;33m\u001b[0m\u001b[0m\n",
      "\u001b[1;32m~\\anaconda3\\lib\\site-packages\\pandas\\core\\indexes\\base.py\u001b[0m in \u001b[0;36mget_loc\u001b[1;34m(self, key, method, tolerance)\u001b[0m\n\u001b[0;32m   3629\u001b[0m                 \u001b[1;32mreturn\u001b[0m \u001b[0mself\u001b[0m\u001b[1;33m.\u001b[0m\u001b[0m_engine\u001b[0m\u001b[1;33m.\u001b[0m\u001b[0mget_loc\u001b[0m\u001b[1;33m(\u001b[0m\u001b[0mcasted_key\u001b[0m\u001b[1;33m)\u001b[0m\u001b[1;33m\u001b[0m\u001b[1;33m\u001b[0m\u001b[0m\n\u001b[0;32m   3630\u001b[0m             \u001b[1;32mexcept\u001b[0m \u001b[0mKeyError\u001b[0m \u001b[1;32mas\u001b[0m \u001b[0merr\u001b[0m\u001b[1;33m:\u001b[0m\u001b[1;33m\u001b[0m\u001b[1;33m\u001b[0m\u001b[0m\n\u001b[1;32m-> 3631\u001b[1;33m                 \u001b[1;32mraise\u001b[0m \u001b[0mKeyError\u001b[0m\u001b[1;33m(\u001b[0m\u001b[0mkey\u001b[0m\u001b[1;33m)\u001b[0m \u001b[1;32mfrom\u001b[0m \u001b[0merr\u001b[0m\u001b[1;33m\u001b[0m\u001b[1;33m\u001b[0m\u001b[0m\n\u001b[0m\u001b[0;32m   3632\u001b[0m             \u001b[1;32mexcept\u001b[0m \u001b[0mTypeError\u001b[0m\u001b[1;33m:\u001b[0m\u001b[1;33m\u001b[0m\u001b[1;33m\u001b[0m\u001b[0m\n\u001b[0;32m   3633\u001b[0m                 \u001b[1;31m# If we have a listlike key, _check_indexing_error will raise\u001b[0m\u001b[1;33m\u001b[0m\u001b[1;33m\u001b[0m\u001b[0m\n",
      "\u001b[1;31mKeyError\u001b[0m: 'date'"
     ]
    }
   ],
   "source": [
    "import pandas as pd    # 2.3 - tábla - Forrástábla fejléce hibás \",date_\" ezt tisztíttatni!!!!!!!\n",
    "import os\n",
    "\n",
    "# Beolvasás és célmappa meghatározása\n",
    "daily_ppc_budget_2 = pd.read_csv(\n",
    "    \"C:/Users/user/Desktop/PROMETHEUS/2024_PROJECT - D36 - DATA-SCIENCE-VERSENY/3_2. MORGENS - Data Science verseny/Alapadat letötések/Py_előkészítve/daily_ppc_budget_hotel_2.csv\",\n",
    "    sep=\",\"\n",
    ")\n",
    "\n",
    "# Ellenőrizd az oszlopokat újra\n",
    "print(\"A fájl oszlopnevei:\", daily_ppc_budget_2.columns)\n",
    "\n",
    "# Ha minden rendben, folytathatod az adattípus átalakítást\n",
    "daily_ppc_budget_2['date'] = daily_ppc_budget_2['date'].astype('object')\n",
    "daily_ppc_budget_2['daily_google_spend'] = pd.to_numeric(daily_ppc_budget_2['daily_google_spend'], errors='coerce').astype('Int64')\n",
    "daily_ppc_budget_2['daily_microsoft_spend'] = pd.to_numeric(daily_ppc_budget_2['daily_microsoft_spend'], errors='coerce').astype('Int64')\n",
    "daily_ppc_budget_2['daily_meta_spend'] = pd.to_numeric(daily_ppc_budget_2['daily_meta_spend'], errors='coerce').astype('Int64')\n",
    "\n",
    "# Új fájl mentése\n",
    "output_directory = \"C:/Users/user/Desktop/PROMETHEUS/2024_PROJECT - D36 - DATA-SCIENCE-VERSENY/3_2. MORGENS - Data Science verseny/Alapadat letötések/Py_TISZ_csv\"\n",
    "output_file_name = \"daily_ppc_budget_2_CLEAN.csv\"\n",
    "output_file_path = os.path.join(output_directory, output_file_name)\n",
    "daily_ppc_budget_2.to_csv(output_file_path, index=False, sep=\";\")\n",
    "\n",
    "print(f\"Módosított fájl mentve ide: {output_file_path}\")"
   ]
  },
  {
   "cell_type": "code",
   "execution_count": 10,
   "id": "449b35fa",
   "metadata": {},
   "outputs": [
    {
     "name": "stdout",
     "output_type": "stream",
     "text": [
      "A fájl oszlopnevei: Index(['Unnamed: 0', 'daily_google_spend', 'daily_microsoft_spend',\n",
      "       'daily_meta_spend'],\n",
      "      dtype='object')\n",
      "Módosított fájl mentve ide: C:/Users/user/Desktop/PROMETHEUS/2024_PROJECT - D36 - DATA-SCIENCE-VERSENY/3_2. MORGENS - Data Science verseny/Alapadat letötések/Py_TISZ_csv\\daily_ppc_budget_2_CLEAN.csv\n"
     ]
    }
   ],
   "source": [
    "import pandas as pd     # 2.3 - tábla - korigálva sikeres, ezt alk. a 3-ra\n",
    "import os\n",
    "\n",
    "# Beolvasás és célmappa meghatározása, index_col=None opcióval\n",
    "daily_ppc_budget_2 = pd.read_csv(\n",
    "    \"C:/Users/user/Desktop/PROMETHEUS/2024_PROJECT - D36 - DATA-SCIENCE-VERSENY/3_2. MORGENS - Data Science verseny/Alapadat letötések/Py_előkészítve/daily_ppc_budget_hotel_2.csv\",\n",
    "    sep=\",\",\n",
    "    index_col=None\n",
    ")\n",
    "\n",
    "# Ellenőrizzük az oszlopokat\n",
    "print(\"A fájl oszlopnevei:\", daily_ppc_budget_2.columns)\n",
    "\n",
    "# Ha van 'Unnamed: 0', nevezzük át 'date'-re\n",
    "if 'Unnamed: 0' in daily_ppc_budget_2.columns:\n",
    "    daily_ppc_budget_2 = daily_ppc_budget_2.rename(columns={'Unnamed: 0': 'date'})\n",
    "\n",
    "# Ha minden rendben, folytathatod az adattípus átalakítást\n",
    "daily_ppc_budget_2['date'] = daily_ppc_budget_2['date'].astype('object')\n",
    "daily_ppc_budget_2['daily_google_spend'] = pd.to_numeric(daily_ppc_budget_2['daily_google_spend'], errors='coerce').astype('Int64')\n",
    "daily_ppc_budget_2['daily_microsoft_spend'] = pd.to_numeric(daily_ppc_budget_2['daily_microsoft_spend'], errors='coerce').astype('Int64')\n",
    "daily_ppc_budget_2['daily_meta_spend'] = pd.to_numeric(daily_ppc_budget_2['daily_meta_spend'], errors='coerce').astype('Int64')\n",
    "\n",
    "# Új fájl mentése\n",
    "output_directory = \"C:/Users/user/Desktop/PROMETHEUS/2024_PROJECT - D36 - DATA-SCIENCE-VERSENY/3_2. MORGENS - Data Science verseny/Alapadat letötések/Py_TISZ_csv\"\n",
    "output_file_name = \"daily_ppc_budget_2_CLEAN.csv\"\n",
    "output_file_path = os.path.join(output_directory, output_file_name)\n",
    "daily_ppc_budget_2.to_csv(output_file_path, index=False, sep=\";\")\n",
    "\n",
    "print(f\"Módosított fájl mentve ide: {output_file_path}\")\n"
   ]
  },
  {
   "cell_type": "code",
   "execution_count": 11,
   "id": "29267de2",
   "metadata": {},
   "outputs": [
    {
     "name": "stdout",
     "output_type": "stream",
     "text": [
      "Módosított fájl mentve ide: C:/Users/user/Desktop/PROMETHEUS/2024_PROJECT - D36 - DATA-SCIENCE-VERSENY/3_2. MORGENS - Data Science verseny/Alapadat letötések/Py_TISZ_csv\\datepicker_daily_visitors_2_CLEAN.csv\n"
     ]
    }
   ],
   "source": [
    "import pandas as pd    # 2.4 - tábla (Oszlopnév konverzióval, csak akkor kell ha módosítani is akarom a céltába oszlopneveit)\n",
    "import os\n",
    "\n",
    "# Beolvasás és célmappa meghatározása\n",
    "input_file_path = \"C:/Users/user/Desktop/PROMETHEUS/2024_PROJECT - D36 - DATA-SCIENCE-VERSENY/3_2. MORGENS - Data Science verseny/Alapadat letötések/Py_előkészítve/datepicker_daily_visitors_hotel_2.csv\"\n",
    "output_directory = \"C:/Users/user/Desktop/PROMETHEUS/2024_PROJECT - D36 - DATA-SCIENCE-VERSENY/3_2. MORGENS - Data Science verseny/Alapadat letötések/Py_TISZ_csv\"\n",
    "\n",
    "# Fájl beolvasása\n",
    "datepicker_daily_visitors_2 = pd.read_csv(input_file_path, sep=\",\")\n",
    "\n",
    "# Fejléc átnevezése magyarból angolra\n",
    "datepicker_daily_visitors_2 = datepicker_daily_visitors_2.rename(columns={\n",
    "    'Dátum': 'Date',\n",
    "    'Felhasználók teljes száma': 'Total_users',\n",
    "    'Munkamenetek': 'Sessions'\n",
    "})\n",
    "\n",
    "# Adattípusok átalakítása az új oszlopnevekkel\n",
    "datepicker_daily_visitors_2['Date'] = datepicker_daily_visitors_2['Date'].astype('object')\n",
    "datepicker_daily_visitors_2['Total_users'] = pd.to_numeric(datepicker_daily_visitors_2['Total_users'], errors='coerce').astype('Int64')\n",
    "datepicker_daily_visitors_2['Sessions'] = pd.to_numeric(datepicker_daily_visitors_2['Sessions'], errors='coerce').astype('Int64')\n",
    "\n",
    "# Új fájlnév generálása\n",
    "output_file_name = \"datepicker_daily_visitors_2_CLEAN.csv\"\n",
    "output_file_path = os.path.join(output_directory, output_file_name)\n",
    "\n",
    "# Módosított adatfájl mentése új mappába\n",
    "datepicker_daily_visitors_2.to_csv(output_file_path, index=False, sep=\";\")\n",
    "\n",
    "# Ellenőrzés\n",
    "print(f\"Módosított fájl mentve ide: {output_file_path}\")"
   ]
  },
  {
   "cell_type": "code",
   "execution_count": 12,
   "id": "4a2a415f",
   "metadata": {},
   "outputs": [
    {
     "name": "stdout",
     "output_type": "stream",
     "text": [
      "Módosított fájl mentve ide: C:/Users/user/Desktop/PROMETHEUS/2024_PROJECT - D36 - DATA-SCIENCE-VERSENY/3_2. MORGENS - Data Science verseny/Alapadat letötések/Py_TISZ_csv\\search_log_2_CLEAN.csv\n"
     ]
    }
   ],
   "source": [
    "import pandas as pd    # 2.5 - tábla\n",
    "import os\n",
    "\n",
    "# Beolvasás és célmappa meghatározása\n",
    "search_log_2 = pd.read_csv(\"C:/Users/user/Desktop/PROMETHEUS/2024_PROJECT - D36 - DATA-SCIENCE-VERSENY/3_2. MORGENS - Data Science verseny/Alapadat letötések/Py_előkészítve/search_log_hotel_2.csv\", sep=\";\")\n",
    "output_directory = \"C:/Users/user/Desktop/PROMETHEUS/2024_PROJECT - D36 - DATA-SCIENCE-VERSENY/3_2. MORGENS - Data Science verseny/Alapadat letötések/Py_TISZ_csv\"\n",
    "\n",
    "# Adattípusok átalakítása\n",
    "search_log_2['id'] = pd.to_numeric(search_log_2['id'], errors='coerce').astype('Int64')\n",
    "search_log_2['search_log_session_id'] = pd.to_numeric(search_log_2['search_log_session_id'], errors='coerce').astype('Int64')\n",
    "search_log_2['utc_datetime'] = search_log_2['utc_datetime'].astype('object')\n",
    "search_log_2['lang_code'] = search_log_2['lang_code'].astype('object')\n",
    "search_log_2['arrival'] = search_log_2['arrival'].astype('object')\n",
    "search_log_2['departure'] = search_log_2['departure'].astype('object')\n",
    "search_log_2['days'] = pd.to_numeric(search_log_2['days'], errors='coerce').astype('Int64')\n",
    "search_log_2['nights'] = pd.to_numeric(search_log_2['nights'], errors='coerce').astype('Int64')\n",
    "search_log_2['adults'] = pd.to_numeric(search_log_2['adults'], errors='coerce').astype('Int64')\n",
    "search_log_2['children'] = pd.to_numeric(search_log_2['children'], errors='coerce').astype('Int64')\n",
    "search_log_2['conversion'] = pd.to_numeric(search_log_2['conversion'], errors='coerce').astype('float64')\n",
    "search_log_2['total_price_final'] = pd.to_numeric(search_log_2['total_price_final'], errors='coerce').astype('float64')\n",
    "\n",
    "# Új fájlnév generálása\n",
    "output_file_name = \"search_log_2_CLEAN.csv\"\n",
    "output_file_path = os.path.join(output_directory, output_file_name)\n",
    "\n",
    "# Módosított adatfájl mentése új mappába\n",
    "search_log_2.to_csv(output_file_path, index=False, sep=\";\")\n",
    "\n",
    "# Ellenőrzés\n",
    "print(f\"Módosított fájl mentve ide: {output_file_path}\")"
   ]
  },
  {
   "cell_type": "code",
   "execution_count": 13,
   "id": "c3503719",
   "metadata": {},
   "outputs": [
    {
     "name": "stdout",
     "output_type": "stream",
     "text": [
      "Módosított fájl mentve ide: C:/Users/user/Desktop/PROMETHEUS/2024_PROJECT - D36 - DATA-SCIENCE-VERSENY/3_2. MORGENS - Data Science verseny/Alapadat letötések/Py_TISZ_csv\\search_log_room_2_CLEAN.csv\n"
     ]
    }
   ],
   "source": [
    "import pandas as pd    # 2.6 - tábla - ennél lehet hogy a fenti három kódot (vagy az In[13]) alkalmazni kell mert az \"id\" vel és az elválasztóval volt probléma!\n",
    "import os\n",
    "\n",
    "# Fájl beolvasása a megfelelő oszlopelválasztó karakterrel\n",
    "search_log_room_2 = pd.read_csv(\n",
    "    \"C:/Users/user/Desktop/PROMETHEUS/2024_PROJECT - D36 - DATA-SCIENCE-VERSENY/3_2. MORGENS - Data Science verseny/Alapadat letötések/Py_előkészítve/search_log_room_hotel_2.csv\", \n",
    "    sep=\";\",  # Pontosvessző használata\n",
    ")\n",
    "\n",
    "# Az oszlopnevek tisztítása\n",
    "search_log_room_2.columns = search_log_room_2.columns.str.replace('\"', '').str.strip()\n",
    "\n",
    "# Adattípusok átalakítása\n",
    "search_log_room_2['id'] = pd.to_numeric(search_log_room_2['id'], errors='coerce').astype('Int64')\n",
    "search_log_room_2['search_log_id'] = pd.to_numeric(search_log_room_2['search_log_id'], errors='coerce').astype('Int64')\n",
    "search_log_room_2['adults'] = pd.to_numeric(search_log_room_2['adults'], errors='coerce').astype('Int64')\n",
    "search_log_room_2['children'] = pd.to_numeric(search_log_room_2['children'], errors='coerce').astype('Int64')\n",
    "search_log_room_2['picked_room'] = search_log_room_2['picked_room'].astype('object')\n",
    "search_log_room_2['picked_price'] = pd.to_numeric(search_log_room_2['picked_price'], errors='coerce').astype('float64')\n",
    "search_log_room_2['picked_room.1'] = search_log_room_2['picked_room.1'].astype('object')\n",
    "\n",
    "# Kimeneti fájlmentés új mappába\n",
    "output_directory = \"C:/Users/user/Desktop/PROMETHEUS/2024_PROJECT - D36 - DATA-SCIENCE-VERSENY/3_2. MORGENS - Data Science verseny/Alapadat letötések/Py_TISZ_csv\"\n",
    "output_file_name = \"search_log_room_2_CLEAN.csv\"\n",
    "output_file_path = os.path.join(output_directory, output_file_name)\n",
    "search_log_room_2.to_csv(output_file_path, index=False, sep=\";\")\n",
    "\n",
    "# Ellenőrzés\n",
    "print(f\"Módosított fájl mentve ide: {output_file_path}\")"
   ]
  },
  {
   "cell_type": "code",
   "execution_count": 16,
   "id": "c935ce15",
   "metadata": {},
   "outputs": [
    {
     "name": "stdout",
     "output_type": "stream",
     "text": [
      "Módosított fájl mentve ide: C:/Users/user/Desktop/PROMETHEUS/2024_PROJECT - D36 - DATA-SCIENCE-VERSENY/3_2. MORGENS - Data Science verseny/Alapadat letötések/Py_TISZ_csv\\search_log_room_offer_2_CLEAN.csv\n"
     ]
    }
   ],
   "source": [
    "import pandas as pd    # 2.7 - tábla - \n",
    "import os\n",
    "\n",
    "# Fájl beolvasása, a pontosvesszővel határolt CSV-t és a célmappát megadjuk\n",
    "search_log_room_offer_2 = pd.read_csv(\"C:/Users/user/Desktop/PROMETHEUS/2024_PROJECT - D36 - DATA-SCIENCE-VERSENY/3_2. MORGENS - Data Science verseny/Alapadat letötések/Py_előkészítve/search_log_room_offer_hotel_2.csv\", sep=\";\")\n",
    "output_directory = \"C:/Users/user/Desktop/PROMETHEUS/2024_PROJECT - D36 - DATA-SCIENCE-VERSENY/3_2. MORGENS - Data Science verseny/Alapadat letötések/Py_TISZ_csv\"\n",
    "\n",
    "# Az idézőjelek eltávolítása és a felesleges szóközök tisztítása az oszlopnevekben\n",
    "search_log_room_offer_2.columns = search_log_room_offer_2.columns.str.replace('\"', '').str.strip()\n",
    "\n",
    "# Adattípus átalakítások\n",
    "search_log_room_offer_2['id'] = pd.to_numeric(search_log_room_offer_2['id'], errors='coerce').astype('Int64')\n",
    "search_log_room_offer_2['search_log_id'] = pd.to_numeric(search_log_room_offer_2['search_log_id'], errors='coerce').astype('Int64')\n",
    "search_log_room_offer_2['search_log_room_id'] = pd.to_numeric(search_log_room_offer_2['search_log_room_id'], errors='coerce').astype('Int64')\n",
    "search_log_room_offer_2['room_code'] = search_log_room_offer_2['room_code'].astype('object')\n",
    "search_log_room_offer_2['room_price_min'] = pd.to_numeric(search_log_room_offer_2['room_price_min'], errors='coerce').astype('float64')\n",
    "search_log_room_offer_2['room_price_max'] = pd.to_numeric(search_log_room_offer_2['room_price_max'], errors='coerce').astype('float64')\n",
    "\n",
    "# Új fájlnév generálása\n",
    "output_file_name = \"search_log_room_offer_2_CLEAN.csv\"\n",
    "output_file_path = os.path.join(output_directory, output_file_name)\n",
    "\n",
    "# Módosított adatfájl mentése új mappába\n",
    "search_log_room_offer_2.to_csv(output_file_path, index=False, sep=\";\")\n",
    "\n",
    "# Ellenőrzés\n",
    "print(f\"Módosított fájl mentve ide: {output_file_path}\")"
   ]
  },
  {
   "cell_type": "code",
   "execution_count": 17,
   "id": "688b1e19",
   "metadata": {},
   "outputs": [
    {
     "name": "stdout",
     "output_type": "stream",
     "text": [
      "Módosított fájl mentve ide: C:/Users/user/Desktop/PROMETHEUS/2024_PROJECT - D36 - DATA-SCIENCE-VERSENY/3_2. MORGENS - Data Science verseny/Alapadat letötések/Py_TISZ_csv\\search_log_room_child_2_CLEAN.csv\n"
     ]
    }
   ],
   "source": [
    "import pandas as pd    # 2.8 - tábla - A NYERS ADATOK táblában hibásan van az \"search_log_room id\" így a jó \"search_log_room_id\" (Aláhúzás hiányzott az id elöl)!\n",
    "import os\n",
    "\n",
    "# Fájl beolvasása, a pontosvesszővel határolt CSV-t és a célmappát megadjuk\n",
    "search_log_room_child_2 = pd.read_csv(\"C:/Users/user/Desktop/PROMETHEUS/2024_PROJECT - D36 - DATA-SCIENCE-VERSENY/3_2. MORGENS - Data Science verseny/Alapadat letötések/Py_előkészítve/search_log_room_child_hotel_2.csv\", sep=\";\")\n",
    "output_directory = \"C:/Users/user/Desktop/PROMETHEUS/2024_PROJECT - D36 - DATA-SCIENCE-VERSENY/3_2. MORGENS - Data Science verseny/Alapadat letötések/Py_TISZ_csv\"\n",
    "\n",
    "# Az idézőjelek eltávolítása és a felesleges szóközök tisztítása az oszlopnevekben\n",
    "search_log_room_child_2.columns = search_log_room_child_2.columns.str.replace('\"', '').str.strip()\n",
    "\n",
    "# Adattípus átalakítások\n",
    "search_log_room_child_2['id'] = pd.to_numeric(search_log_room_child_2['id'], errors='coerce').astype('Int64')\n",
    "search_log_room_child_2['search_log_room_id'] = pd.to_numeric(search_log_room_child_2['search_log_room_id'], errors='coerce').astype('Int64')\n",
    "search_log_room_child_2['age'] = pd.to_numeric(search_log_room_child_2['age'], errors='coerce').astype('Int64')\n",
    "search_log_room_child_2['baby_bed'] = pd.to_numeric(search_log_room_child_2['baby_bed'], errors='coerce').astype('Int8')  # tinyint átalakítása\n",
    "\n",
    "# Új fájlnév generálása\n",
    "output_file_name = \"search_log_room_child_2_CLEAN.csv\"\n",
    "output_file_path = os.path.join(output_directory, output_file_name)\n",
    "\n",
    "# Módosított adatfájl mentése új mappába\n",
    "search_log_room_child_2.to_csv(output_file_path, index=False, sep=\";\")\n",
    "\n",
    "# Ellenőrzés\n",
    "print(f\"Módosított fájl mentve ide: {output_file_path}\")\n"
   ]
  },
  {
   "cell_type": "code",
   "execution_count": 18,
   "id": "48049946",
   "metadata": {},
   "outputs": [
    {
     "name": "stdout",
     "output_type": "stream",
     "text": [
      "Módosított fájl mentve ide: C:/Users/user/Desktop/PROMETHEUS/2024_PROJECT - D36 - DATA-SCIENCE-VERSENY/3_2. MORGENS - Data Science verseny/Alapadat letötések/Py_TISZ_csv\\search_log_session_2_CLEAN.csv\n"
     ]
    }
   ],
   "source": [
    "import pandas as pd    # 2.9 - tábla (Első full saját, és elsőre jó!!!!!!!!!!!!)  Itt kell majd adattisztítani B, C oszlopban!\n",
    "import os\n",
    "\n",
    "# Fájl beolvasása, a pontosvesszővel határolt CSV-t és a célmappát megadjuk\n",
    "search_log_session_2 = pd.read_csv(\"C:/Users/user/Desktop/PROMETHEUS/2024_PROJECT - D36 - DATA-SCIENCE-VERSENY/3_2. MORGENS - Data Science verseny/Alapadat letötések/Py_előkészítve/search_log_session_hotel_2.csv\", sep=\";\")\n",
    "output_directory = \"C:/Users/user/Desktop/PROMETHEUS/2024_PROJECT - D36 - DATA-SCIENCE-VERSENY/3_2. MORGENS - Data Science verseny/Alapadat letötések/Py_TISZ_csv\"\n",
    "\n",
    "# Az idézőjelek eltávolítása és a felesleges szóközök tisztítása az oszlopnevekben\n",
    "search_log_session_2.columns = search_log_session_2.columns.str.replace('\"', '').str.strip()\n",
    "\n",
    "# Adattípus átalakítások\n",
    "search_log_session_2['id'] = pd.to_numeric(search_log_session_2['id'], errors='coerce').astype('Int64')\n",
    "search_log_session_2['uuid'] = search_log_session_2['uuid'].astype('object')\n",
    "search_log_session_2['session_id'] = pd.to_numeric(search_log_session_2['session_id'], errors='coerce').astype('Int64')\n",
    "search_log_session_2['utm_source'] = search_log_session_2['utm_source'].astype('object')\n",
    "search_log_session_2['utm_medium'] = search_log_session_2['utm_medium'].astype('object')\n",
    "search_log_session_2['utm_campaign'] = search_log_session_2['utm_campaign'].astype('object')\n",
    "\n",
    "# Új fájlnév generálása\n",
    "output_file_name = \"search_log_session_2_CLEAN.csv\"\n",
    "output_file_path = os.path.join(output_directory, output_file_name)\n",
    "\n",
    "# Módosított adatfájl mentése új mappába\n",
    "search_log_session_2.to_csv(output_file_path, index=False, sep=\";\")\n",
    "\n",
    "# Ellenőrzés\n",
    "print(f\"Módosított fájl mentve ide: {output_file_path}\")"
   ]
  },
  {
   "cell_type": "code",
   "execution_count": 20,
   "id": "0700056d",
   "metadata": {},
   "outputs": [
    {
     "ename": "UnicodeDecodeError",
     "evalue": "'utf-8' codec can't decode byte 0xe1 in position 656: invalid continuation byte",
     "output_type": "error",
     "traceback": [
      "\u001b[1;31m---------------------------------------------------------------------------\u001b[0m",
      "\u001b[1;31mUnicodeDecodeError\u001b[0m                        Traceback (most recent call last)",
      "\u001b[1;32m~\\AppData\\Local\\Temp\\ipykernel_11660\\2621765768.py\u001b[0m in \u001b[0;36m<module>\u001b[1;34m\u001b[0m\n\u001b[0;32m      3\u001b[0m \u001b[1;33m\u001b[0m\u001b[0m\n\u001b[0;32m      4\u001b[0m \u001b[1;31m# Fájl beolvasása, a pontosvesszővel határolt CSV-t és a célmappát megadjuk\u001b[0m\u001b[1;33m\u001b[0m\u001b[1;33m\u001b[0m\u001b[0m\n\u001b[1;32m----> 5\u001b[1;33m \u001b[0mwebsite_daily_users_2\u001b[0m \u001b[1;33m=\u001b[0m \u001b[0mpd\u001b[0m\u001b[1;33m.\u001b[0m\u001b[0mread_csv\u001b[0m\u001b[1;33m(\u001b[0m\u001b[1;34m\"C:/Users/user/Desktop/PROMETHEUS/2024_PROJECT - D36 - DATA-SCIENCE-VERSENY/3_2. MORGENS - Data Science verseny/Alapadat letötések/Py_előkészítve/website_daily_users_hotel_2.csv\"\u001b[0m\u001b[1;33m,\u001b[0m \u001b[0msep\u001b[0m\u001b[1;33m=\u001b[0m\u001b[1;34m\";\"\u001b[0m\u001b[1;33m)\u001b[0m\u001b[1;33m\u001b[0m\u001b[1;33m\u001b[0m\u001b[0m\n\u001b[0m\u001b[0;32m      6\u001b[0m \u001b[0moutput_directory\u001b[0m \u001b[1;33m=\u001b[0m \u001b[1;34m\"C:/Users/user/Desktop/PROMETHEUS/2024_PROJECT - D36 - DATA-SCIENCE-VERSENY/3_2. MORGENS - Data Science verseny/Alapadat letötések/Py_TISZ_csv\"\u001b[0m\u001b[1;33m\u001b[0m\u001b[1;33m\u001b[0m\u001b[0m\n\u001b[0;32m      7\u001b[0m \u001b[1;33m\u001b[0m\u001b[0m\n",
      "\u001b[1;32m~\\anaconda3\\lib\\site-packages\\pandas\\util\\_decorators.py\u001b[0m in \u001b[0;36mwrapper\u001b[1;34m(*args, **kwargs)\u001b[0m\n\u001b[0;32m    309\u001b[0m                     \u001b[0mstacklevel\u001b[0m\u001b[1;33m=\u001b[0m\u001b[0mstacklevel\u001b[0m\u001b[1;33m,\u001b[0m\u001b[1;33m\u001b[0m\u001b[1;33m\u001b[0m\u001b[0m\n\u001b[0;32m    310\u001b[0m                 )\n\u001b[1;32m--> 311\u001b[1;33m             \u001b[1;32mreturn\u001b[0m \u001b[0mfunc\u001b[0m\u001b[1;33m(\u001b[0m\u001b[1;33m*\u001b[0m\u001b[0margs\u001b[0m\u001b[1;33m,\u001b[0m \u001b[1;33m**\u001b[0m\u001b[0mkwargs\u001b[0m\u001b[1;33m)\u001b[0m\u001b[1;33m\u001b[0m\u001b[1;33m\u001b[0m\u001b[0m\n\u001b[0m\u001b[0;32m    312\u001b[0m \u001b[1;33m\u001b[0m\u001b[0m\n\u001b[0;32m    313\u001b[0m         \u001b[1;32mreturn\u001b[0m \u001b[0mwrapper\u001b[0m\u001b[1;33m\u001b[0m\u001b[1;33m\u001b[0m\u001b[0m\n",
      "\u001b[1;32m~\\anaconda3\\lib\\site-packages\\pandas\\io\\parsers\\readers.py\u001b[0m in \u001b[0;36mread_csv\u001b[1;34m(filepath_or_buffer, sep, delimiter, header, names, index_col, usecols, squeeze, prefix, mangle_dupe_cols, dtype, engine, converters, true_values, false_values, skipinitialspace, skiprows, skipfooter, nrows, na_values, keep_default_na, na_filter, verbose, skip_blank_lines, parse_dates, infer_datetime_format, keep_date_col, date_parser, dayfirst, cache_dates, iterator, chunksize, compression, thousands, decimal, lineterminator, quotechar, quoting, doublequote, escapechar, comment, encoding, encoding_errors, dialect, error_bad_lines, warn_bad_lines, on_bad_lines, delim_whitespace, low_memory, memory_map, float_precision, storage_options)\u001b[0m\n\u001b[0;32m    676\u001b[0m     \u001b[0mkwds\u001b[0m\u001b[1;33m.\u001b[0m\u001b[0mupdate\u001b[0m\u001b[1;33m(\u001b[0m\u001b[0mkwds_defaults\u001b[0m\u001b[1;33m)\u001b[0m\u001b[1;33m\u001b[0m\u001b[1;33m\u001b[0m\u001b[0m\n\u001b[0;32m    677\u001b[0m \u001b[1;33m\u001b[0m\u001b[0m\n\u001b[1;32m--> 678\u001b[1;33m     \u001b[1;32mreturn\u001b[0m \u001b[0m_read\u001b[0m\u001b[1;33m(\u001b[0m\u001b[0mfilepath_or_buffer\u001b[0m\u001b[1;33m,\u001b[0m \u001b[0mkwds\u001b[0m\u001b[1;33m)\u001b[0m\u001b[1;33m\u001b[0m\u001b[1;33m\u001b[0m\u001b[0m\n\u001b[0m\u001b[0;32m    679\u001b[0m \u001b[1;33m\u001b[0m\u001b[0m\n\u001b[0;32m    680\u001b[0m \u001b[1;33m\u001b[0m\u001b[0m\n",
      "\u001b[1;32m~\\anaconda3\\lib\\site-packages\\pandas\\io\\parsers\\readers.py\u001b[0m in \u001b[0;36m_read\u001b[1;34m(filepath_or_buffer, kwds)\u001b[0m\n\u001b[0;32m    573\u001b[0m \u001b[1;33m\u001b[0m\u001b[0m\n\u001b[0;32m    574\u001b[0m     \u001b[1;31m# Create the parser.\u001b[0m\u001b[1;33m\u001b[0m\u001b[1;33m\u001b[0m\u001b[0m\n\u001b[1;32m--> 575\u001b[1;33m     \u001b[0mparser\u001b[0m \u001b[1;33m=\u001b[0m \u001b[0mTextFileReader\u001b[0m\u001b[1;33m(\u001b[0m\u001b[0mfilepath_or_buffer\u001b[0m\u001b[1;33m,\u001b[0m \u001b[1;33m**\u001b[0m\u001b[0mkwds\u001b[0m\u001b[1;33m)\u001b[0m\u001b[1;33m\u001b[0m\u001b[1;33m\u001b[0m\u001b[0m\n\u001b[0m\u001b[0;32m    576\u001b[0m \u001b[1;33m\u001b[0m\u001b[0m\n\u001b[0;32m    577\u001b[0m     \u001b[1;32mif\u001b[0m \u001b[0mchunksize\u001b[0m \u001b[1;32mor\u001b[0m \u001b[0miterator\u001b[0m\u001b[1;33m:\u001b[0m\u001b[1;33m\u001b[0m\u001b[1;33m\u001b[0m\u001b[0m\n",
      "\u001b[1;32m~\\anaconda3\\lib\\site-packages\\pandas\\io\\parsers\\readers.py\u001b[0m in \u001b[0;36m__init__\u001b[1;34m(self, f, engine, **kwds)\u001b[0m\n\u001b[0;32m    930\u001b[0m \u001b[1;33m\u001b[0m\u001b[0m\n\u001b[0;32m    931\u001b[0m         \u001b[0mself\u001b[0m\u001b[1;33m.\u001b[0m\u001b[0mhandles\u001b[0m\u001b[1;33m:\u001b[0m \u001b[0mIOHandles\u001b[0m \u001b[1;33m|\u001b[0m \u001b[1;32mNone\u001b[0m \u001b[1;33m=\u001b[0m \u001b[1;32mNone\u001b[0m\u001b[1;33m\u001b[0m\u001b[1;33m\u001b[0m\u001b[0m\n\u001b[1;32m--> 932\u001b[1;33m         \u001b[0mself\u001b[0m\u001b[1;33m.\u001b[0m\u001b[0m_engine\u001b[0m \u001b[1;33m=\u001b[0m \u001b[0mself\u001b[0m\u001b[1;33m.\u001b[0m\u001b[0m_make_engine\u001b[0m\u001b[1;33m(\u001b[0m\u001b[0mf\u001b[0m\u001b[1;33m,\u001b[0m \u001b[0mself\u001b[0m\u001b[1;33m.\u001b[0m\u001b[0mengine\u001b[0m\u001b[1;33m)\u001b[0m\u001b[1;33m\u001b[0m\u001b[1;33m\u001b[0m\u001b[0m\n\u001b[0m\u001b[0;32m    933\u001b[0m \u001b[1;33m\u001b[0m\u001b[0m\n\u001b[0;32m    934\u001b[0m     \u001b[1;32mdef\u001b[0m \u001b[0mclose\u001b[0m\u001b[1;33m(\u001b[0m\u001b[0mself\u001b[0m\u001b[1;33m)\u001b[0m\u001b[1;33m:\u001b[0m\u001b[1;33m\u001b[0m\u001b[1;33m\u001b[0m\u001b[0m\n",
      "\u001b[1;32m~\\anaconda3\\lib\\site-packages\\pandas\\io\\parsers\\readers.py\u001b[0m in \u001b[0;36m_make_engine\u001b[1;34m(self, f, engine)\u001b[0m\n\u001b[0;32m   1232\u001b[0m \u001b[1;33m\u001b[0m\u001b[0m\n\u001b[0;32m   1233\u001b[0m         \u001b[1;32mtry\u001b[0m\u001b[1;33m:\u001b[0m\u001b[1;33m\u001b[0m\u001b[1;33m\u001b[0m\u001b[0m\n\u001b[1;32m-> 1234\u001b[1;33m             \u001b[1;32mreturn\u001b[0m \u001b[0mmapping\u001b[0m\u001b[1;33m[\u001b[0m\u001b[0mengine\u001b[0m\u001b[1;33m]\u001b[0m\u001b[1;33m(\u001b[0m\u001b[0mf\u001b[0m\u001b[1;33m,\u001b[0m \u001b[1;33m**\u001b[0m\u001b[0mself\u001b[0m\u001b[1;33m.\u001b[0m\u001b[0moptions\u001b[0m\u001b[1;33m)\u001b[0m\u001b[1;33m\u001b[0m\u001b[1;33m\u001b[0m\u001b[0m\n\u001b[0m\u001b[0;32m   1235\u001b[0m         \u001b[1;32mexcept\u001b[0m \u001b[0mException\u001b[0m\u001b[1;33m:\u001b[0m\u001b[1;33m\u001b[0m\u001b[1;33m\u001b[0m\u001b[0m\n\u001b[0;32m   1236\u001b[0m             \u001b[1;32mif\u001b[0m \u001b[0mself\u001b[0m\u001b[1;33m.\u001b[0m\u001b[0mhandles\u001b[0m \u001b[1;32mis\u001b[0m \u001b[1;32mnot\u001b[0m \u001b[1;32mNone\u001b[0m\u001b[1;33m:\u001b[0m\u001b[1;33m\u001b[0m\u001b[1;33m\u001b[0m\u001b[0m\n",
      "\u001b[1;32m~\\anaconda3\\lib\\site-packages\\pandas\\io\\parsers\\c_parser_wrapper.py\u001b[0m in \u001b[0;36m__init__\u001b[1;34m(self, src, **kwds)\u001b[0m\n\u001b[0;32m     73\u001b[0m \u001b[1;33m\u001b[0m\u001b[0m\n\u001b[0;32m     74\u001b[0m         \u001b[0mkwds\u001b[0m\u001b[1;33m[\u001b[0m\u001b[1;34m\"dtype\"\u001b[0m\u001b[1;33m]\u001b[0m \u001b[1;33m=\u001b[0m \u001b[0mensure_dtype_objs\u001b[0m\u001b[1;33m(\u001b[0m\u001b[0mkwds\u001b[0m\u001b[1;33m.\u001b[0m\u001b[0mget\u001b[0m\u001b[1;33m(\u001b[0m\u001b[1;34m\"dtype\"\u001b[0m\u001b[1;33m,\u001b[0m \u001b[1;32mNone\u001b[0m\u001b[1;33m)\u001b[0m\u001b[1;33m)\u001b[0m\u001b[1;33m\u001b[0m\u001b[1;33m\u001b[0m\u001b[0m\n\u001b[1;32m---> 75\u001b[1;33m         \u001b[0mself\u001b[0m\u001b[1;33m.\u001b[0m\u001b[0m_reader\u001b[0m \u001b[1;33m=\u001b[0m \u001b[0mparsers\u001b[0m\u001b[1;33m.\u001b[0m\u001b[0mTextReader\u001b[0m\u001b[1;33m(\u001b[0m\u001b[0msrc\u001b[0m\u001b[1;33m,\u001b[0m \u001b[1;33m**\u001b[0m\u001b[0mkwds\u001b[0m\u001b[1;33m)\u001b[0m\u001b[1;33m\u001b[0m\u001b[1;33m\u001b[0m\u001b[0m\n\u001b[0m\u001b[0;32m     76\u001b[0m \u001b[1;33m\u001b[0m\u001b[0m\n\u001b[0;32m     77\u001b[0m         \u001b[0mself\u001b[0m\u001b[1;33m.\u001b[0m\u001b[0munnamed_cols\u001b[0m \u001b[1;33m=\u001b[0m \u001b[0mself\u001b[0m\u001b[1;33m.\u001b[0m\u001b[0m_reader\u001b[0m\u001b[1;33m.\u001b[0m\u001b[0munnamed_cols\u001b[0m\u001b[1;33m\u001b[0m\u001b[1;33m\u001b[0m\u001b[0m\n",
      "\u001b[1;32m~\\anaconda3\\lib\\site-packages\\pandas\\_libs\\parsers.pyx\u001b[0m in \u001b[0;36mpandas._libs.parsers.TextReader.__cinit__\u001b[1;34m()\u001b[0m\n",
      "\u001b[1;32m~\\anaconda3\\lib\\site-packages\\pandas\\_libs\\parsers.pyx\u001b[0m in \u001b[0;36mpandas._libs.parsers.TextReader._get_header\u001b[1;34m()\u001b[0m\n",
      "\u001b[1;32m~\\anaconda3\\lib\\site-packages\\pandas\\_libs\\parsers.pyx\u001b[0m in \u001b[0;36mpandas._libs.parsers.TextReader._tokenize_rows\u001b[1;34m()\u001b[0m\n",
      "\u001b[1;32m~\\anaconda3\\lib\\site-packages\\pandas\\_libs\\parsers.pyx\u001b[0m in \u001b[0;36mpandas._libs.parsers.raise_parser_error\u001b[1;34m()\u001b[0m\n",
      "\u001b[1;31mUnicodeDecodeError\u001b[0m: 'utf-8' codec can't decode byte 0xe1 in position 656: invalid continuation byte"
     ]
    }
   ],
   "source": [
    "import pandas as pd    # 2.10 - tábla (Második full saját, és elsőre jó!!!!!!!!!!!!) Itt kell majd adattisztítani D, E, F oszlopban!\n",
    "import os\n",
    "\n",
    "# Fájl beolvasása, a pontosvesszővel határolt CSV-t és a célmappát megadjuk\n",
    "website_daily_users_2 = pd.read_csv(\"C:/Users/user/Desktop/PROMETHEUS/2024_PROJECT - D36 - DATA-SCIENCE-VERSENY/3_2. MORGENS - Data Science verseny/Alapadat letötések/Py_előkészítve/website_daily_users_hotel_2.csv\", sep=\";\")\n",
    "output_directory = \"C:/Users/user/Desktop/PROMETHEUS/2024_PROJECT - D36 - DATA-SCIENCE-VERSENY/3_2. MORGENS - Data Science verseny/Alapadat letötések/Py_TISZ_csv\"\n",
    "\n",
    "# Az idézőjelek eltávolítása és a felesleges szóközök tisztítása az oszlopnevekben\n",
    "website_daily_users_2.columns = website_daily_users_2.columns.str.replace('\"', '').str.strip()\n",
    "\n",
    "# Adattípus átalakítások\n",
    "website_daily_users_2['date'] = website_daily_users_2['date'].astype('object')\n",
    "website_daily_users_2['utm_source_and_medium'] = website_daily_users_2['utm_source_and_medium'].astype('object')\n",
    "website_daily_users_2['utm_campaign'] = website_daily_users_2['utm_campaign'].astype('object')\n",
    "website_daily_users_2['user_count'] = pd.to_numeric(website_daily_users_2['user_count'], errors='coerce').astype('Int64')\n",
    "\n",
    "# Új fájlnév generálása\n",
    "output_file_name = \"website_daily_users_2_CLEAN.csv\"\n",
    "output_file_path = os.path.join(output_directory, output_file_name)\n",
    "\n",
    "# Módosított adatfájl mentése új mappába\n",
    "website_daily_users_2.to_csv(output_file_path, index=False, sep=\";\")\n",
    "\n",
    "# Ellenőrzés\n",
    "print(f\"Módosított fájl mentve ide: {output_file_path}\")"
   ]
  },
  {
   "cell_type": "code",
   "execution_count": 21,
   "id": "29453f4b",
   "metadata": {},
   "outputs": [
    {
     "name": "stdout",
     "output_type": "stream",
     "text": [
      "Módosított fájl mentve ide: C:/Users/user/Desktop/PROMETHEUS/2024_PROJECT - D36 - DATA-SCIENCE-VERSENY/3_2. MORGENS - Data Science verseny/Alapadat letötések/Py_TISZ_csv\\website_daily_users_2_CLEAN.csv\n"
     ]
    }
   ],
   "source": [
    "import pandas as pd\n",
    "import os\n",
    "\n",
    "# Fájl beolvasása, a pontosvesszővel határolt CSV-t és a célmappát megadjuk\n",
    "website_daily_users_2 = pd.read_csv(\n",
    "    \"C:/Users/user/Desktop/PROMETHEUS/2024_PROJECT - D36 - DATA-SCIENCE-VERSENY/3_2. MORGENS - Data Science verseny/Alapadat letötések/Py_előkészítve/website_daily_users_hotel_2.csv\",\n",
    "    sep=\";\",\n",
    "    encoding=\"ISO-8859-1\"  # Kódolás beállítása\n",
    ")\n",
    "\n",
    "output_directory = \"C:/Users/user/Desktop/PROMETHEUS/2024_PROJECT - D36 - DATA-SCIENCE-VERSENY/3_2. MORGENS - Data Science verseny/Alapadat letötések/Py_TISZ_csv\"\n",
    "\n",
    "# Az idézőjelek eltávolítása és a felesleges szóközök tisztítása az oszlopnevekben\n",
    "website_daily_users_2.columns = website_daily_users_2.columns.str.replace('\"', '').str.strip()\n",
    "\n",
    "# Adattípus átalakítások\n",
    "website_daily_users_2['date'] = website_daily_users_2['date'].astype('object')\n",
    "website_daily_users_2['utm_source_and_medium'] = website_daily_users_2['utm_source_and_medium'].astype('object')\n",
    "website_daily_users_2['utm_campaign'] = website_daily_users_2['utm_campaign'].astype('object')\n",
    "website_daily_users_2['user_count'] = pd.to_numeric(website_daily_users_2['user_count'], errors='coerce').astype('Int64')\n",
    "\n",
    "# Új fájlnév generálása\n",
    "output_file_name = \"website_daily_users_2_CLEAN.csv\"\n",
    "output_file_path = os.path.join(output_directory, output_file_name)\n",
    "\n",
    "# Módosított adatfájl mentése új mappába\n",
    "website_daily_users_2.to_csv(output_file_path, index=False, sep=\";\")\n",
    "\n",
    "# Ellenőrzés\n",
    "print(f\"Módosított fájl mentve ide: {output_file_path}\")\n"
   ]
  },
  {
   "cell_type": "code",
   "execution_count": 22,
   "id": "2cdb70f3",
   "metadata": {},
   "outputs": [
    {
     "name": "stdout",
     "output_type": "stream",
     "text": [
      "Módosított fájl mentve ide: C:/Users/user/Desktop/PROMETHEUS/2024_PROJECT - D36 - DATA-SCIENCE-VERSENY/3_2. MORGENS - Data Science verseny/Alapadat letötések/Py_TISZ_csv\\upsell_data_2_CLEAN.csv\n"
     ]
    }
   ],
   "source": [
    "import pandas as pd    # 2.11 - tábla (Második full saját, és elsőre jó!!!!!!!!!!!!) Itt kell majd adattisztítani D, E, F oszlopban!\n",
    "import os\n",
    "\n",
    "# Fájl beolvasása, a pontosvesszővel határolt CSV-t és a célmappát megadjuk\n",
    "upsell_data_2 = pd.read_csv(\"C:/Users/user/Desktop/PROMETHEUS/2024_PROJECT - D36 - DATA-SCIENCE-VERSENY/3_2. MORGENS - Data Science verseny/Alapadat letötések/Py_előkészítve/upsell_data_hotel_2.csv\", sep=\";\")\n",
    "output_directory = \"C:/Users/user/Desktop/PROMETHEUS/2024_PROJECT - D36 - DATA-SCIENCE-VERSENY/3_2. MORGENS - Data Science verseny/Alapadat letötések/Py_TISZ_csv\"\n",
    "\n",
    "# Az idézőjelek eltávolítása és a felesleges szóközök tisztítása az oszlopnevekben\n",
    "upsell_data_2.columns = upsell_data_2.columns.str.replace('\"', '').str.strip()\n",
    "\n",
    "# Adattípus átalakítások\n",
    "upsell_data_2['search_log_id'] = pd.to_numeric(upsell_data_2['search_log_id'], errors='coerce').astype('Int64')\n",
    "upsell_data_2['upsell_type'] = pd.to_numeric(upsell_data_2['upsell_type'], errors='coerce').astype('Int64')\n",
    "upsell_data_2['name'] = upsell_data_2['name'].astype('object')\n",
    "upsell_data_2['unit_price'] = pd.to_numeric(upsell_data_2['unit_price'], errors='coerce').astype('float64')\n",
    "upsell_data_2['pieces'] = pd.to_numeric(upsell_data_2['pieces'], errors='coerce').astype('Int64')\n",
    "upsell_data_2['sum_price'] = pd.to_numeric(upsell_data_2['sum_price'], errors='coerce').astype('float64')\n",
    "\n",
    "# Új fájlnév generálása\n",
    "output_file_name = \"upsell_data_2_CLEAN.csv\"\n",
    "output_file_path = os.path.join(output_directory, output_file_name)\n",
    "\n",
    "# Módosított adatfájl mentése új mappába\n",
    "upsell_data_2.to_csv(output_file_path, index=False, sep=\";\")\n",
    "\n",
    "# Ellenőrzés\n",
    "print(f\"Módosított fájl mentve ide: {output_file_path}\")"
   ]
  },
  {
   "cell_type": "code",
   "execution_count": null,
   "id": "309e9755",
   "metadata": {},
   "outputs": [],
   "source": []
  }
 ],
 "metadata": {
  "kernelspec": {
   "display_name": "Python 3 (ipykernel)",
   "language": "python",
   "name": "python3"
  },
  "language_info": {
   "codemirror_mode": {
    "name": "ipython",
    "version": 3
   },
   "file_extension": ".py",
   "mimetype": "text/x-python",
   "name": "python",
   "nbconvert_exporter": "python",
   "pygments_lexer": "ipython3",
   "version": "3.9.13"
  }
 },
 "nbformat": 4,
 "nbformat_minor": 5
}
