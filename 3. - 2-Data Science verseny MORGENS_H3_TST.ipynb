{
 "cells": [
  {
   "cell_type": "code",
   "execution_count": 1,
   "id": "797430b7",
   "metadata": {},
   "outputs": [
    {
     "name": "stdout",
     "output_type": "stream",
     "text": [
      "Módosított fájl mentve ide: C:/Users/user/Desktop/PROMETHEUS/2024_PROJECT - D36 - DATA-SCIENCE-VERSENY/3_2. MORGENS - Data Science verseny/Alapadat letötések/Py_TISZ_csv\\booking_data_3_CLEAN.csv\n"
     ]
    }
   ],
   "source": [
    "import pandas as pd    # 3.1 - tábla\n",
    "import os\n",
    "\n",
    "# Beolvasás és célmappa meghatározása\n",
    "input_file_path = \"C:/Users/user/Desktop/PROMETHEUS/2024_PROJECT - D36 - DATA-SCIENCE-VERSENY/3_2. MORGENS - Data Science verseny/Alapadat letötések/Py_előkészítve/booking_data_hotel_3.csv\"\n",
    "output_directory = \"C:/Users/user/Desktop/PROMETHEUS/2024_PROJECT - D36 - DATA-SCIENCE-VERSENY/3_2. MORGENS - Data Science verseny/Alapadat letötések/Py_TISZ_csv\"\n",
    "\n",
    "# Fájl beolvasása\n",
    "booking_3 = pd.read_csv(input_file_path, sep=\";\")\n",
    "\n",
    "# Adattípusok átalakítása\n",
    "booking_3['search_log_id'] = pd.to_numeric(booking_3['search_log_id'], errors='coerce').astype('Int64')\n",
    "booking_3['total_price_final'] = pd.to_numeric(booking_3['total_price_final'], errors='coerce').astype('float64')\n",
    "booking_3['rooms_total_price'] = pd.to_numeric(booking_3['rooms_total_price'], errors='coerce').astype('float64')\n",
    "booking_3['upsell_total_price'] = pd.to_numeric(booking_3['upsell_total_price'], errors='coerce').astype('float64')\n",
    "booking_3['vouchers_total_price'] = pd.to_numeric(booking_3['vouchers_total_price'], errors='coerce').astype('Int64')\n",
    "booking_3['loyalty_discount_total'] = pd.to_numeric(booking_3['loyalty_discount_total'], errors='coerce').astype('float64')\n",
    "booking_3['redeemed_loyalty_points_total'] = pd.to_numeric(booking_3['redeemed_loyalty_points_total'], errors='coerce').astype('float64')\n",
    "\n",
    "# Új fájlnév generálása\n",
    "output_file_name = \"booking_data_3_CLEAN.csv\"\n",
    "output_file_path = os.path.join(output_directory, output_file_name)\n",
    "\n",
    "# Módosított adatfájl mentése új mappába\n",
    "booking_3.to_csv(output_file_path, index=False, sep=\";\")\n",
    "\n",
    "# Ellenőrzés\n",
    "print(f\"Módosított fájl mentve ide: {output_file_path}\")"
   ]
  },
  {
   "cell_type": "code",
   "execution_count": 2,
   "id": "6e2777eb",
   "metadata": {},
   "outputs": [
    {
     "name": "stdout",
     "output_type": "stream",
     "text": [
      "Módosított fájl mentve ide: C:/Users/user/Desktop/PROMETHEUS/2024_PROJECT - D36 - DATA-SCIENCE-VERSENY/3_2. MORGENS - Data Science verseny/Alapadat letötések/Py_TISZ_csv\\daily_occupancy_3_CLEAN.csv\n"
     ]
    }
   ],
   "source": [
    "import pandas as pd    # 3.2 - tábla\n",
    "import os\n",
    "\n",
    "# Beolvasás és célmappa meghatározása\n",
    "daily_occupancy_3 = pd.read_csv(\"C:/Users/user/Desktop/PROMETHEUS/2024_PROJECT - D36 - DATA-SCIENCE-VERSENY/3_2. MORGENS - Data Science verseny/Alapadat letötések/Py_előkészítve/daily_occupancy_hotel_3.csv\", sep=\";\")\n",
    "output_directory = \"C:/Users/user/Desktop/PROMETHEUS/2024_PROJECT - D36 - DATA-SCIENCE-VERSENY/3_2. MORGENS - Data Science verseny/Alapadat letötések/Py_TISZ_csv\"\n",
    "\n",
    "# Fájl beolvasása\n",
    "daily_occupancy_hotel_3 = pd.read_csv(input_file_path, sep=\";\")\n",
    "\n",
    "# Adattípusok átalakítása\n",
    "daily_occupancy_3['recording_date'] = daily_occupancy_3['recording_date'].astype('object')\n",
    "daily_occupancy_3['subject_date'] = daily_occupancy_3['subject_date'].astype('object')\n",
    "daily_occupancy_3['fill_rate'] = pd.to_numeric(daily_occupancy_3['fill_rate'], errors='coerce').astype('float64')\n",
    "\n",
    "# Új fájlnév generálása\n",
    "output_file_name = \"daily_occupancy_3_CLEAN.csv\"\n",
    "output_file_path = os.path.join(output_directory, output_file_name)\n",
    "\n",
    "# Módosított adatfájl mentése új mappába\n",
    "daily_occupancy_3.to_csv(output_file_path, index=False, sep=\";\")\n",
    "\n",
    "# Ellenőrzés\n",
    "print(f\"Módosított fájl mentve ide: {output_file_path}\")"
   ]
  },
  {
   "cell_type": "code",
   "execution_count": 1,
   "id": "8d2358e8",
   "metadata": {},
   "outputs": [
    {
     "name": "stdout",
     "output_type": "stream",
     "text": [
      "A fájl oszlopnevei: Index(['Unnamed: 0', 'daily_google_spend', 'daily_microsoft_spend',\n",
      "       'daily_meta_spend'],\n",
      "      dtype='object')\n",
      "Módosított fájl mentve ide: C:/Users/user/Desktop/PROMETHEUS/2024_PROJECT - D36 - DATA-SCIENCE-VERSENY/3_2. MORGENS - Data Science verseny/Alapadat letötések/Py_TISZ_csv\\daily_ppc_budget_3_CLEAN.csv\n"
     ]
    }
   ],
   "source": [
    "import pandas as pd     # 3.3 - tábla - korigálva sikeres, ezt alk. a 3-ra\n",
    "import os\n",
    "\n",
    "# Beolvasás és célmappa meghatározása, index_col=None opcióval\n",
    "daily_ppc_budget_3 = pd.read_csv(\n",
    "    \"C:/Users/user/Desktop/PROMETHEUS/2024_PROJECT - D36 - DATA-SCIENCE-VERSENY/3_2. MORGENS - Data Science verseny/Alapadat letötések/Py_előkészítve/daily_ppc_budget_hotel_3.csv\",\n",
    "    sep=\",\",\n",
    "    index_col=None\n",
    ")\n",
    "\n",
    "# Ellenőrizzük az oszlopokat\n",
    "print(\"A fájl oszlopnevei:\", daily_ppc_budget_3.columns)\n",
    "\n",
    "# Ha van 'Unnamed: 0', nevezzük át 'date'-re\n",
    "if 'Unnamed: 0' in daily_ppc_budget_3.columns:\n",
    "    daily_ppc_budget_3 = daily_ppc_budget_3.rename(columns={'Unnamed: 0': 'date'})\n",
    "\n",
    "# Ha minden rendben, folytathatod az adattípus átalakítást\n",
    "daily_ppc_budget_3['date'] = daily_ppc_budget_3['date'].astype('object')\n",
    "daily_ppc_budget_3['daily_google_spend'] = pd.to_numeric(daily_ppc_budget_3['daily_google_spend'], errors='coerce').astype('Int64')\n",
    "daily_ppc_budget_3['daily_microsoft_spend'] = pd.to_numeric(daily_ppc_budget_3['daily_microsoft_spend'], errors='coerce').astype('Int64')\n",
    "daily_ppc_budget_3['daily_meta_spend'] = pd.to_numeric(daily_ppc_budget_3['daily_meta_spend'], errors='coerce').astype('Int64')\n",
    "\n",
    "# Új fájl mentése\n",
    "output_directory = \"C:/Users/user/Desktop/PROMETHEUS/2024_PROJECT - D36 - DATA-SCIENCE-VERSENY/3_2. MORGENS - Data Science verseny/Alapadat letötések/Py_TISZ_csv\"\n",
    "output_file_name = \"daily_ppc_budget_3_CLEAN.csv\"\n",
    "output_file_path = os.path.join(output_directory, output_file_name)\n",
    "daily_ppc_budget_3.to_csv(output_file_path, index=False, sep=\";\")\n",
    "\n",
    "print(f\"Módosított fájl mentve ide: {output_file_path}\")"
   ]
  },
  {
   "cell_type": "code",
   "execution_count": 2,
   "id": "b64ebf5b",
   "metadata": {},
   "outputs": [
    {
     "name": "stdout",
     "output_type": "stream",
     "text": [
      "Módosított fájl mentve ide: C:/Users/user/Desktop/PROMETHEUS/2024_PROJECT - D36 - DATA-SCIENCE-VERSENY/3_2. MORGENS - Data Science verseny/Alapadat letötések/Py_TISZ_csv\\datepicker_daily_visitors_3_CLEAN.csv\n"
     ]
    }
   ],
   "source": [
    "import pandas as pd    # 3.4 - tábla (Oszlopnév konverzióval, csak akkor kell ha módosítani is akarom a céltába oszlopneveit)\n",
    "import os\n",
    "\n",
    "# Beolvasás és célmappa meghatározása\n",
    "input_file_path = \"C:/Users/user/Desktop/PROMETHEUS/2024_PROJECT - D36 - DATA-SCIENCE-VERSENY/3_2. MORGENS - Data Science verseny/Alapadat letötések/Py_előkészítve/datepicker_daily_visitors_hotel_3.csv\"\n",
    "output_directory = \"C:/Users/user/Desktop/PROMETHEUS/2024_PROJECT - D36 - DATA-SCIENCE-VERSENY/3_2. MORGENS - Data Science verseny/Alapadat letötések/Py_TISZ_csv\"\n",
    "\n",
    "# Fájl beolvasása\n",
    "datepicker_daily_visitors_3 = pd.read_csv(input_file_path, sep=\",\")\n",
    "\n",
    "# Fejléc átnevezése magyarból angolra\n",
    "datepicker_daily_visitors_3 = datepicker_daily_visitors_3.rename(columns={\n",
    "    'Dátum': 'Date',\n",
    "    'Felhasználók teljes száma': 'Total_users',\n",
    "    'Munkamenetek': 'Sessions'\n",
    "})\n",
    "\n",
    "# Adattípusok átalakítása az új oszlopnevekkel\n",
    "datepicker_daily_visitors_3['Date'] = datepicker_daily_visitors_3['Date'].astype('object')\n",
    "datepicker_daily_visitors_3['Total_users'] = pd.to_numeric(datepicker_daily_visitors_3['Total_users'], errors='coerce').astype('Int64')\n",
    "datepicker_daily_visitors_3['Sessions'] = pd.to_numeric(datepicker_daily_visitors_3['Sessions'], errors='coerce').astype('Int64')\n",
    "\n",
    "# Új fájlnév generálása\n",
    "output_file_name = \"datepicker_daily_visitors_3_CLEAN.csv\"\n",
    "output_file_path = os.path.join(output_directory, output_file_name)\n",
    "\n",
    "# Módosított adatfájl mentése új mappába\n",
    "datepicker_daily_visitors_3.to_csv(output_file_path, index=False, sep=\";\")\n",
    "\n",
    "# Ellenőrzés\n",
    "print(f\"Módosított fájl mentve ide: {output_file_path}\")"
   ]
  },
  {
   "cell_type": "code",
   "execution_count": 3,
   "id": "54d5db41",
   "metadata": {},
   "outputs": [
    {
     "name": "stdout",
     "output_type": "stream",
     "text": [
      "Módosított fájl mentve ide: C:/Users/user/Desktop/PROMETHEUS/2024_PROJECT - D36 - DATA-SCIENCE-VERSENY/3_2. MORGENS - Data Science verseny/Alapadat letötések/Py_TISZ_csv\\search_log_3_CLEAN.csv\n"
     ]
    }
   ],
   "source": [
    "import pandas as pd    # 3.5 - tábla\n",
    "import os\n",
    "\n",
    "# Beolvasás és célmappa meghatározása\n",
    "search_log_3 = pd.read_csv(\"C:/Users/user/Desktop/PROMETHEUS/2024_PROJECT - D36 - DATA-SCIENCE-VERSENY/3_2. MORGENS - Data Science verseny/Alapadat letötések/Py_előkészítve/search_log_hotel_3.csv\", sep=\";\")\n",
    "output_directory = \"C:/Users/user/Desktop/PROMETHEUS/2024_PROJECT - D36 - DATA-SCIENCE-VERSENY/3_2. MORGENS - Data Science verseny/Alapadat letötések/Py_TISZ_csv\"\n",
    "\n",
    "# Adattípusok átalakítása\n",
    "search_log_3['id'] = pd.to_numeric(search_log_3['id'], errors='coerce').astype('Int64')\n",
    "search_log_3['search_log_session_id'] = pd.to_numeric(search_log_3['search_log_session_id'], errors='coerce').astype('Int64')\n",
    "search_log_3['utc_datetime'] = search_log_3['utc_datetime'].astype('object')\n",
    "search_log_3['lang_code'] = search_log_3['lang_code'].astype('object')\n",
    "search_log_3['arrival'] = search_log_3['arrival'].astype('object')\n",
    "search_log_3['departure'] = search_log_3['departure'].astype('object')\n",
    "search_log_3['days'] = pd.to_numeric(search_log_3['days'], errors='coerce').astype('Int64')\n",
    "search_log_3['nights'] = pd.to_numeric(search_log_3['nights'], errors='coerce').astype('Int64')\n",
    "search_log_3['adults'] = pd.to_numeric(search_log_3['adults'], errors='coerce').astype('Int64')\n",
    "search_log_3['children'] = pd.to_numeric(search_log_3['children'], errors='coerce').astype('Int64')\n",
    "search_log_3['conversion'] = pd.to_numeric(search_log_3['conversion'], errors='coerce').astype('float64')\n",
    "search_log_3['total_price_final'] = pd.to_numeric(search_log_3['total_price_final'], errors='coerce').astype('float64')\n",
    "\n",
    "# Új fájlnév generálása\n",
    "output_file_name = \"search_log_3_CLEAN.csv\"\n",
    "output_file_path = os.path.join(output_directory, output_file_name)\n",
    "\n",
    "# Módosított adatfájl mentése új mappába\n",
    "search_log_3.to_csv(output_file_path, index=False, sep=\";\")\n",
    "\n",
    "# Ellenőrzés\n",
    "print(f\"Módosított fájl mentve ide: {output_file_path}\")"
   ]
  },
  {
   "cell_type": "code",
   "execution_count": 4,
   "id": "80d989d7",
   "metadata": {},
   "outputs": [
    {
     "name": "stdout",
     "output_type": "stream",
     "text": [
      "Módosított fájl mentve ide: C:/Users/user/Desktop/PROMETHEUS/2024_PROJECT - D36 - DATA-SCIENCE-VERSENY/3_2. MORGENS - Data Science verseny/Alapadat letötések/Py_TISZ_csv\\search_log_room_3_CLEAN.csv\n"
     ]
    }
   ],
   "source": [
    "import pandas as pd    # 3.6 - tábla - ennél lehet hogy a fenti három kódot (vagy az In[13]) alkalmazni kell mert az \"id\" vel és az elválasztóval volt probléma!\n",
    "import os\n",
    "\n",
    "# Fájl beolvasása a megfelelő oszlopelválasztó karakterrel\n",
    "search_log_room_3 = pd.read_csv(\n",
    "    \"C:/Users/user/Desktop/PROMETHEUS/2024_PROJECT - D36 - DATA-SCIENCE-VERSENY/3_2. MORGENS - Data Science verseny/Alapadat letötések/Py_előkészítve/search_log_room_hotel_3.csv\", \n",
    "    sep=\";\",  # Pontosvessző használata\n",
    ")\n",
    "\n",
    "# Az oszlopnevek tisztítása\n",
    "search_log_room_3.columns = search_log_room_3.columns.str.replace('\"', '').str.strip()\n",
    "\n",
    "# Adattípusok átalakítása\n",
    "search_log_room_3['id'] = pd.to_numeric(search_log_room_3['id'], errors='coerce').astype('Int64')\n",
    "search_log_room_3['search_log_id'] = pd.to_numeric(search_log_room_3['search_log_id'], errors='coerce').astype('Int64')\n",
    "search_log_room_3['adults'] = pd.to_numeric(search_log_room_3['adults'], errors='coerce').astype('Int64')\n",
    "search_log_room_3['children'] = pd.to_numeric(search_log_room_3['children'], errors='coerce').astype('Int64')\n",
    "search_log_room_3['picked_room'] = search_log_room_3['picked_room'].astype('object')\n",
    "search_log_room_3['picked_price'] = pd.to_numeric(search_log_room_3['picked_price'], errors='coerce').astype('float64')\n",
    "search_log_room_3['picked_room.1'] = search_log_room_3['picked_room.1'].astype('object')\n",
    "\n",
    "# Kimeneti fájlmentés új mappába\n",
    "output_directory = \"C:/Users/user/Desktop/PROMETHEUS/2024_PROJECT - D36 - DATA-SCIENCE-VERSENY/3_2. MORGENS - Data Science verseny/Alapadat letötések/Py_TISZ_csv\"\n",
    "output_file_name = \"search_log_room_3_CLEAN.csv\"\n",
    "output_file_path = os.path.join(output_directory, output_file_name)\n",
    "search_log_room_3.to_csv(output_file_path, index=False, sep=\";\")\n",
    "\n",
    "# Ellenőrzés\n",
    "print(f\"Módosított fájl mentve ide: {output_file_path}\")"
   ]
  },
  {
   "cell_type": "code",
   "execution_count": 5,
   "id": "adcef63b",
   "metadata": {},
   "outputs": [
    {
     "name": "stdout",
     "output_type": "stream",
     "text": [
      "Módosított fájl mentve ide: C:/Users/user/Desktop/PROMETHEUS/2024_PROJECT - D36 - DATA-SCIENCE-VERSENY/3_2. MORGENS - Data Science verseny/Alapadat letötések/Py_TISZ_csv\\search_log_room_offer_3_CLEAN.csv\n"
     ]
    }
   ],
   "source": [
    "import pandas as pd    # 3.7 - tábla - \n",
    "import os\n",
    "\n",
    "# Fájl beolvasása, a pontosvesszővel határolt CSV-t és a célmappát megadjuk\n",
    "search_log_room_offer_3 = pd.read_csv(\"C:/Users/user/Desktop/PROMETHEUS/2024_PROJECT - D36 - DATA-SCIENCE-VERSENY/3_2. MORGENS - Data Science verseny/Alapadat letötések/Py_előkészítve/search_log_room_offer_hotel_3.csv\", sep=\";\")\n",
    "output_directory = \"C:/Users/user/Desktop/PROMETHEUS/2024_PROJECT - D36 - DATA-SCIENCE-VERSENY/3_2. MORGENS - Data Science verseny/Alapadat letötések/Py_TISZ_csv\"\n",
    "\n",
    "# Az idézőjelek eltávolítása és a felesleges szóközök tisztítása az oszlopnevekben\n",
    "search_log_room_offer_3.columns = search_log_room_offer_3.columns.str.replace('\"', '').str.strip()\n",
    "\n",
    "# Adattípus átalakítások\n",
    "search_log_room_offer_3['id'] = pd.to_numeric(search_log_room_offer_3['id'], errors='coerce').astype('Int64')\n",
    "search_log_room_offer_3['search_log_id'] = pd.to_numeric(search_log_room_offer_3['search_log_id'], errors='coerce').astype('Int64')\n",
    "search_log_room_offer_3['search_log_room_id'] = pd.to_numeric(search_log_room_offer_3['search_log_room_id'], errors='coerce').astype('Int64')\n",
    "search_log_room_offer_3['room_code'] = search_log_room_offer_3['room_code'].astype('object')\n",
    "search_log_room_offer_3['room_price_min'] = pd.to_numeric(search_log_room_offer_3['room_price_min'], errors='coerce').astype('float64')\n",
    "search_log_room_offer_3['room_price_max'] = pd.to_numeric(search_log_room_offer_3['room_price_max'], errors='coerce').astype('float64')\n",
    "\n",
    "# Új fájlnév generálása\n",
    "output_file_name = \"search_log_room_offer_3_CLEAN.csv\"\n",
    "output_file_path = os.path.join(output_directory, output_file_name)\n",
    "\n",
    "# Módosított adatfájl mentése új mappába\n",
    "search_log_room_offer_3.to_csv(output_file_path, index=False, sep=\";\")\n",
    "\n",
    "# Ellenőrzés\n",
    "print(f\"Módosított fájl mentve ide: {output_file_path}\")"
   ]
  },
  {
   "cell_type": "code",
   "execution_count": 6,
   "id": "9c3a4876",
   "metadata": {},
   "outputs": [
    {
     "name": "stdout",
     "output_type": "stream",
     "text": [
      "Módosított fájl mentve ide: C:/Users/user/Desktop/PROMETHEUS/2024_PROJECT - D36 - DATA-SCIENCE-VERSENY/3_2. MORGENS - Data Science verseny/Alapadat letötések/Py_TISZ_csv\\search_log_room_child_3_CLEAN.csv\n"
     ]
    }
   ],
   "source": [
    "import pandas as pd    # 3.8 - tábla - A NYERS ADATOK táblában hibásan van az \"search_log_room id\" így a jó \"search_log_room_id\" (Aláhúzás hiányzott az id elöl)!\n",
    "import os\n",
    "\n",
    "# Fájl beolvasása, a pontosvesszővel határolt CSV-t és a célmappát megadjuk\n",
    "search_log_room_child_3 = pd.read_csv(\"C:/Users/user/Desktop/PROMETHEUS/2024_PROJECT - D36 - DATA-SCIENCE-VERSENY/3_2. MORGENS - Data Science verseny/Alapadat letötések/Py_előkészítve/search_log_room_child_hotel_3.csv\", sep=\";\")\n",
    "output_directory = \"C:/Users/user/Desktop/PROMETHEUS/2024_PROJECT - D36 - DATA-SCIENCE-VERSENY/3_2. MORGENS - Data Science verseny/Alapadat letötések/Py_TISZ_csv\"\n",
    "\n",
    "# Az idézőjelek eltávolítása és a felesleges szóközök tisztítása az oszlopnevekben\n",
    "search_log_room_child_3.columns = search_log_room_child_3.columns.str.replace('\"', '').str.strip()\n",
    "\n",
    "# Adattípus átalakítások\n",
    "search_log_room_child_3['id'] = pd.to_numeric(search_log_room_child_3['id'], errors='coerce').astype('Int64')\n",
    "search_log_room_child_3['search_log_room_id'] = pd.to_numeric(search_log_room_child_3['search_log_room_id'], errors='coerce').astype('Int64')\n",
    "search_log_room_child_3['age'] = pd.to_numeric(search_log_room_child_3['age'], errors='coerce').astype('Int64')\n",
    "search_log_room_child_3['baby_bed'] = pd.to_numeric(search_log_room_child_3['baby_bed'], errors='coerce').astype('Int8')  # tinyint átalakítása\n",
    "\n",
    "# Új fájlnév generálása\n",
    "output_file_name = \"search_log_room_child_3_CLEAN.csv\"\n",
    "output_file_path = os.path.join(output_directory, output_file_name)\n",
    "\n",
    "# Módosított adatfájl mentése új mappába\n",
    "search_log_room_child_3.to_csv(output_file_path, index=False, sep=\";\")\n",
    "\n",
    "# Ellenőrzés\n",
    "print(f\"Módosított fájl mentve ide: {output_file_path}\")"
   ]
  },
  {
   "cell_type": "code",
   "execution_count": 8,
   "id": "4edf20ad",
   "metadata": {},
   "outputs": [
    {
     "ename": "UnicodeDecodeError",
     "evalue": "'utf-8' codec can't decode byte 0xe1 in position 143630: invalid continuation byte",
     "output_type": "error",
     "traceback": [
      "\u001b[1;31m---------------------------------------------------------------------------\u001b[0m",
      "\u001b[1;31mUnicodeDecodeError\u001b[0m                        Traceback (most recent call last)",
      "\u001b[1;32m~\\AppData\\Local\\Temp\\ipykernel_2424\\3014858266.py\u001b[0m in \u001b[0;36m<module>\u001b[1;34m\u001b[0m\n\u001b[0;32m      3\u001b[0m \u001b[1;33m\u001b[0m\u001b[0m\n\u001b[0;32m      4\u001b[0m \u001b[1;31m# Fájl beolvasása, a pontosvesszővel határolt CSV-t és a célmappát megadjuk\u001b[0m\u001b[1;33m\u001b[0m\u001b[1;33m\u001b[0m\u001b[0m\n\u001b[1;32m----> 5\u001b[1;33m \u001b[0msearch_log_session_3\u001b[0m \u001b[1;33m=\u001b[0m \u001b[0mpd\u001b[0m\u001b[1;33m.\u001b[0m\u001b[0mread_csv\u001b[0m\u001b[1;33m(\u001b[0m\u001b[1;34m\"C:/Users/user/Desktop/PROMETHEUS/2024_PROJECT - D36 - DATA-SCIENCE-VERSENY/3_2. MORGENS - Data Science verseny/Alapadat letötések/Py_előkészítve/search_log_session_hotel_3.csv\"\u001b[0m\u001b[1;33m,\u001b[0m \u001b[0msep\u001b[0m\u001b[1;33m=\u001b[0m\u001b[1;34m\";\"\u001b[0m\u001b[1;33m)\u001b[0m\u001b[1;33m\u001b[0m\u001b[1;33m\u001b[0m\u001b[0m\n\u001b[0m\u001b[0;32m      6\u001b[0m \u001b[0moutput_directory\u001b[0m \u001b[1;33m=\u001b[0m \u001b[1;34m\"C:/Users/user/Desktop/PROMETHEUS/2024_PROJECT - D36 - DATA-SCIENCE-VERSENY/3_2. MORGENS - Data Science verseny/Alapadat letötések/Py_TISZ_csv\"\u001b[0m\u001b[1;33m\u001b[0m\u001b[1;33m\u001b[0m\u001b[0m\n\u001b[0;32m      7\u001b[0m \u001b[1;33m\u001b[0m\u001b[0m\n",
      "\u001b[1;32m~\\anaconda3\\lib\\site-packages\\pandas\\util\\_decorators.py\u001b[0m in \u001b[0;36mwrapper\u001b[1;34m(*args, **kwargs)\u001b[0m\n\u001b[0;32m    309\u001b[0m                     \u001b[0mstacklevel\u001b[0m\u001b[1;33m=\u001b[0m\u001b[0mstacklevel\u001b[0m\u001b[1;33m,\u001b[0m\u001b[1;33m\u001b[0m\u001b[1;33m\u001b[0m\u001b[0m\n\u001b[0;32m    310\u001b[0m                 )\n\u001b[1;32m--> 311\u001b[1;33m             \u001b[1;32mreturn\u001b[0m \u001b[0mfunc\u001b[0m\u001b[1;33m(\u001b[0m\u001b[1;33m*\u001b[0m\u001b[0margs\u001b[0m\u001b[1;33m,\u001b[0m \u001b[1;33m**\u001b[0m\u001b[0mkwargs\u001b[0m\u001b[1;33m)\u001b[0m\u001b[1;33m\u001b[0m\u001b[1;33m\u001b[0m\u001b[0m\n\u001b[0m\u001b[0;32m    312\u001b[0m \u001b[1;33m\u001b[0m\u001b[0m\n\u001b[0;32m    313\u001b[0m         \u001b[1;32mreturn\u001b[0m \u001b[0mwrapper\u001b[0m\u001b[1;33m\u001b[0m\u001b[1;33m\u001b[0m\u001b[0m\n",
      "\u001b[1;32m~\\anaconda3\\lib\\site-packages\\pandas\\io\\parsers\\readers.py\u001b[0m in \u001b[0;36mread_csv\u001b[1;34m(filepath_or_buffer, sep, delimiter, header, names, index_col, usecols, squeeze, prefix, mangle_dupe_cols, dtype, engine, converters, true_values, false_values, skipinitialspace, skiprows, skipfooter, nrows, na_values, keep_default_na, na_filter, verbose, skip_blank_lines, parse_dates, infer_datetime_format, keep_date_col, date_parser, dayfirst, cache_dates, iterator, chunksize, compression, thousands, decimal, lineterminator, quotechar, quoting, doublequote, escapechar, comment, encoding, encoding_errors, dialect, error_bad_lines, warn_bad_lines, on_bad_lines, delim_whitespace, low_memory, memory_map, float_precision, storage_options)\u001b[0m\n\u001b[0;32m    676\u001b[0m     \u001b[0mkwds\u001b[0m\u001b[1;33m.\u001b[0m\u001b[0mupdate\u001b[0m\u001b[1;33m(\u001b[0m\u001b[0mkwds_defaults\u001b[0m\u001b[1;33m)\u001b[0m\u001b[1;33m\u001b[0m\u001b[1;33m\u001b[0m\u001b[0m\n\u001b[0;32m    677\u001b[0m \u001b[1;33m\u001b[0m\u001b[0m\n\u001b[1;32m--> 678\u001b[1;33m     \u001b[1;32mreturn\u001b[0m \u001b[0m_read\u001b[0m\u001b[1;33m(\u001b[0m\u001b[0mfilepath_or_buffer\u001b[0m\u001b[1;33m,\u001b[0m \u001b[0mkwds\u001b[0m\u001b[1;33m)\u001b[0m\u001b[1;33m\u001b[0m\u001b[1;33m\u001b[0m\u001b[0m\n\u001b[0m\u001b[0;32m    679\u001b[0m \u001b[1;33m\u001b[0m\u001b[0m\n\u001b[0;32m    680\u001b[0m \u001b[1;33m\u001b[0m\u001b[0m\n",
      "\u001b[1;32m~\\anaconda3\\lib\\site-packages\\pandas\\io\\parsers\\readers.py\u001b[0m in \u001b[0;36m_read\u001b[1;34m(filepath_or_buffer, kwds)\u001b[0m\n\u001b[0;32m    579\u001b[0m \u001b[1;33m\u001b[0m\u001b[0m\n\u001b[0;32m    580\u001b[0m     \u001b[1;32mwith\u001b[0m \u001b[0mparser\u001b[0m\u001b[1;33m:\u001b[0m\u001b[1;33m\u001b[0m\u001b[1;33m\u001b[0m\u001b[0m\n\u001b[1;32m--> 581\u001b[1;33m         \u001b[1;32mreturn\u001b[0m \u001b[0mparser\u001b[0m\u001b[1;33m.\u001b[0m\u001b[0mread\u001b[0m\u001b[1;33m(\u001b[0m\u001b[0mnrows\u001b[0m\u001b[1;33m)\u001b[0m\u001b[1;33m\u001b[0m\u001b[1;33m\u001b[0m\u001b[0m\n\u001b[0m\u001b[0;32m    582\u001b[0m \u001b[1;33m\u001b[0m\u001b[0m\n\u001b[0;32m    583\u001b[0m \u001b[1;33m\u001b[0m\u001b[0m\n",
      "\u001b[1;32m~\\anaconda3\\lib\\site-packages\\pandas\\io\\parsers\\readers.py\u001b[0m in \u001b[0;36mread\u001b[1;34m(self, nrows)\u001b[0m\n\u001b[0;32m   1251\u001b[0m             \u001b[0mnrows\u001b[0m \u001b[1;33m=\u001b[0m \u001b[0mvalidate_integer\u001b[0m\u001b[1;33m(\u001b[0m\u001b[1;34m\"nrows\"\u001b[0m\u001b[1;33m,\u001b[0m \u001b[0mnrows\u001b[0m\u001b[1;33m)\u001b[0m\u001b[1;33m\u001b[0m\u001b[1;33m\u001b[0m\u001b[0m\n\u001b[0;32m   1252\u001b[0m             \u001b[1;32mtry\u001b[0m\u001b[1;33m:\u001b[0m\u001b[1;33m\u001b[0m\u001b[1;33m\u001b[0m\u001b[0m\n\u001b[1;32m-> 1253\u001b[1;33m                 \u001b[0mindex\u001b[0m\u001b[1;33m,\u001b[0m \u001b[0mcolumns\u001b[0m\u001b[1;33m,\u001b[0m \u001b[0mcol_dict\u001b[0m \u001b[1;33m=\u001b[0m \u001b[0mself\u001b[0m\u001b[1;33m.\u001b[0m\u001b[0m_engine\u001b[0m\u001b[1;33m.\u001b[0m\u001b[0mread\u001b[0m\u001b[1;33m(\u001b[0m\u001b[0mnrows\u001b[0m\u001b[1;33m)\u001b[0m\u001b[1;33m\u001b[0m\u001b[1;33m\u001b[0m\u001b[0m\n\u001b[0m\u001b[0;32m   1254\u001b[0m             \u001b[1;32mexcept\u001b[0m \u001b[0mException\u001b[0m\u001b[1;33m:\u001b[0m\u001b[1;33m\u001b[0m\u001b[1;33m\u001b[0m\u001b[0m\n\u001b[0;32m   1255\u001b[0m                 \u001b[0mself\u001b[0m\u001b[1;33m.\u001b[0m\u001b[0mclose\u001b[0m\u001b[1;33m(\u001b[0m\u001b[1;33m)\u001b[0m\u001b[1;33m\u001b[0m\u001b[1;33m\u001b[0m\u001b[0m\n",
      "\u001b[1;32m~\\anaconda3\\lib\\site-packages\\pandas\\io\\parsers\\c_parser_wrapper.py\u001b[0m in \u001b[0;36mread\u001b[1;34m(self, nrows)\u001b[0m\n\u001b[0;32m    223\u001b[0m         \u001b[1;32mtry\u001b[0m\u001b[1;33m:\u001b[0m\u001b[1;33m\u001b[0m\u001b[1;33m\u001b[0m\u001b[0m\n\u001b[0;32m    224\u001b[0m             \u001b[1;32mif\u001b[0m \u001b[0mself\u001b[0m\u001b[1;33m.\u001b[0m\u001b[0mlow_memory\u001b[0m\u001b[1;33m:\u001b[0m\u001b[1;33m\u001b[0m\u001b[1;33m\u001b[0m\u001b[0m\n\u001b[1;32m--> 225\u001b[1;33m                 \u001b[0mchunks\u001b[0m \u001b[1;33m=\u001b[0m \u001b[0mself\u001b[0m\u001b[1;33m.\u001b[0m\u001b[0m_reader\u001b[0m\u001b[1;33m.\u001b[0m\u001b[0mread_low_memory\u001b[0m\u001b[1;33m(\u001b[0m\u001b[0mnrows\u001b[0m\u001b[1;33m)\u001b[0m\u001b[1;33m\u001b[0m\u001b[1;33m\u001b[0m\u001b[0m\n\u001b[0m\u001b[0;32m    226\u001b[0m                 \u001b[1;31m# destructive to chunks\u001b[0m\u001b[1;33m\u001b[0m\u001b[1;33m\u001b[0m\u001b[0m\n\u001b[0;32m    227\u001b[0m                 \u001b[0mdata\u001b[0m \u001b[1;33m=\u001b[0m \u001b[0m_concatenate_chunks\u001b[0m\u001b[1;33m(\u001b[0m\u001b[0mchunks\u001b[0m\u001b[1;33m)\u001b[0m\u001b[1;33m\u001b[0m\u001b[1;33m\u001b[0m\u001b[0m\n",
      "\u001b[1;32m~\\anaconda3\\lib\\site-packages\\pandas\\_libs\\parsers.pyx\u001b[0m in \u001b[0;36mpandas._libs.parsers.TextReader.read_low_memory\u001b[1;34m()\u001b[0m\n",
      "\u001b[1;32m~\\anaconda3\\lib\\site-packages\\pandas\\_libs\\parsers.pyx\u001b[0m in \u001b[0;36mpandas._libs.parsers.TextReader._read_rows\u001b[1;34m()\u001b[0m\n",
      "\u001b[1;32m~\\anaconda3\\lib\\site-packages\\pandas\\_libs\\parsers.pyx\u001b[0m in \u001b[0;36mpandas._libs.parsers.TextReader._tokenize_rows\u001b[1;34m()\u001b[0m\n",
      "\u001b[1;32m~\\anaconda3\\lib\\site-packages\\pandas\\_libs\\parsers.pyx\u001b[0m in \u001b[0;36mpandas._libs.parsers.raise_parser_error\u001b[1;34m()\u001b[0m\n",
      "\u001b[1;31mUnicodeDecodeError\u001b[0m: 'utf-8' codec can't decode byte 0xe1 in position 143630: invalid continuation byte"
     ]
    }
   ],
   "source": [
    "import pandas as pd    # 3.9 - tábla (Első full saját, és elsőre jó!!!!!!!!!!!!)  Itt kell majd adattisztítani B, C oszlopban!\n",
    "import os\n",
    "\n",
    "# Fájl beolvasása, a pontosvesszővel határolt CSV-t és a célmappát megadjuk\n",
    "search_log_session_3 = pd.read_csv(\"C:/Users/user/Desktop/PROMETHEUS/2024_PROJECT - D36 - DATA-SCIENCE-VERSENY/3_2. MORGENS - Data Science verseny/Alapadat letötések/Py_előkészítve/search_log_session_hotel_3.csv\", sep=\";\")\n",
    "output_directory = \"C:/Users/user/Desktop/PROMETHEUS/2024_PROJECT - D36 - DATA-SCIENCE-VERSENY/3_2. MORGENS - Data Science verseny/Alapadat letötések/Py_TISZ_csv\"\n",
    "\n",
    "# Az idézőjelek eltávolítása és a felesleges szóközök tisztítása az oszlopnevekben\n",
    "search_log_session_3.columns = search_log_session_3.columns.str.replace('\"', '').str.strip()\n",
    "\n",
    "# Adattípus átalakítások\n",
    "search_log_session_3['id'] = pd.to_numeric(search_log_session_3['id'], errors='coerce').astype('Int64')\n",
    "search_log_session_3['uuid'] = search_log_session_3['uuid'].astype('object')\n",
    "search_log_session_3['session_id'] = pd.to_numeric(search_log_session_3['session_id'], errors='coerce').astype('Int64')\n",
    "search_log_session_3['utm_source'] = search_log_session_3['utm_source'].astype('object')\n",
    "search_log_session_3['utm_medium'] = search_log_session_3['utm_medium'].astype('object')\n",
    "search_log_session_3['utm_campaign'] = search_log_session_3['utm_campaign'].astype('object')\n",
    "\n",
    "# Új fájlnév generálása\n",
    "output_file_name = \"search_log_session_3_CLEAN.csv\"\n",
    "output_file_path = os.path.join(output_directory, output_file_name)\n",
    "\n",
    "# Módosított adatfájl mentése új mappába\n",
    "search_log_session_3.to_csv(output_file_path, index=False, sep=\";\")\n",
    "\n",
    "# Ellenőrzés\n",
    "print(f\"Módosított fájl mentve ide: {output_file_path}\")"
   ]
  },
  {
   "cell_type": "code",
   "execution_count": 9,
   "id": "1f110cfc",
   "metadata": {},
   "outputs": [
    {
     "ename": "SyntaxError",
     "evalue": "unexpected EOF while parsing (1212441310.py, line 4)",
     "output_type": "error",
     "traceback": [
      "\u001b[1;36m  File \u001b[1;32m\"C:\\Users\\user\\AppData\\Local\\Temp\\ipykernel_2424\\1212441310.py\"\u001b[1;36m, line \u001b[1;32m4\u001b[0m\n\u001b[1;33m    encoding=\"ISO-8859-1\"\u001b[0m\n\u001b[1;37m                         ^\u001b[0m\n\u001b[1;31mSyntaxError\u001b[0m\u001b[1;31m:\u001b[0m unexpected EOF while parsing\n"
     ]
    }
   ],
   "source": [
    "search_log_session_3 = pd.read_csv(\n",
    "    \"C:/Users/user/Desktop/PROMETHEUS/2024_PROJECT - D36 - DATA-SCIENCE-VERSENY/3_2. MORGENS - Data Science verseny/Alapadat letötések/Py_előkészítve/search_log_session_hotel_3.csv\", \n",
    "    sep=\";\", \n",
    "    encoding=\"ISO-8859-1\""
   ]
  },
  {
   "cell_type": "code",
   "execution_count": 10,
   "id": "fcc84283",
   "metadata": {},
   "outputs": [
    {
     "name": "stdout",
     "output_type": "stream",
     "text": [
      "Módosított fájl mentve ide: C:/Users/user/Desktop/PROMETHEUS/2024_PROJECT - D36 - DATA-SCIENCE-VERSENY/3_2. MORGENS - Data Science verseny/Alapadat letötések/Py_TISZ_csv\\search_log_session_3_CLEAN.csv\n"
     ]
    }
   ],
   "source": [
    "import pandas as pd   # 3.9 - tábla \n",
    "import os\n",
    "\n",
    "# Fájl beolvasása, a pontosvesszővel határolt CSV-t és a célmappát megadjuk\n",
    "search_log_session_3 = pd.read_csv(\n",
    "    \"C:/Users/user/Desktop/PROMETHEUS/2024_PROJECT - D36 - DATA-SCIENCE-VERSENY/3_2. MORGENS - Data Science verseny/Alapadat letötések/Py_előkészítve/search_log_session_hotel_3.csv\", \n",
    "    sep=\";\", \n",
    "    encoding=\"ISO-8859-1\"  # Kódolás beállítása\n",
    ")\n",
    "\n",
    "output_directory = \"C:/Users/user/Desktop/PROMETHEUS/2024_PROJECT - D36 - DATA-SCIENCE-VERSENY/3_2. MORGENS - Data Science verseny/Alapadat letötések/Py_TISZ_csv\"\n",
    "\n",
    "# Az idézőjelek eltávolítása és a felesleges szóközök tisztítása az oszlopnevekben\n",
    "search_log_session_3.columns = search_log_session_3.columns.str.replace('\"', '').str.strip()\n",
    "\n",
    "# Adattípus átalakítások\n",
    "search_log_session_3['id'] = pd.to_numeric(search_log_session_3['id'], errors='coerce').astype('Int64')\n",
    "search_log_session_3['uuid'] = search_log_session_3['uuid'].astype('object')\n",
    "search_log_session_3['session_id'] = pd.to_numeric(search_log_session_3['session_id'], errors='coerce').astype('Int64')\n",
    "search_log_session_3['utm_source'] = search_log_session_3['utm_source'].astype('object')\n",
    "search_log_session_3['utm_medium'] = search_log_session_3['utm_medium'].astype('object')\n",
    "search_log_session_3['utm_campaign'] = search_log_session_3['utm_campaign'].astype('object')\n",
    "\n",
    "# Új fájlnév generálása\n",
    "output_file_name = \"search_log_session_3_CLEAN.csv\"\n",
    "output_file_path = os.path.join(output_directory, output_file_name)\n",
    "\n",
    "# Módosított adatfájl mentése új mappába\n",
    "search_log_session_3.to_csv(output_file_path, index=False, sep=\";\")\n",
    "\n",
    "# Ellenőrzés\n",
    "print(f\"Módosított fájl mentve ide: {output_file_path}\")"
   ]
  },
  {
   "cell_type": "code",
   "execution_count": 11,
   "id": "e63d2177",
   "metadata": {},
   "outputs": [
    {
     "name": "stdout",
     "output_type": "stream",
     "text": [
      "Módosított fájl mentve ide: C:/Users/user/Desktop/PROMETHEUS/2024_PROJECT - D36 - DATA-SCIENCE-VERSENY/3_2. MORGENS - Data Science verseny/Alapadat letötések/Py_TISZ_csv\\website_daily_users_3_CLEAN.csv\n"
     ]
    }
   ],
   "source": [
    "import pandas as pd   # 3.10 - tábla \n",
    "import os\n",
    "\n",
    "# Fájl beolvasása, a pontosvesszővel határolt CSV-t és a célmappát megadjuk\n",
    "website_daily_users_3 = pd.read_csv(\n",
    "    \"C:/Users/user/Desktop/PROMETHEUS/2024_PROJECT - D36 - DATA-SCIENCE-VERSENY/3_2. MORGENS - Data Science verseny/Alapadat letötések/Py_előkészítve/website_daily_users_hotel_3.csv\",\n",
    "    sep=\";\",\n",
    "    encoding=\"ISO-8859-1\"  # Kódolás beállítása\n",
    ")\n",
    "\n",
    "output_directory = \"C:/Users/user/Desktop/PROMETHEUS/2024_PROJECT - D36 - DATA-SCIENCE-VERSENY/3_2. MORGENS - Data Science verseny/Alapadat letötések/Py_TISZ_csv\"\n",
    "\n",
    "# Az idézőjelek eltávolítása és a felesleges szóközök tisztítása az oszlopnevekben\n",
    "website_daily_users_3.columns = website_daily_users_3.columns.str.replace('\"', '').str.strip()\n",
    "\n",
    "# Adattípus átalakítások\n",
    "website_daily_users_3['date'] = website_daily_users_3['date'].astype('object')\n",
    "website_daily_users_3['utm_source_and_medium'] = website_daily_users_3['utm_source_and_medium'].astype('object')\n",
    "website_daily_users_3['utm_campaign'] = website_daily_users_3['utm_campaign'].astype('object')\n",
    "website_daily_users_3['user_count'] = pd.to_numeric(website_daily_users_3['user_count'], errors='coerce').astype('Int64')\n",
    "\n",
    "# Új fájlnév generálása\n",
    "output_file_name = \"website_daily_users_3_CLEAN.csv\"\n",
    "output_file_path = os.path.join(output_directory, output_file_name)\n",
    "\n",
    "# Módosított adatfájl mentése új mappába\n",
    "website_daily_users_3.to_csv(output_file_path, index=False, sep=\";\")\n",
    "\n",
    "# Ellenőrzés\n",
    "print(f\"Módosított fájl mentve ide: {output_file_path}\")"
   ]
  },
  {
   "cell_type": "code",
   "execution_count": 12,
   "id": "dec6180b",
   "metadata": {},
   "outputs": [
    {
     "name": "stdout",
     "output_type": "stream",
     "text": [
      "Módosított fájl mentve ide: C:/Users/user/Desktop/PROMETHEUS/2024_PROJECT - D36 - DATA-SCIENCE-VERSENY/3_2. MORGENS - Data Science verseny/Alapadat letötések/Py_TISZ_csv\\upsell_data_3_CLEAN.csv\n"
     ]
    }
   ],
   "source": [
    "import pandas as pd    # 3.11 - tábla (Második full saját, és elsőre jó!!!!!!!!!!!!) Itt kell majd adattisztítani D, E, F oszlopban!\n",
    "import os\n",
    "\n",
    "# Fájl beolvasása, a pontosvesszővel határolt CSV-t és a célmappát megadjuk\n",
    "upsell_data_3 = pd.read_csv(\"C:/Users/user/Desktop/PROMETHEUS/2024_PROJECT - D36 - DATA-SCIENCE-VERSENY/3_2. MORGENS - Data Science verseny/Alapadat letötések/Py_előkészítve/upsell_data_hotel_3.csv\", sep=\";\")\n",
    "output_directory = \"C:/Users/user/Desktop/PROMETHEUS/2024_PROJECT - D36 - DATA-SCIENCE-VERSENY/3_2. MORGENS - Data Science verseny/Alapadat letötések/Py_TISZ_csv\"\n",
    "\n",
    "# Az idézőjelek eltávolítása és a felesleges szóközök tisztítása az oszlopnevekben\n",
    "upsell_data_3.columns = upsell_data_3.columns.str.replace('\"', '').str.strip()\n",
    "\n",
    "# Adattípus átalakítások\n",
    "upsell_data_3['search_log_id'] = pd.to_numeric(upsell_data_3['search_log_id'], errors='coerce').astype('Int64')\n",
    "upsell_data_3['upsell_type'] = pd.to_numeric(upsell_data_3['upsell_type'], errors='coerce').astype('Int64')\n",
    "upsell_data_3['name'] = upsell_data_3['name'].astype('object')\n",
    "upsell_data_3['unit_price'] = pd.to_numeric(upsell_data_3['unit_price'], errors='coerce').astype('float64')\n",
    "upsell_data_3['pieces'] = pd.to_numeric(upsell_data_3['pieces'], errors='coerce').astype('Int64')\n",
    "upsell_data_3['sum_price'] = pd.to_numeric(upsell_data_3['sum_price'], errors='coerce').astype('float64')\n",
    "\n",
    "# Új fájlnév generálása\n",
    "output_file_name = \"upsell_data_3_CLEAN.csv\"\n",
    "output_file_path = os.path.join(output_directory, output_file_name)\n",
    "\n",
    "# Módosított adatfájl mentése új mappába\n",
    "upsell_data_3.to_csv(output_file_path, index=False, sep=\";\")\n",
    "\n",
    "# Ellenőrzés\n",
    "print(f\"Módosított fájl mentve ide: {output_file_path}\")"
   ]
  },
  {
   "cell_type": "code",
   "execution_count": null,
   "id": "e642d76e",
   "metadata": {},
   "outputs": [],
   "source": []
  }
 ],
 "metadata": {
  "kernelspec": {
   "display_name": "Python 3 (ipykernel)",
   "language": "python",
   "name": "python3"
  },
  "language_info": {
   "codemirror_mode": {
    "name": "ipython",
    "version": 3
   },
   "file_extension": ".py",
   "mimetype": "text/x-python",
   "name": "python",
   "nbconvert_exporter": "python",
   "pygments_lexer": "ipython3",
   "version": "3.9.13"
  }
 },
 "nbformat": 4,
 "nbformat_minor": 5
}
