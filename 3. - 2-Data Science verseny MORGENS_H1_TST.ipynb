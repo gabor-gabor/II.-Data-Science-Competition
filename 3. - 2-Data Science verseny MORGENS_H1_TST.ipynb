{
 "cells": [
  {
   "cell_type": "code",
   "execution_count": 4,
   "id": "4be3103b",
   "metadata": {},
   "outputs": [],
   "source": [
    "import pandas as pd\n",
    "import numpy as np"
   ]
  },
  {
   "cell_type": "code",
   "execution_count": 5,
   "id": "64c68096",
   "metadata": {},
   "outputs": [],
   "source": [
    "booking_1 = pd.read_csv(\"C:/Users/user/Desktop/PROMETHEUS/2024_PROJECT - D36 - DATA-SCIENCE-VERSENY/3_2. MORGENS - Data Science verseny/Alapadat letötések/Py_előkészítve/booking_data_hotel_1.csv\", sep=\";\")"
   ]
  },
  {
   "cell_type": "code",
   "execution_count": 6,
   "id": "9b2cf7bf",
   "metadata": {},
   "outputs": [
    {
     "data": {
      "text/html": [
       "<div>\n",
       "<style scoped>\n",
       "    .dataframe tbody tr th:only-of-type {\n",
       "        vertical-align: middle;\n",
       "    }\n",
       "\n",
       "    .dataframe tbody tr th {\n",
       "        vertical-align: top;\n",
       "    }\n",
       "\n",
       "    .dataframe thead th {\n",
       "        text-align: right;\n",
       "    }\n",
       "</style>\n",
       "<table border=\"1\" class=\"dataframe\">\n",
       "  <thead>\n",
       "    <tr style=\"text-align: right;\">\n",
       "      <th></th>\n",
       "      <th>search_log_id</th>\n",
       "      <th>total_price_final</th>\n",
       "      <th>rooms_total_price</th>\n",
       "      <th>upsell_total_price</th>\n",
       "      <th>vouchers_total_price</th>\n",
       "      <th>loyalty_discount_total</th>\n",
       "      <th>redeemed_loyalty_points_total</th>\n",
       "    </tr>\n",
       "  </thead>\n",
       "  <tbody>\n",
       "    <tr>\n",
       "      <th>0</th>\n",
       "      <td>112857</td>\n",
       "      <td>99683.00</td>\n",
       "      <td>119952.22</td>\n",
       "      <td>3500.0</td>\n",
       "      <td>0</td>\n",
       "      <td>11995.22</td>\n",
       "      <td>11774.0</td>\n",
       "    </tr>\n",
       "    <tr>\n",
       "      <th>1</th>\n",
       "      <td>112906</td>\n",
       "      <td>302444.00</td>\n",
       "      <td>377114.44</td>\n",
       "      <td>0.0</td>\n",
       "      <td>0</td>\n",
       "      <td>37711.44</td>\n",
       "      <td>36959.0</td>\n",
       "    </tr>\n",
       "    <tr>\n",
       "      <th>2</th>\n",
       "      <td>113050</td>\n",
       "      <td>622.43</td>\n",
       "      <td>793.16</td>\n",
       "      <td>0.0</td>\n",
       "      <td>0</td>\n",
       "      <td>118.97</td>\n",
       "      <td>0.0</td>\n",
       "    </tr>\n",
       "  </tbody>\n",
       "</table>\n",
       "</div>"
      ],
      "text/plain": [
       "   search_log_id  total_price_final  rooms_total_price  upsell_total_price  \\\n",
       "0         112857           99683.00          119952.22              3500.0   \n",
       "1         112906          302444.00          377114.44                 0.0   \n",
       "2         113050             622.43             793.16                 0.0   \n",
       "\n",
       "   vouchers_total_price  loyalty_discount_total  redeemed_loyalty_points_total  \n",
       "0                     0                11995.22                        11774.0  \n",
       "1                     0                37711.44                        36959.0  \n",
       "2                     0                  118.97                            0.0  "
      ]
     },
     "execution_count": 6,
     "metadata": {},
     "output_type": "execute_result"
    }
   ],
   "source": [
    "booking_1.head(3)"
   ]
  },
  {
   "cell_type": "code",
   "execution_count": 7,
   "id": "2646ee4a",
   "metadata": {},
   "outputs": [
    {
     "data": {
      "text/html": [
       "<div>\n",
       "<style scoped>\n",
       "    .dataframe tbody tr th:only-of-type {\n",
       "        vertical-align: middle;\n",
       "    }\n",
       "\n",
       "    .dataframe tbody tr th {\n",
       "        vertical-align: top;\n",
       "    }\n",
       "\n",
       "    .dataframe thead th {\n",
       "        text-align: right;\n",
       "    }\n",
       "</style>\n",
       "<table border=\"1\" class=\"dataframe\">\n",
       "  <thead>\n",
       "    <tr style=\"text-align: right;\">\n",
       "      <th></th>\n",
       "      <th>search_log_id</th>\n",
       "      <th>total_price_final</th>\n",
       "      <th>rooms_total_price</th>\n",
       "      <th>upsell_total_price</th>\n",
       "      <th>vouchers_total_price</th>\n",
       "      <th>loyalty_discount_total</th>\n",
       "      <th>redeemed_loyalty_points_total</th>\n",
       "    </tr>\n",
       "  </thead>\n",
       "  <tbody>\n",
       "    <tr>\n",
       "      <th>0</th>\n",
       "      <td>112857</td>\n",
       "      <td>99683.00</td>\n",
       "      <td>119952.22</td>\n",
       "      <td>3500.0</td>\n",
       "      <td>0</td>\n",
       "      <td>11995.22</td>\n",
       "      <td>11774.0</td>\n",
       "    </tr>\n",
       "    <tr>\n",
       "      <th>1</th>\n",
       "      <td>112906</td>\n",
       "      <td>302444.00</td>\n",
       "      <td>377114.44</td>\n",
       "      <td>0.0</td>\n",
       "      <td>0</td>\n",
       "      <td>37711.44</td>\n",
       "      <td>36959.0</td>\n",
       "    </tr>\n",
       "    <tr>\n",
       "      <th>2</th>\n",
       "      <td>113050</td>\n",
       "      <td>622.43</td>\n",
       "      <td>793.16</td>\n",
       "      <td>0.0</td>\n",
       "      <td>0</td>\n",
       "      <td>118.97</td>\n",
       "      <td>0.0</td>\n",
       "    </tr>\n",
       "  </tbody>\n",
       "</table>\n",
       "</div>"
      ],
      "text/plain": [
       "   search_log_id  total_price_final  rooms_total_price  upsell_total_price  \\\n",
       "0         112857           99683.00          119952.22              3500.0   \n",
       "1         112906          302444.00          377114.44                 0.0   \n",
       "2         113050             622.43             793.16                 0.0   \n",
       "\n",
       "   vouchers_total_price  loyalty_discount_total  redeemed_loyalty_points_total  \n",
       "0                     0                11995.22                        11774.0  \n",
       "1                     0                37711.44                        36959.0  \n",
       "2                     0                  118.97                            0.0  "
      ]
     },
     "execution_count": 7,
     "metadata": {},
     "output_type": "execute_result"
    }
   ],
   "source": [
    "import pandas as pd\n",
    "import numpy as np\n",
    "\n",
    "booking_1 = pd.read_csv(\"C:/Users/user/Desktop/PROMETHEUS/2024_PROJECT - D36 - DATA-SCIENCE-VERSENY/3_2. MORGENS - Data Science verseny/Alapadat letötések/Py_előkészítve/booking_data_hotel_1.csv\", sep=\";\")\n",
    "\n",
    "booking_1.head(3)"
   ]
  },
  {
   "cell_type": "code",
   "execution_count": 8,
   "id": "8d8f50d2",
   "metadata": {},
   "outputs": [
    {
     "data": {
      "text/html": [
       "<div>\n",
       "<style scoped>\n",
       "    .dataframe tbody tr th:only-of-type {\n",
       "        vertical-align: middle;\n",
       "    }\n",
       "\n",
       "    .dataframe tbody tr th {\n",
       "        vertical-align: top;\n",
       "    }\n",
       "\n",
       "    .dataframe thead th {\n",
       "        text-align: right;\n",
       "    }\n",
       "</style>\n",
       "<table border=\"1\" class=\"dataframe\">\n",
       "  <thead>\n",
       "    <tr style=\"text-align: right;\">\n",
       "      <th></th>\n",
       "      <th>search_log_id</th>\n",
       "      <th>total_price_final</th>\n",
       "      <th>rooms_total_price</th>\n",
       "      <th>upsell_total_price</th>\n",
       "      <th>vouchers_total_price</th>\n",
       "      <th>loyalty_discount_total</th>\n",
       "      <th>redeemed_loyalty_points_total</th>\n",
       "    </tr>\n",
       "  </thead>\n",
       "  <tbody>\n",
       "    <tr>\n",
       "      <th>0</th>\n",
       "      <td>112857</td>\n",
       "      <td>99683.00</td>\n",
       "      <td>119952.22</td>\n",
       "      <td>3500.0</td>\n",
       "      <td>0</td>\n",
       "      <td>11995.22</td>\n",
       "      <td>11774.0</td>\n",
       "    </tr>\n",
       "    <tr>\n",
       "      <th>1</th>\n",
       "      <td>112906</td>\n",
       "      <td>302444.00</td>\n",
       "      <td>377114.44</td>\n",
       "      <td>0.0</td>\n",
       "      <td>0</td>\n",
       "      <td>37711.44</td>\n",
       "      <td>36959.0</td>\n",
       "    </tr>\n",
       "    <tr>\n",
       "      <th>2</th>\n",
       "      <td>113050</td>\n",
       "      <td>622.43</td>\n",
       "      <td>793.16</td>\n",
       "      <td>0.0</td>\n",
       "      <td>0</td>\n",
       "      <td>118.97</td>\n",
       "      <td>0.0</td>\n",
       "    </tr>\n",
       "  </tbody>\n",
       "</table>\n",
       "</div>"
      ],
      "text/plain": [
       "   search_log_id  total_price_final  rooms_total_price  upsell_total_price  \\\n",
       "0         112857           99683.00          119952.22              3500.0   \n",
       "1         112906          302444.00          377114.44                 0.0   \n",
       "2         113050             622.43             793.16                 0.0   \n",
       "\n",
       "   vouchers_total_price  loyalty_discount_total  redeemed_loyalty_points_total  \n",
       "0                     0                11995.22                        11774.0  \n",
       "1                     0                37711.44                        36959.0  \n",
       "2                     0                  118.97                            0.0  "
      ]
     },
     "execution_count": 8,
     "metadata": {},
     "output_type": "execute_result"
    }
   ],
   "source": [
    "import pandas as pd    # 1.1 - tábla\n",
    "\n",
    "# Fájl beolvasása\n",
    "booking_1 = pd.read_csv(\"C:/Users/user/Desktop/PROMETHEUS/2024_PROJECT - D36 - DATA-SCIENCE-VERSENY/3_2. MORGENS - Data Science verseny/Alapadat letötések/Py_előkészítve/booking_data_hotel_1.csv\", sep=\";\")\n",
    "\n",
    "# Adattípusok átalakítása\n",
    "booking_1['search_log_id'] = pd.to_numeric(booking_1['search_log_id'], errors='coerce').astype('Int64')  # int64 kompatibilis, de kezelni tudja a NaN értékeket is\n",
    "booking_1['total_price_final'] = pd.to_numeric(booking_1['total_price_final'], errors='coerce').astype('float64')\n",
    "booking_1['rooms_total_price'] = pd.to_numeric(booking_1['rooms_total_price'], errors='coerce').astype('float64')\n",
    "booking_1['upsell_total_price'] = pd.to_numeric(booking_1['upsell_total_price'], errors='coerce').astype('float64')\n",
    "booking_1['vouchers_total_price'] = pd.to_numeric(booking_1['vouchers_total_price'], errors='coerce').astype('Int64')  # Int64, hogy az esetleges NaN értékeket kezelni tudja\n",
    "booking_1['loyalty_discount_total'] = pd.to_numeric(booking_1['loyalty_discount_total'], errors='coerce').astype('float64')\n",
    "booking_1['redeemed_loyalty_points_total'] = pd.to_numeric(booking_1['redeemed_loyalty_points_total'], errors='coerce').astype('float64')\n",
    "\n",
    "# Ellenőrzés, hogy az átalakítás sikeres volt-e\n",
    "booking_1.head(3)"
   ]
  },
  {
   "cell_type": "code",
   "execution_count": 14,
   "id": "21fa50b6",
   "metadata": {},
   "outputs": [
    {
     "data": {
      "text/html": [
       "<div>\n",
       "<style scoped>\n",
       "    .dataframe tbody tr th:only-of-type {\n",
       "        vertical-align: middle;\n",
       "    }\n",
       "\n",
       "    .dataframe tbody tr th {\n",
       "        vertical-align: top;\n",
       "    }\n",
       "\n",
       "    .dataframe thead th {\n",
       "        text-align: right;\n",
       "    }\n",
       "</style>\n",
       "<table border=\"1\" class=\"dataframe\">\n",
       "  <thead>\n",
       "    <tr style=\"text-align: right;\">\n",
       "      <th></th>\n",
       "      <th>search_log_id</th>\n",
       "      <th>total_price_final</th>\n",
       "      <th>rooms_total_price</th>\n",
       "      <th>upsell_total_price</th>\n",
       "      <th>vouchers_total_price</th>\n",
       "      <th>loyalty_discount_total</th>\n",
       "      <th>redeemed_loyalty_points_total</th>\n",
       "    </tr>\n",
       "  </thead>\n",
       "  <tbody>\n",
       "    <tr>\n",
       "      <th>0</th>\n",
       "      <td>112857</td>\n",
       "      <td>99683.00</td>\n",
       "      <td>119952.22</td>\n",
       "      <td>3500.0</td>\n",
       "      <td>0</td>\n",
       "      <td>11995.22</td>\n",
       "      <td>11774.0</td>\n",
       "    </tr>\n",
       "    <tr>\n",
       "      <th>1</th>\n",
       "      <td>112906</td>\n",
       "      <td>302444.00</td>\n",
       "      <td>377114.44</td>\n",
       "      <td>0.0</td>\n",
       "      <td>0</td>\n",
       "      <td>37711.44</td>\n",
       "      <td>36959.0</td>\n",
       "    </tr>\n",
       "    <tr>\n",
       "      <th>2</th>\n",
       "      <td>113050</td>\n",
       "      <td>622.43</td>\n",
       "      <td>793.16</td>\n",
       "      <td>0.0</td>\n",
       "      <td>0</td>\n",
       "      <td>118.97</td>\n",
       "      <td>0.0</td>\n",
       "    </tr>\n",
       "    <tr>\n",
       "      <th>3</th>\n",
       "      <td>113057</td>\n",
       "      <td>406944.00</td>\n",
       "      <td>452160.00</td>\n",
       "      <td>0.0</td>\n",
       "      <td>0</td>\n",
       "      <td>45216.00</td>\n",
       "      <td>0.0</td>\n",
       "    </tr>\n",
       "    <tr>\n",
       "      <th>4</th>\n",
       "      <td>113070</td>\n",
       "      <td>127885.00</td>\n",
       "      <td>167843.29</td>\n",
       "      <td>0.0</td>\n",
       "      <td>0</td>\n",
       "      <td>27515.29</td>\n",
       "      <td>12443.0</td>\n",
       "    </tr>\n",
       "  </tbody>\n",
       "</table>\n",
       "</div>"
      ],
      "text/plain": [
       "   search_log_id  total_price_final  rooms_total_price  upsell_total_price  \\\n",
       "0         112857           99683.00          119952.22              3500.0   \n",
       "1         112906          302444.00          377114.44                 0.0   \n",
       "2         113050             622.43             793.16                 0.0   \n",
       "3         113057          406944.00          452160.00                 0.0   \n",
       "4         113070          127885.00          167843.29                 0.0   \n",
       "\n",
       "   vouchers_total_price  loyalty_discount_total  redeemed_loyalty_points_total  \n",
       "0                     0                11995.22                        11774.0  \n",
       "1                     0                37711.44                        36959.0  \n",
       "2                     0                  118.97                            0.0  \n",
       "3                     0                45216.00                            0.0  \n",
       "4                     0                27515.29                        12443.0  "
      ]
     },
     "execution_count": 14,
     "metadata": {},
     "output_type": "execute_result"
    }
   ],
   "source": [
    "booking_1.head(5)"
   ]
  },
  {
   "cell_type": "code",
   "execution_count": 16,
   "id": "16933073",
   "metadata": {},
   "outputs": [
    {
     "data": {
      "text/html": [
       "<div>\n",
       "<style scoped>\n",
       "    .dataframe tbody tr th:only-of-type {\n",
       "        vertical-align: middle;\n",
       "    }\n",
       "\n",
       "    .dataframe tbody tr th {\n",
       "        vertical-align: top;\n",
       "    }\n",
       "\n",
       "    .dataframe thead th {\n",
       "        text-align: right;\n",
       "    }\n",
       "</style>\n",
       "<table border=\"1\" class=\"dataframe\">\n",
       "  <thead>\n",
       "    <tr style=\"text-align: right;\">\n",
       "      <th></th>\n",
       "      <th>recording_date</th>\n",
       "      <th>subject_date</th>\n",
       "      <th>fill_rate</th>\n",
       "    </tr>\n",
       "  </thead>\n",
       "  <tbody>\n",
       "    <tr>\n",
       "      <th>0</th>\n",
       "      <td>2024-09-18</td>\n",
       "      <td>2024-09-18</td>\n",
       "      <td>67.368</td>\n",
       "    </tr>\n",
       "    <tr>\n",
       "      <th>1</th>\n",
       "      <td>2024-09-18</td>\n",
       "      <td>2024-09-19</td>\n",
       "      <td>65.789</td>\n",
       "    </tr>\n",
       "    <tr>\n",
       "      <th>2</th>\n",
       "      <td>2024-09-18</td>\n",
       "      <td>2024-09-20</td>\n",
       "      <td>67.895</td>\n",
       "    </tr>\n",
       "  </tbody>\n",
       "</table>\n",
       "</div>"
      ],
      "text/plain": [
       "  recording_date subject_date  fill_rate\n",
       "0     2024-09-18   2024-09-18     67.368\n",
       "1     2024-09-18   2024-09-19     65.789\n",
       "2     2024-09-18   2024-09-20     67.895"
      ]
     },
     "execution_count": 16,
     "metadata": {},
     "output_type": "execute_result"
    }
   ],
   "source": [
    "import pandas as pd    # 1.2 - tábla\n",
    "\n",
    "# Fájl beolvasása\n",
    "daily_occupancy_1 = pd.read_csv(\"C:/Users/user/Desktop/PROMETHEUS/2024_PROJECT - D36 - DATA-SCIENCE-VERSENY/3_2. MORGENS - Data Science verseny/Alapadat letötések/Py_előkészítve/daily_occupancy_hotel_1.csv\", sep=\";\")\n",
    "\n",
    "# Adattípusok átalakítása\n",
    "daily_occupancy_1['recording_date'] = daily_occupancy_1['recording_date'].astype('object')\n",
    "daily_occupancy_1['subject_date'] = daily_occupancy_1['subject_date'].astype('object')\n",
    "daily_occupancy_1['fill_rate'] = pd.to_numeric(daily_occupancy_1['fill_rate'], errors='coerce').astype('float64')\n",
    "\n",
    "# Az átalakított adattípusok ellenőrzése\n",
    "daily_occupancy_1.head(3)"
   ]
  },
  {
   "cell_type": "code",
   "execution_count": null,
   "id": "4044ab34",
   "metadata": {},
   "outputs": [],
   "source": []
  },
  {
   "cell_type": "code",
   "execution_count": 18,
   "id": "c95e2c68",
   "metadata": {},
   "outputs": [
    {
     "name": "stdout",
     "output_type": "stream",
     "text": [
      "Index([',daily_google_spend,daily_microsoft_spend,daily_meta_spend'], dtype='object')\n"
     ]
    }
   ],
   "source": [
    "import pandas as pd    # 1.3 - tábla !!! Ez a kód kiíratja a csv fejécét!!!! \n",
    "\n",
    "# Fájl beolvasása\n",
    "daily_ppc_budget_1 = pd.read_csv(\"C:/Users/user/Desktop/PROMETHEUS/2024_PROJECT - D36 - DATA-SCIENCE-VERSENY/3_2. MORGENS - Data Science verseny/Alapadat letötések/Py_előkészítve/daily_ppc_budget_hotel_1.csv\", sep=\";\")\n",
    "\n",
    "\n",
    "print(daily_ppc_budget_1.columns)"
   ]
  },
  {
   "cell_type": "code",
   "execution_count": null,
   "id": "17ae1542",
   "metadata": {},
   "outputs": [],
   "source": []
  },
  {
   "cell_type": "code",
   "execution_count": 20,
   "id": "bbfe7121",
   "metadata": {},
   "outputs": [
    {
     "name": "stdout",
     "output_type": "stream",
     "text": [
      "A 'date' szó sikeresen hozzáadva a fejlécbe.\n"
     ]
    }
   ],
   "source": [
    "import pandas as pd #!!!!!!!FONTOS azért volt hiba, mert az alap csv. fájl fejlécéből hiányztot a \"date\" szó!!! Evvel a képlettel beletettem a csv-be a hiányzó szót és utána már működik!!!!!\n",
    "\n",
    "# CSV fájl beolvasása fejléc nélkül\n",
    "file_path = \"C:/Users/user/Desktop/PROMETHEUS/2024_PROJECT - D36 - DATA-SCIENCE-VERSENY/3_2. MORGENS - Data Science verseny/Alapadat letötések/Py_előkészítve/daily_ppc_budget_hotel_1.csv\"\n",
    "df = pd.read_csv(file_path, header=None)\n",
    "\n",
    "# \"date\" hozzáadása az első cellához\n",
    "df.iloc[0, 0] = \"date\"\n",
    "\n",
    "# CSV mentése a módosításokkal\n",
    "df.to_csv(file_path, index=False, header=False)\n",
    "\n",
    "# Ellenőrizzük, hogy a módosított fájl rendben van-e\n",
    "print(\"A 'date' szó sikeresen hozzáadva a fejlécbe.\")"
   ]
  },
  {
   "cell_type": "code",
   "execution_count": 22,
   "id": "24defdbe",
   "metadata": {},
   "outputs": [
    {
     "data": {
      "text/html": [
       "<div>\n",
       "<style scoped>\n",
       "    .dataframe tbody tr th:only-of-type {\n",
       "        vertical-align: middle;\n",
       "    }\n",
       "\n",
       "    .dataframe tbody tr th {\n",
       "        vertical-align: top;\n",
       "    }\n",
       "\n",
       "    .dataframe thead th {\n",
       "        text-align: right;\n",
       "    }\n",
       "</style>\n",
       "<table border=\"1\" class=\"dataframe\">\n",
       "  <thead>\n",
       "    <tr style=\"text-align: right;\">\n",
       "      <th></th>\n",
       "      <th>date</th>\n",
       "      <th>daily_google_spend</th>\n",
       "      <th>daily_microsoft_spend</th>\n",
       "      <th>daily_meta_spend</th>\n",
       "    </tr>\n",
       "  </thead>\n",
       "  <tbody>\n",
       "    <tr>\n",
       "      <th>0</th>\n",
       "      <td>2024.09.18.</td>\n",
       "      <td>128044</td>\n",
       "      <td>10564</td>\n",
       "      <td>35950</td>\n",
       "    </tr>\n",
       "    <tr>\n",
       "      <th>1</th>\n",
       "      <td>2024.09.19.</td>\n",
       "      <td>137322</td>\n",
       "      <td>12048</td>\n",
       "      <td>53112</td>\n",
       "    </tr>\n",
       "    <tr>\n",
       "      <th>2</th>\n",
       "      <td>2024.09.20.</td>\n",
       "      <td>124825</td>\n",
       "      <td>8484</td>\n",
       "      <td>61717</td>\n",
       "    </tr>\n",
       "  </tbody>\n",
       "</table>\n",
       "</div>"
      ],
      "text/plain": [
       "          date  daily_google_spend  daily_microsoft_spend  daily_meta_spend\n",
       "0  2024.09.18.              128044                  10564             35950\n",
       "1  2024.09.19.              137322                  12048             53112\n",
       "2  2024.09.20.              124825                   8484             61717"
      ]
     },
     "execution_count": 22,
     "metadata": {},
     "output_type": "execute_result"
    }
   ],
   "source": [
    "import pandas as pd    # 1.3 - tábla\n",
    "\n",
    "# Fájl beolvasása vesszővel elválasztott értékekkel\n",
    "daily_ppc_budget_1 = pd.read_csv(\"C:/Users/user/Desktop/PROMETHEUS/2024_PROJECT - D36 - DATA-SCIENCE-VERSENY/3_2. MORGENS - Data Science verseny/Alapadat letötések/Py_előkészítve/daily_ppc_budget_hotel_1.csv\", sep=\",\")\n",
    "\n",
    "# Ha most megfelelőek az oszlopnevek, folytathatjuk az adattípus átalakítást\n",
    "daily_ppc_budget_1['date'] = daily_ppc_budget_1['date'].astype('object')\n",
    "daily_ppc_budget_1['daily_google_spend'] = pd.to_numeric(daily_ppc_budget_1['daily_google_spend'], errors='coerce').astype('Int64')\n",
    "daily_ppc_budget_1['daily_microsoft_spend'] = pd.to_numeric(daily_ppc_budget_1['daily_microsoft_spend'], errors='coerce').astype('Int64')\n",
    "daily_ppc_budget_1['daily_meta_spend'] = pd.to_numeric(daily_ppc_budget_1['daily_meta_spend'], errors='coerce').astype('Int64')\n",
    "\n",
    "# Az átalakított adattípusok ellenőrzése\n",
    "daily_ppc_budget_1.head(3)"
   ]
  },
  {
   "cell_type": "code",
   "execution_count": 24,
   "id": "257714dd",
   "metadata": {},
   "outputs": [
    {
     "name": "stdout",
     "output_type": "stream",
     "text": [
      "Módosított fájl mentve ide: C:/Users/user/Desktop/PROMETHEUS/2024_PROJECT - D36 - DATA-SCIENCE-VERSENY/3_2. MORGENS - Data Science verseny/Alapadat letötések/Py_TISZ_csv\\booking_data_1_CLEAN.csv\n"
     ]
    }
   ],
   "source": [
    "import pandas as pd    # 1.1 - tábla\n",
    "import os\n",
    "\n",
    "# Beolvasás és célmappa meghatározása\n",
    "input_file_path = \"C:/Users/user/Desktop/PROMETHEUS/2024_PROJECT - D36 - DATA-SCIENCE-VERSENY/3_2. MORGENS - Data Science verseny/Alapadat letötések/Py_előkészítve/booking_data_hotel_1.csv\"\n",
    "output_directory = \"C:/Users/user/Desktop/PROMETHEUS/2024_PROJECT - D36 - DATA-SCIENCE-VERSENY/3_2. MORGENS - Data Science verseny/Alapadat letötések/Py_TISZ_csv\"\n",
    "\n",
    "# Fájl beolvasása\n",
    "booking_1 = pd.read_csv(input_file_path, sep=\";\")\n",
    "\n",
    "# Adattípusok átalakítása\n",
    "booking_1['search_log_id'] = pd.to_numeric(booking_1['search_log_id'], errors='coerce').astype('Int64')\n",
    "booking_1['total_price_final'] = pd.to_numeric(booking_1['total_price_final'], errors='coerce').astype('float64')\n",
    "booking_1['rooms_total_price'] = pd.to_numeric(booking_1['rooms_total_price'], errors='coerce').astype('float64')\n",
    "booking_1['upsell_total_price'] = pd.to_numeric(booking_1['upsell_total_price'], errors='coerce').astype('float64')\n",
    "booking_1['vouchers_total_price'] = pd.to_numeric(booking_1['vouchers_total_price'], errors='coerce').astype('Int64')\n",
    "booking_1['loyalty_discount_total'] = pd.to_numeric(booking_1['loyalty_discount_total'], errors='coerce').astype('float64')\n",
    "booking_1['redeemed_loyalty_points_total'] = pd.to_numeric(booking_1['redeemed_loyalty_points_total'], errors='coerce').astype('float64')\n",
    "\n",
    "# Új fájlnév generálása\n",
    "output_file_name = \"booking_data_1_CLEAN.csv\"\n",
    "output_file_path = os.path.join(output_directory, output_file_name)\n",
    "\n",
    "# Módosított adatfájl mentése új mappába\n",
    "booking_1.to_csv(output_file_path, index=False, sep=\";\")\n",
    "\n",
    "# Ellenőrzés\n",
    "print(f\"Módosított fájl mentve ide: {output_file_path}\")\n"
   ]
  },
  {
   "cell_type": "code",
   "execution_count": 27,
   "id": "94d7620d",
   "metadata": {},
   "outputs": [
    {
     "name": "stdout",
     "output_type": "stream",
     "text": [
      "Módosított fájl mentve ide: C:/Users/user/Desktop/PROMETHEUS/2024_PROJECT - D36 - DATA-SCIENCE-VERSENY/3_2. MORGENS - Data Science verseny/Alapadat letötések/Py_TISZ_csv\\daily_occupancy_1_CLEAN.csv\n"
     ]
    }
   ],
   "source": [
    "import pandas as pd    # 1.2 - tábla\n",
    "import os\n",
    "\n",
    "# Beolvasás és célmappa meghatározása\n",
    "daily_occupancy_1 = pd.read_csv(\"C:/Users/user/Desktop/PROMETHEUS/2024_PROJECT - D36 - DATA-SCIENCE-VERSENY/3_2. MORGENS - Data Science verseny/Alapadat letötések/Py_előkészítve/daily_occupancy_hotel_1.csv\", sep=\";\")\n",
    "output_directory = \"C:/Users/user/Desktop/PROMETHEUS/2024_PROJECT - D36 - DATA-SCIENCE-VERSENY/3_2. MORGENS - Data Science verseny/Alapadat letötések/Py_TISZ_csv\"\n",
    "\n",
    "# Fájl beolvasása\n",
    "daily_occupancy_hotel_1 = pd.read_csv(input_file_path, sep=\";\")\n",
    "\n",
    "# Adattípusok átalakítása\n",
    "daily_occupancy_1['recording_date'] = daily_occupancy_1['recording_date'].astype('object')\n",
    "daily_occupancy_1['subject_date'] = daily_occupancy_1['subject_date'].astype('object')\n",
    "daily_occupancy_1['fill_rate'] = pd.to_numeric(daily_occupancy_1['fill_rate'], errors='coerce').astype('float64')\n",
    "\n",
    "# Új fájlnév generálása\n",
    "output_file_name = \"daily_occupancy_1_CLEAN.csv\"\n",
    "output_file_path = os.path.join(output_directory, output_file_name)\n",
    "\n",
    "# Módosított adatfájl mentése új mappába\n",
    "daily_occupancy_1.to_csv(output_file_path, index=False, sep=\";\")\n",
    "\n",
    "# Ellenőrzés\n",
    "print(f\"Módosított fájl mentve ide: {output_file_path}\")"
   ]
  },
  {
   "cell_type": "code",
   "execution_count": 28,
   "id": "21b4f661",
   "metadata": {},
   "outputs": [
    {
     "name": "stdout",
     "output_type": "stream",
     "text": [
      "Módosított fájl mentve ide: C:/Users/user/Desktop/PROMETHEUS/2024_PROJECT - D36 - DATA-SCIENCE-VERSENY/3_2. MORGENS - Data Science verseny/Alapadat letötések/Py_TISZ_csv\\daily_ppc_budget_1_CLEAN.csv\n"
     ]
    }
   ],
   "source": [
    "import pandas as pd    # 1.3 - tábla\n",
    "import os\n",
    "\n",
    "# Beolvasás és célmappa meghatározása\n",
    "daily_ppc_budget_1 = pd.read_csv(\"C:/Users/user/Desktop/PROMETHEUS/2024_PROJECT - D36 - DATA-SCIENCE-VERSENY/3_2. MORGENS - Data Science verseny/Alapadat letötések/Py_előkészítve/daily_ppc_budget_hotel_1.csv\", sep=\",\")\n",
    "output_directory = \"C:/Users/user/Desktop/PROMETHEUS/2024_PROJECT - D36 - DATA-SCIENCE-VERSENY/3_2. MORGENS - Data Science verseny/Alapadat letötések/Py_TISZ_csv\"\n",
    "\n",
    "# Fájl beolvasása\n",
    "daily_ppc_budget_hotel_1 = pd.read_csv(input_file_path, sep=\";\")\n",
    "\n",
    "# Ha most megfelelőek az oszlopnevek, folytathatjuk az adattípus átalakítást\n",
    "daily_ppc_budget_1['date'] = daily_ppc_budget_1['date'].astype('object')\n",
    "daily_ppc_budget_1['daily_google_spend'] = pd.to_numeric(daily_ppc_budget_1['daily_google_spend'], errors='coerce').astype('Int64')\n",
    "daily_ppc_budget_1['daily_microsoft_spend'] = pd.to_numeric(daily_ppc_budget_1['daily_microsoft_spend'], errors='coerce').astype('Int64')\n",
    "daily_ppc_budget_1['daily_meta_spend'] = pd.to_numeric(daily_ppc_budget_1['daily_meta_spend'], errors='coerce').astype('Int64')\n",
    "\n",
    "# Új fájlnév generálása\n",
    "output_file_name = \"daily_ppc_budget_1_CLEAN.csv\"\n",
    "output_file_path = os.path.join(output_directory, output_file_name)\n",
    "\n",
    "# Módosított adatfájl mentése új mappába\n",
    "daily_ppc_budget_1.to_csv(output_file_path, index=False, sep=\";\")\n",
    "\n",
    "# Ellenőrzés\n",
    "print(f\"Módosított fájl mentve ide: {output_file_path}\")"
   ]
  },
  {
   "cell_type": "code",
   "execution_count": 34,
   "id": "64f4cf86",
   "metadata": {},
   "outputs": [
    {
     "name": "stdout",
     "output_type": "stream",
     "text": [
      "Módosított fájl mentve ide: C:/Users/user/Desktop/PROMETHEUS/2024_PROJECT - D36 - DATA-SCIENCE-VERSENY/3_2. MORGENS - Data Science verseny/Alapadat letötések/Py_TISZ_csv\\datepicker_daily_visitors_1_CLEAN.csv\n"
     ]
    }
   ],
   "source": [
    "import pandas as pd    # 1.4 - tábla\n",
    "import os\n",
    "\n",
    "# Beolvasás és célmappa meghatározása\n",
    "datepicker_daily_visitors_1 = pd.read_csv(\"C:/Users/user/Desktop/PROMETHEUS/2024_PROJECT - D36 - DATA-SCIENCE-VERSENY/3_2. MORGENS - Data Science verseny/Alapadat letötések/Py_előkészítve/datepicker_daily_visitors_hotel_1.csv\", sep=\",\")\n",
    "output_directory = \"C:/Users/user/Desktop/PROMETHEUS/2024_PROJECT - D36 - DATA-SCIENCE-VERSENY/3_2. MORGENS - Data Science verseny/Alapadat letötések/Py_TISZ_csv\"\n",
    "\n",
    "# Fájl beolvasása\n",
    "datepicker_daily_visitors_hotel_1 = pd.read_csv(input_file_path, sep=\"!\")\n",
    "\n",
    "# Ha most megfelelőek az oszlopnevek, folytathatjuk az adattípus átalakítást\n",
    "datepicker_daily_visitors_1['Dátum'] = datepicker_daily_visitors_1['Dátum'].astype('object')\n",
    "datepicker_daily_visitors_1['Felhasználók teljes száma'] = pd.to_numeric(datepicker_daily_visitors_1['Felhasználók teljes száma'], errors='coerce').astype('Int64')\n",
    "datepicker_daily_visitors_1['Munkamenetek'] = pd.to_numeric(datepicker_daily_visitors_1['Munkamenetek'], errors='coerce').astype('Int64')\n",
    "\n",
    "\n",
    "# Új fájlnév generálása\n",
    "output_file_name = \"datepicker_daily_visitors_1_CLEAN.csv\"\n",
    "output_file_path = os.path.join(output_directory, output_file_name)\n",
    "\n",
    "# Módosított adatfájl mentése új mappába\n",
    "datepicker_daily_visitors_1.to_csv(output_file_path, index=False, sep=\";\")\n",
    "\n",
    "# Ellenőrzés\n",
    "print(f\"Módosított fájl mentve ide: {output_file_path}\")"
   ]
  },
  {
   "cell_type": "code",
   "execution_count": 35,
   "id": "4b7ebbe1",
   "metadata": {},
   "outputs": [
    {
     "name": "stdout",
     "output_type": "stream",
     "text": [
      "Módosított fájl mentve ide: C:/Users/user/Desktop/PROMETHEUS/2024_PROJECT - D36 - DATA-SCIENCE-VERSENY/3_2. MORGENS - Data Science verseny/Alapadat letötések/Py_TISZ_csv\\datepicker_daily_visitors_1_CLEAN.csv\n"
     ]
    }
   ],
   "source": [
    "import pandas as pd    # 1.4 - tábla (Oszlopnév konverzióval, csak akkor kell ha módosítani is akarom a céltába oszlopneveit)\n",
    "import os\n",
    "\n",
    "# Beolvasás és célmappa meghatározása\n",
    "input_file_path = \"C:/Users/user/Desktop/PROMETHEUS/2024_PROJECT - D36 - DATA-SCIENCE-VERSENY/3_2. MORGENS - Data Science verseny/Alapadat letötések/Py_előkészítve/datepicker_daily_visitors_hotel_1.csv\"\n",
    "output_directory = \"C:/Users/user/Desktop/PROMETHEUS/2024_PROJECT - D36 - DATA-SCIENCE-VERSENY/3_2. MORGENS - Data Science verseny/Alapadat letötések/Py_TISZ_csv\"\n",
    "\n",
    "# Fájl beolvasása\n",
    "datepicker_daily_visitors_1 = pd.read_csv(input_file_path, sep=\",\")\n",
    "\n",
    "# Fejléc átnevezése magyarból angolra\n",
    "datepicker_daily_visitors_1 = datepicker_daily_visitors_1.rename(columns={\n",
    "    'Dátum': 'Date',\n",
    "    'Felhasználók teljes száma': 'Total_users',\n",
    "    'Munkamenetek': 'Sessions'\n",
    "})\n",
    "\n",
    "# Adattípusok átalakítása az új oszlopnevekkel\n",
    "datepicker_daily_visitors_1['Date'] = datepicker_daily_visitors_1['Date'].astype('object')\n",
    "datepicker_daily_visitors_1['Total_users'] = pd.to_numeric(datepicker_daily_visitors_1['Total_users'], errors='coerce').astype('Int64')\n",
    "datepicker_daily_visitors_1['Sessions'] = pd.to_numeric(datepicker_daily_visitors_1['Sessions'], errors='coerce').astype('Int64')\n",
    "\n",
    "# Új fájlnév generálása\n",
    "output_file_name = \"datepicker_daily_visitors_1_CLEAN.csv\"\n",
    "output_file_path = os.path.join(output_directory, output_file_name)\n",
    "\n",
    "# Módosított adatfájl mentése új mappába\n",
    "datepicker_daily_visitors_1.to_csv(output_file_path, index=False, sep=\";\")\n",
    "\n",
    "# Ellenőrzés\n",
    "print(f\"Módosított fájl mentve ide: {output_file_path}\")"
   ]
  },
  {
   "cell_type": "code",
   "execution_count": null,
   "id": "a103dd09",
   "metadata": {},
   "outputs": [],
   "source": []
  },
  {
   "cell_type": "code",
   "execution_count": 37,
   "id": "fd806ba9",
   "metadata": {},
   "outputs": [
    {
     "name": "stdout",
     "output_type": "stream",
     "text": [
      "Index(['id;\"search_log_session_id\";\"utc_datetime\";\"lang_code\";\"currency\";\"arrival\";\"departure\";\"days\";\"nights\";\"adults\";\"children\";\"conversion\";\"total_price_final\"'], dtype='object')\n"
     ]
    }
   ],
   "source": [
    "print(search_log_1.columns)\n"
   ]
  },
  {
   "cell_type": "code",
   "execution_count": 38,
   "id": "95b7d116",
   "metadata": {},
   "outputs": [
    {
     "name": "stdout",
     "output_type": "stream",
     "text": [
      "Módosított fájl mentve ide: C:/Users/user/Desktop/PROMETHEUS/2024_PROJECT - D36 - DATA-SCIENCE-VERSENY/3_2. MORGENS - Data Science verseny/Alapadat letötések/Py_TISZ_csv\\search_log_1_CLEAN.csv\n"
     ]
    }
   ],
   "source": [
    "import pandas as pd    # 1.5 - tábla\n",
    "import os\n",
    "\n",
    "# Beolvasás és célmappa meghatározása\n",
    "search_log_1 = pd.read_csv(\"C:/Users/user/Desktop/PROMETHEUS/2024_PROJECT - D36 - DATA-SCIENCE-VERSENY/3_2. MORGENS - Data Science verseny/Alapadat letötések/Py_előkészítve/search_log_hotel_1.csv\", sep=\";\")\n",
    "output_directory = \"C:/Users/user/Desktop/PROMETHEUS/2024_PROJECT - D36 - DATA-SCIENCE-VERSENY/3_2. MORGENS - Data Science verseny/Alapadat letötések/Py_TISZ_csv\"\n",
    "\n",
    "# Adattípusok átalakítása\n",
    "search_log_1['id'] = pd.to_numeric(search_log_1['id'], errors='coerce').astype('Int64')\n",
    "search_log_1['search_log_session_id'] = pd.to_numeric(search_log_1['search_log_session_id'], errors='coerce').astype('Int64')\n",
    "search_log_1['utc_datetime'] = search_log_1['utc_datetime'].astype('object')\n",
    "search_log_1['lang_code'] = search_log_1['lang_code'].astype('object')\n",
    "search_log_1['arrival'] = search_log_1['arrival'].astype('object')\n",
    "search_log_1['departure'] = search_log_1['departure'].astype('object')\n",
    "search_log_1['days'] = pd.to_numeric(search_log_1['days'], errors='coerce').astype('Int64')\n",
    "search_log_1['nights'] = pd.to_numeric(search_log_1['nights'], errors='coerce').astype('Int64')\n",
    "search_log_1['adults'] = pd.to_numeric(search_log_1['adults'], errors='coerce').astype('Int64')\n",
    "search_log_1['children'] = pd.to_numeric(search_log_1['children'], errors='coerce').astype('Int64')\n",
    "search_log_1['conversion'] = pd.to_numeric(search_log_1['conversion'], errors='coerce').astype('float64')\n",
    "search_log_1['total_price_final'] = pd.to_numeric(search_log_1['total_price_final'], errors='coerce').astype('float64')\n",
    "\n",
    "# Új fájlnév generálása\n",
    "output_file_name = \"search_log_1_CLEAN.csv\"\n",
    "output_file_path = os.path.join(output_directory, output_file_name)\n",
    "\n",
    "# Módosított adatfájl mentése új mappába\n",
    "search_log_1.to_csv(output_file_path, index=False, sep=\";\")\n",
    "\n",
    "# Ellenőrzés\n",
    "print(f\"Módosított fájl mentve ide: {output_file_path}\")\n"
   ]
  },
  {
   "cell_type": "code",
   "execution_count": 5,
   "id": "cd3fbc75",
   "metadata": {},
   "outputs": [
    {
     "ename": "KeyError",
     "evalue": "'id'",
     "output_type": "error",
     "traceback": [
      "\u001b[1;31m---------------------------------------------------------------------------\u001b[0m",
      "\u001b[1;31mKeyError\u001b[0m                                  Traceback (most recent call last)",
      "\u001b[1;32m~\\anaconda3\\lib\\site-packages\\pandas\\core\\indexes\\base.py\u001b[0m in \u001b[0;36mget_loc\u001b[1;34m(self, key, method, tolerance)\u001b[0m\n\u001b[0;32m   3628\u001b[0m             \u001b[1;32mtry\u001b[0m\u001b[1;33m:\u001b[0m\u001b[1;33m\u001b[0m\u001b[1;33m\u001b[0m\u001b[0m\n\u001b[1;32m-> 3629\u001b[1;33m                 \u001b[1;32mreturn\u001b[0m \u001b[0mself\u001b[0m\u001b[1;33m.\u001b[0m\u001b[0m_engine\u001b[0m\u001b[1;33m.\u001b[0m\u001b[0mget_loc\u001b[0m\u001b[1;33m(\u001b[0m\u001b[0mcasted_key\u001b[0m\u001b[1;33m)\u001b[0m\u001b[1;33m\u001b[0m\u001b[1;33m\u001b[0m\u001b[0m\n\u001b[0m\u001b[0;32m   3630\u001b[0m             \u001b[1;32mexcept\u001b[0m \u001b[0mKeyError\u001b[0m \u001b[1;32mas\u001b[0m \u001b[0merr\u001b[0m\u001b[1;33m:\u001b[0m\u001b[1;33m\u001b[0m\u001b[1;33m\u001b[0m\u001b[0m\n",
      "\u001b[1;32m~\\anaconda3\\lib\\site-packages\\pandas\\_libs\\index.pyx\u001b[0m in \u001b[0;36mpandas._libs.index.IndexEngine.get_loc\u001b[1;34m()\u001b[0m\n",
      "\u001b[1;32m~\\anaconda3\\lib\\site-packages\\pandas\\_libs\\index.pyx\u001b[0m in \u001b[0;36mpandas._libs.index.IndexEngine.get_loc\u001b[1;34m()\u001b[0m\n",
      "\u001b[1;32mpandas\\_libs\\hashtable_class_helper.pxi\u001b[0m in \u001b[0;36mpandas._libs.hashtable.PyObjectHashTable.get_item\u001b[1;34m()\u001b[0m\n",
      "\u001b[1;32mpandas\\_libs\\hashtable_class_helper.pxi\u001b[0m in \u001b[0;36mpandas._libs.hashtable.PyObjectHashTable.get_item\u001b[1;34m()\u001b[0m\n",
      "\u001b[1;31mKeyError\u001b[0m: 'id'",
      "\nThe above exception was the direct cause of the following exception:\n",
      "\u001b[1;31mKeyError\u001b[0m                                  Traceback (most recent call last)",
      "\u001b[1;32m~\\AppData\\Local\\Temp\\ipykernel_13524\\3551443148.py\u001b[0m in \u001b[0;36m<module>\u001b[1;34m\u001b[0m\n\u001b[0;32m      8\u001b[0m \u001b[1;33m\u001b[0m\u001b[0m\n\u001b[0;32m      9\u001b[0m \u001b[1;31m# Ha most megfelelőek az oszlopnevek, folytathatjuk az adattípus átalakítást\u001b[0m\u001b[1;33m\u001b[0m\u001b[1;33m\u001b[0m\u001b[0m\n\u001b[1;32m---> 10\u001b[1;33m \u001b[0msearch_log_room_1\u001b[0m\u001b[1;33m[\u001b[0m\u001b[1;34m'id'\u001b[0m\u001b[1;33m]\u001b[0m \u001b[1;33m=\u001b[0m \u001b[0mpd\u001b[0m\u001b[1;33m.\u001b[0m\u001b[0mto_numeric\u001b[0m\u001b[1;33m(\u001b[0m\u001b[0msearch_log_room_1\u001b[0m\u001b[1;33m[\u001b[0m\u001b[1;34m'id'\u001b[0m\u001b[1;33m]\u001b[0m\u001b[1;33m,\u001b[0m \u001b[0merrors\u001b[0m\u001b[1;33m=\u001b[0m\u001b[1;34m'coerce'\u001b[0m\u001b[1;33m)\u001b[0m\u001b[1;33m.\u001b[0m\u001b[0mastype\u001b[0m\u001b[1;33m(\u001b[0m\u001b[1;34m'Int64'\u001b[0m\u001b[1;33m)\u001b[0m\u001b[1;33m\u001b[0m\u001b[1;33m\u001b[0m\u001b[0m\n\u001b[0m\u001b[0;32m     11\u001b[0m \u001b[0msearch_log_room_1\u001b[0m\u001b[1;33m[\u001b[0m\u001b[1;34m'search_log_session_id'\u001b[0m\u001b[1;33m]\u001b[0m \u001b[1;33m=\u001b[0m \u001b[0mpd\u001b[0m\u001b[1;33m.\u001b[0m\u001b[0mto_numeric\u001b[0m\u001b[1;33m(\u001b[0m\u001b[0msearch_log_room_1\u001b[0m\u001b[1;33m[\u001b[0m\u001b[1;34m'search_log_session_id'\u001b[0m\u001b[1;33m]\u001b[0m\u001b[1;33m,\u001b[0m \u001b[0merrors\u001b[0m\u001b[1;33m=\u001b[0m\u001b[1;34m'coerce'\u001b[0m\u001b[1;33m)\u001b[0m\u001b[1;33m.\u001b[0m\u001b[0mastype\u001b[0m\u001b[1;33m(\u001b[0m\u001b[1;34m'Int64'\u001b[0m\u001b[1;33m)\u001b[0m\u001b[1;33m\u001b[0m\u001b[1;33m\u001b[0m\u001b[0m\n\u001b[0;32m     12\u001b[0m \u001b[0msearch_log_room_1\u001b[0m\u001b[1;33m[\u001b[0m\u001b[1;34m'utc_datetime'\u001b[0m\u001b[1;33m]\u001b[0m \u001b[1;33m=\u001b[0m \u001b[0msearch_log_room_1\u001b[0m\u001b[1;33m[\u001b[0m\u001b[1;34m'utc_datetime'\u001b[0m\u001b[1;33m]\u001b[0m\u001b[1;33m.\u001b[0m\u001b[0mastype\u001b[0m\u001b[1;33m(\u001b[0m\u001b[1;34m'object'\u001b[0m\u001b[1;33m)\u001b[0m\u001b[1;33m\u001b[0m\u001b[1;33m\u001b[0m\u001b[0m\n",
      "\u001b[1;32m~\\anaconda3\\lib\\site-packages\\pandas\\core\\frame.py\u001b[0m in \u001b[0;36m__getitem__\u001b[1;34m(self, key)\u001b[0m\n\u001b[0;32m   3503\u001b[0m             \u001b[1;32mif\u001b[0m \u001b[0mself\u001b[0m\u001b[1;33m.\u001b[0m\u001b[0mcolumns\u001b[0m\u001b[1;33m.\u001b[0m\u001b[0mnlevels\u001b[0m \u001b[1;33m>\u001b[0m \u001b[1;36m1\u001b[0m\u001b[1;33m:\u001b[0m\u001b[1;33m\u001b[0m\u001b[1;33m\u001b[0m\u001b[0m\n\u001b[0;32m   3504\u001b[0m                 \u001b[1;32mreturn\u001b[0m \u001b[0mself\u001b[0m\u001b[1;33m.\u001b[0m\u001b[0m_getitem_multilevel\u001b[0m\u001b[1;33m(\u001b[0m\u001b[0mkey\u001b[0m\u001b[1;33m)\u001b[0m\u001b[1;33m\u001b[0m\u001b[1;33m\u001b[0m\u001b[0m\n\u001b[1;32m-> 3505\u001b[1;33m             \u001b[0mindexer\u001b[0m \u001b[1;33m=\u001b[0m \u001b[0mself\u001b[0m\u001b[1;33m.\u001b[0m\u001b[0mcolumns\u001b[0m\u001b[1;33m.\u001b[0m\u001b[0mget_loc\u001b[0m\u001b[1;33m(\u001b[0m\u001b[0mkey\u001b[0m\u001b[1;33m)\u001b[0m\u001b[1;33m\u001b[0m\u001b[1;33m\u001b[0m\u001b[0m\n\u001b[0m\u001b[0;32m   3506\u001b[0m             \u001b[1;32mif\u001b[0m \u001b[0mis_integer\u001b[0m\u001b[1;33m(\u001b[0m\u001b[0mindexer\u001b[0m\u001b[1;33m)\u001b[0m\u001b[1;33m:\u001b[0m\u001b[1;33m\u001b[0m\u001b[1;33m\u001b[0m\u001b[0m\n\u001b[0;32m   3507\u001b[0m                 \u001b[0mindexer\u001b[0m \u001b[1;33m=\u001b[0m \u001b[1;33m[\u001b[0m\u001b[0mindexer\u001b[0m\u001b[1;33m]\u001b[0m\u001b[1;33m\u001b[0m\u001b[1;33m\u001b[0m\u001b[0m\n",
      "\u001b[1;32m~\\anaconda3\\lib\\site-packages\\pandas\\core\\indexes\\base.py\u001b[0m in \u001b[0;36mget_loc\u001b[1;34m(self, key, method, tolerance)\u001b[0m\n\u001b[0;32m   3629\u001b[0m                 \u001b[1;32mreturn\u001b[0m \u001b[0mself\u001b[0m\u001b[1;33m.\u001b[0m\u001b[0m_engine\u001b[0m\u001b[1;33m.\u001b[0m\u001b[0mget_loc\u001b[0m\u001b[1;33m(\u001b[0m\u001b[0mcasted_key\u001b[0m\u001b[1;33m)\u001b[0m\u001b[1;33m\u001b[0m\u001b[1;33m\u001b[0m\u001b[0m\n\u001b[0;32m   3630\u001b[0m             \u001b[1;32mexcept\u001b[0m \u001b[0mKeyError\u001b[0m \u001b[1;32mas\u001b[0m \u001b[0merr\u001b[0m\u001b[1;33m:\u001b[0m\u001b[1;33m\u001b[0m\u001b[1;33m\u001b[0m\u001b[0m\n\u001b[1;32m-> 3631\u001b[1;33m                 \u001b[1;32mraise\u001b[0m \u001b[0mKeyError\u001b[0m\u001b[1;33m(\u001b[0m\u001b[0mkey\u001b[0m\u001b[1;33m)\u001b[0m \u001b[1;32mfrom\u001b[0m \u001b[0merr\u001b[0m\u001b[1;33m\u001b[0m\u001b[1;33m\u001b[0m\u001b[0m\n\u001b[0m\u001b[0;32m   3632\u001b[0m             \u001b[1;32mexcept\u001b[0m \u001b[0mTypeError\u001b[0m\u001b[1;33m:\u001b[0m\u001b[1;33m\u001b[0m\u001b[1;33m\u001b[0m\u001b[0m\n\u001b[0;32m   3633\u001b[0m                 \u001b[1;31m# If we have a listlike key, _check_indexing_error will raise\u001b[0m\u001b[1;33m\u001b[0m\u001b[1;33m\u001b[0m\u001b[0m\n",
      "\u001b[1;31mKeyError\u001b[0m: 'id'"
     ]
    }
   ],
   "source": [
    "import pandas as pd    # 1.6 - tábla\n",
    "import os\n",
    "\n",
    "# Beolvasás és célmappa meghatározása\n",
    "search_log_room_1 = pd.read_csv(\"C:/Users/user/Desktop/PROMETHEUS/2024_PROJECT - D36 - DATA-SCIENCE-VERSENY/3_2. MORGENS - Data Science verseny/Alapadat letötések/Py_előkészítve/search_log_room_hotel_1.csv\", sep=\",\")\n",
    "output_directory = \"C:/Users/user/Desktop/PROMETHEUS/2024_PROJECT - D36 - DATA-SCIENCE-VERSENY/3_2. MORGENS - Data Science verseny/Alapadat letötések/Py_TISZ_csv\"\n",
    "                   \n",
    "\n",
    "# Ha most megfelelőek az oszlopnevek, folytathatjuk az adattípus átalakítást\n",
    "search_log_room_1['id'] = pd.to_numeric(search_log_room_1['id'], errors='coerce').astype('Int64')\n",
    "search_log_room_1['search_log_session_id'] = pd.to_numeric(search_log_room_1['search_log_session_id'], errors='coerce').astype('Int64')\n",
    "search_log_room_1['utc_datetime'] = search_log_room_1['utc_datetime'].astype('object')\n",
    "search_log_room_1['lang_code'] = search_log_room_1['lang_code'].astype('object')\n",
    "search_log_room_1['arrival'] = search_log_room_1['arrival'].astype('object')\n",
    "search_log_room_1['departure'] = search_log_room_1['departure'].astype('object')\n",
    "search_log_room_1['days'] = pd.to_numeric(search_log_room_1['days'], errors='coerce').astype('Int64')\n",
    "search_log_room_1['nights'] = pd.to_numeric(search_lo_roomg_1['nights'], errors='coerce').astype('Int64')\n",
    "search_log_room_1['adults'] = pd.to_numeric(search_log_room_1['adults'], errors='coerce').astype('Int64')\n",
    "search_log_room_1['children'] = pd.to_numeric(search_log_room_1['children'], errors='coerce').astype('Int64')\n",
    "search_log_room_1['conversion'] = pd.to_numeric(search_log_room_1['conversion'], errors='coerce').astype('float64')\n",
    "search_log_room_1['total_price_final'] = pd.to_numeric(search_log_room_1['total_price_final'], errors='coerce').astype('float64')\n",
    "\n",
    "# Új fájlnév generálása\n",
    "output_file_name = \"search_log_room_1_CLEAN.csv\"\n",
    "output_file_path = os.path.join(output_directory, output_file_name)\n",
    "\n",
    "# Módosított adatfájl mentése új mappába\n",
    "search_log_room_1.to_csv(output_file_path, index=False, sep=\";\")\n",
    "\n",
    "# Ellenőrzés\n",
    "print(f\"Módosított fájl mentve ide: {output_file_path}\")\n"
   ]
  },
  {
   "cell_type": "code",
   "execution_count": 6,
   "id": "2c7e0fc1",
   "metadata": {},
   "outputs": [
    {
     "name": "stdout",
     "output_type": "stream",
     "text": [
      "Index(['id;\"search_log_id\";\"adults\";\"children\";\"picked_room\";\"picked_price\";\"picked_room\"'], dtype='object')\n"
     ]
    }
   ],
   "source": [
    "print(search_log_room_1.columns)"
   ]
  },
  {
   "cell_type": "code",
   "execution_count": 7,
   "id": "a32cba12",
   "metadata": {},
   "outputs": [],
   "source": [
    "search_log_room_1 = pd.read_csv(\"C:/Users/user/Desktop/PROMETHEUS/2024_PROJECT - D36 - DATA-SCIENCE-VERSENY/3_2. MORGENS - Data Science verseny/Alapadat letötések/Py_előkészítve/search_log_room_hotel_1.csv\", sep=\";\")\n"
   ]
  },
  {
   "cell_type": "code",
   "execution_count": 8,
   "id": "325ab614",
   "metadata": {},
   "outputs": [
    {
     "name": "stdout",
     "output_type": "stream",
     "text": [
      "Index(['id', 'search_log_id', 'adults', 'children', 'picked_room',\n",
      "       'picked_price', 'picked_room.1'],\n",
      "      dtype='object')\n"
     ]
    }
   ],
   "source": [
    "print(search_log_room_1.columns)\n"
   ]
  },
  {
   "cell_type": "code",
   "execution_count": 9,
   "id": "50c5084e",
   "metadata": {},
   "outputs": [],
   "source": [
    "search_log_room_1.rename(columns={'picked_room.1': 'picked_room_secondary'}, inplace=True)\n"
   ]
  },
  {
   "cell_type": "code",
   "execution_count": 10,
   "id": "a80ef0ca",
   "metadata": {},
   "outputs": [
    {
     "ename": "KeyError",
     "evalue": "'id'",
     "output_type": "error",
     "traceback": [
      "\u001b[1;31m---------------------------------------------------------------------------\u001b[0m",
      "\u001b[1;31mKeyError\u001b[0m                                  Traceback (most recent call last)",
      "\u001b[1;32m~\\anaconda3\\lib\\site-packages\\pandas\\core\\indexes\\base.py\u001b[0m in \u001b[0;36mget_loc\u001b[1;34m(self, key, method, tolerance)\u001b[0m\n\u001b[0;32m   3628\u001b[0m             \u001b[1;32mtry\u001b[0m\u001b[1;33m:\u001b[0m\u001b[1;33m\u001b[0m\u001b[1;33m\u001b[0m\u001b[0m\n\u001b[1;32m-> 3629\u001b[1;33m                 \u001b[1;32mreturn\u001b[0m \u001b[0mself\u001b[0m\u001b[1;33m.\u001b[0m\u001b[0m_engine\u001b[0m\u001b[1;33m.\u001b[0m\u001b[0mget_loc\u001b[0m\u001b[1;33m(\u001b[0m\u001b[0mcasted_key\u001b[0m\u001b[1;33m)\u001b[0m\u001b[1;33m\u001b[0m\u001b[1;33m\u001b[0m\u001b[0m\n\u001b[0m\u001b[0;32m   3630\u001b[0m             \u001b[1;32mexcept\u001b[0m \u001b[0mKeyError\u001b[0m \u001b[1;32mas\u001b[0m \u001b[0merr\u001b[0m\u001b[1;33m:\u001b[0m\u001b[1;33m\u001b[0m\u001b[1;33m\u001b[0m\u001b[0m\n",
      "\u001b[1;32m~\\anaconda3\\lib\\site-packages\\pandas\\_libs\\index.pyx\u001b[0m in \u001b[0;36mpandas._libs.index.IndexEngine.get_loc\u001b[1;34m()\u001b[0m\n",
      "\u001b[1;32m~\\anaconda3\\lib\\site-packages\\pandas\\_libs\\index.pyx\u001b[0m in \u001b[0;36mpandas._libs.index.IndexEngine.get_loc\u001b[1;34m()\u001b[0m\n",
      "\u001b[1;32mpandas\\_libs\\hashtable_class_helper.pxi\u001b[0m in \u001b[0;36mpandas._libs.hashtable.PyObjectHashTable.get_item\u001b[1;34m()\u001b[0m\n",
      "\u001b[1;32mpandas\\_libs\\hashtable_class_helper.pxi\u001b[0m in \u001b[0;36mpandas._libs.hashtable.PyObjectHashTable.get_item\u001b[1;34m()\u001b[0m\n",
      "\u001b[1;31mKeyError\u001b[0m: 'id'",
      "\nThe above exception was the direct cause of the following exception:\n",
      "\u001b[1;31mKeyError\u001b[0m                                  Traceback (most recent call last)",
      "\u001b[1;32m~\\AppData\\Local\\Temp\\ipykernel_13524\\1755426458.py\u001b[0m in \u001b[0;36m<module>\u001b[1;34m\u001b[0m\n\u001b[0;32m      8\u001b[0m \u001b[1;33m\u001b[0m\u001b[0m\n\u001b[0;32m      9\u001b[0m \u001b[1;31m# Ha most megfelelőek az oszlopnevek, folytathatjuk az adattípus átalakítást\u001b[0m\u001b[1;33m\u001b[0m\u001b[1;33m\u001b[0m\u001b[0m\n\u001b[1;32m---> 10\u001b[1;33m \u001b[0msearch_log_room_1\u001b[0m\u001b[1;33m[\u001b[0m\u001b[1;34m'id'\u001b[0m\u001b[1;33m]\u001b[0m \u001b[1;33m=\u001b[0m \u001b[0mpd\u001b[0m\u001b[1;33m.\u001b[0m\u001b[0mto_numeric\u001b[0m\u001b[1;33m(\u001b[0m\u001b[0msearch_log_room_1\u001b[0m\u001b[1;33m[\u001b[0m\u001b[1;34m'id'\u001b[0m\u001b[1;33m]\u001b[0m\u001b[1;33m,\u001b[0m \u001b[0merrors\u001b[0m\u001b[1;33m=\u001b[0m\u001b[1;34m'coerce'\u001b[0m\u001b[1;33m)\u001b[0m\u001b[1;33m.\u001b[0m\u001b[0mastype\u001b[0m\u001b[1;33m(\u001b[0m\u001b[1;34m'Int64'\u001b[0m\u001b[1;33m)\u001b[0m\u001b[1;33m\u001b[0m\u001b[1;33m\u001b[0m\u001b[0m\n\u001b[0m\u001b[0;32m     11\u001b[0m \u001b[0msearch_log_room_1\u001b[0m\u001b[1;33m[\u001b[0m\u001b[1;34m'search_log_session_id'\u001b[0m\u001b[1;33m]\u001b[0m \u001b[1;33m=\u001b[0m \u001b[0mpd\u001b[0m\u001b[1;33m.\u001b[0m\u001b[0mto_numeric\u001b[0m\u001b[1;33m(\u001b[0m\u001b[0msearch_log_room_1\u001b[0m\u001b[1;33m[\u001b[0m\u001b[1;34m'search_log_session_id'\u001b[0m\u001b[1;33m]\u001b[0m\u001b[1;33m,\u001b[0m \u001b[0merrors\u001b[0m\u001b[1;33m=\u001b[0m\u001b[1;34m'coerce'\u001b[0m\u001b[1;33m)\u001b[0m\u001b[1;33m.\u001b[0m\u001b[0mastype\u001b[0m\u001b[1;33m(\u001b[0m\u001b[1;34m'Int64'\u001b[0m\u001b[1;33m)\u001b[0m\u001b[1;33m\u001b[0m\u001b[1;33m\u001b[0m\u001b[0m\n\u001b[0;32m     12\u001b[0m \u001b[0msearch_log_room_1\u001b[0m\u001b[1;33m[\u001b[0m\u001b[1;34m'utc_datetime'\u001b[0m\u001b[1;33m]\u001b[0m \u001b[1;33m=\u001b[0m \u001b[0msearch_log_room_1\u001b[0m\u001b[1;33m[\u001b[0m\u001b[1;34m'utc_datetime'\u001b[0m\u001b[1;33m]\u001b[0m\u001b[1;33m.\u001b[0m\u001b[0mastype\u001b[0m\u001b[1;33m(\u001b[0m\u001b[1;34m'object'\u001b[0m\u001b[1;33m)\u001b[0m\u001b[1;33m\u001b[0m\u001b[1;33m\u001b[0m\u001b[0m\n",
      "\u001b[1;32m~\\anaconda3\\lib\\site-packages\\pandas\\core\\frame.py\u001b[0m in \u001b[0;36m__getitem__\u001b[1;34m(self, key)\u001b[0m\n\u001b[0;32m   3503\u001b[0m             \u001b[1;32mif\u001b[0m \u001b[0mself\u001b[0m\u001b[1;33m.\u001b[0m\u001b[0mcolumns\u001b[0m\u001b[1;33m.\u001b[0m\u001b[0mnlevels\u001b[0m \u001b[1;33m>\u001b[0m \u001b[1;36m1\u001b[0m\u001b[1;33m:\u001b[0m\u001b[1;33m\u001b[0m\u001b[1;33m\u001b[0m\u001b[0m\n\u001b[0;32m   3504\u001b[0m                 \u001b[1;32mreturn\u001b[0m \u001b[0mself\u001b[0m\u001b[1;33m.\u001b[0m\u001b[0m_getitem_multilevel\u001b[0m\u001b[1;33m(\u001b[0m\u001b[0mkey\u001b[0m\u001b[1;33m)\u001b[0m\u001b[1;33m\u001b[0m\u001b[1;33m\u001b[0m\u001b[0m\n\u001b[1;32m-> 3505\u001b[1;33m             \u001b[0mindexer\u001b[0m \u001b[1;33m=\u001b[0m \u001b[0mself\u001b[0m\u001b[1;33m.\u001b[0m\u001b[0mcolumns\u001b[0m\u001b[1;33m.\u001b[0m\u001b[0mget_loc\u001b[0m\u001b[1;33m(\u001b[0m\u001b[0mkey\u001b[0m\u001b[1;33m)\u001b[0m\u001b[1;33m\u001b[0m\u001b[1;33m\u001b[0m\u001b[0m\n\u001b[0m\u001b[0;32m   3506\u001b[0m             \u001b[1;32mif\u001b[0m \u001b[0mis_integer\u001b[0m\u001b[1;33m(\u001b[0m\u001b[0mindexer\u001b[0m\u001b[1;33m)\u001b[0m\u001b[1;33m:\u001b[0m\u001b[1;33m\u001b[0m\u001b[1;33m\u001b[0m\u001b[0m\n\u001b[0;32m   3507\u001b[0m                 \u001b[0mindexer\u001b[0m \u001b[1;33m=\u001b[0m \u001b[1;33m[\u001b[0m\u001b[0mindexer\u001b[0m\u001b[1;33m]\u001b[0m\u001b[1;33m\u001b[0m\u001b[1;33m\u001b[0m\u001b[0m\n",
      "\u001b[1;32m~\\anaconda3\\lib\\site-packages\\pandas\\core\\indexes\\base.py\u001b[0m in \u001b[0;36mget_loc\u001b[1;34m(self, key, method, tolerance)\u001b[0m\n\u001b[0;32m   3629\u001b[0m                 \u001b[1;32mreturn\u001b[0m \u001b[0mself\u001b[0m\u001b[1;33m.\u001b[0m\u001b[0m_engine\u001b[0m\u001b[1;33m.\u001b[0m\u001b[0mget_loc\u001b[0m\u001b[1;33m(\u001b[0m\u001b[0mcasted_key\u001b[0m\u001b[1;33m)\u001b[0m\u001b[1;33m\u001b[0m\u001b[1;33m\u001b[0m\u001b[0m\n\u001b[0;32m   3630\u001b[0m             \u001b[1;32mexcept\u001b[0m \u001b[0mKeyError\u001b[0m \u001b[1;32mas\u001b[0m \u001b[0merr\u001b[0m\u001b[1;33m:\u001b[0m\u001b[1;33m\u001b[0m\u001b[1;33m\u001b[0m\u001b[0m\n\u001b[1;32m-> 3631\u001b[1;33m                 \u001b[1;32mraise\u001b[0m \u001b[0mKeyError\u001b[0m\u001b[1;33m(\u001b[0m\u001b[0mkey\u001b[0m\u001b[1;33m)\u001b[0m \u001b[1;32mfrom\u001b[0m \u001b[0merr\u001b[0m\u001b[1;33m\u001b[0m\u001b[1;33m\u001b[0m\u001b[0m\n\u001b[0m\u001b[0;32m   3632\u001b[0m             \u001b[1;32mexcept\u001b[0m \u001b[0mTypeError\u001b[0m\u001b[1;33m:\u001b[0m\u001b[1;33m\u001b[0m\u001b[1;33m\u001b[0m\u001b[0m\n\u001b[0;32m   3633\u001b[0m                 \u001b[1;31m# If we have a listlike key, _check_indexing_error will raise\u001b[0m\u001b[1;33m\u001b[0m\u001b[1;33m\u001b[0m\u001b[0m\n",
      "\u001b[1;31mKeyError\u001b[0m: 'id'"
     ]
    }
   ],
   "source": []
  },
  {
   "cell_type": "code",
   "execution_count": 11,
   "id": "b91cf44b",
   "metadata": {},
   "outputs": [
    {
     "name": "stdout",
     "output_type": "stream",
     "text": [
      "['id;\"search_log_id\";\"adults\";\"children\";\"picked_room\";\"picked_price\";\"picked_room\"']\n"
     ]
    }
   ],
   "source": [
    "print(search_log_room_1.columns.tolist())\n"
   ]
  },
  {
   "cell_type": "code",
   "execution_count": 12,
   "id": "8ec46ac6",
   "metadata": {},
   "outputs": [
    {
     "ename": "ValueError",
     "evalue": "Length mismatch: Expected axis has 1 elements, new values have 7 elements",
     "output_type": "error",
     "traceback": [
      "\u001b[1;31m---------------------------------------------------------------------------\u001b[0m",
      "\u001b[1;31mValueError\u001b[0m                                Traceback (most recent call last)",
      "\u001b[1;32m~\\AppData\\Local\\Temp\\ipykernel_13524\\1918951893.py\u001b[0m in \u001b[0;36m<module>\u001b[1;34m\u001b[0m\n\u001b[0;32m      1\u001b[0m \u001b[1;31m# Az oszlopneveket elválasztjuk pontosvesszővel és tisztítjuk őket\u001b[0m\u001b[1;33m\u001b[0m\u001b[1;33m\u001b[0m\u001b[0m\n\u001b[1;32m----> 2\u001b[1;33m \u001b[0msearch_log_room_1\u001b[0m\u001b[1;33m.\u001b[0m\u001b[0mcolumns\u001b[0m \u001b[1;33m=\u001b[0m \u001b[0msearch_log_room_1\u001b[0m\u001b[1;33m.\u001b[0m\u001b[0mcolumns\u001b[0m\u001b[1;33m[\u001b[0m\u001b[1;36m0\u001b[0m\u001b[1;33m]\u001b[0m\u001b[1;33m.\u001b[0m\u001b[0msplit\u001b[0m\u001b[1;33m(\u001b[0m\u001b[1;34m\";\"\u001b[0m\u001b[1;33m)\u001b[0m\u001b[1;33m\u001b[0m\u001b[1;33m\u001b[0m\u001b[0m\n\u001b[0m\u001b[0;32m      3\u001b[0m \u001b[0msearch_log_room_1\u001b[0m\u001b[1;33m.\u001b[0m\u001b[0mcolumns\u001b[0m \u001b[1;33m=\u001b[0m \u001b[0msearch_log_room_1\u001b[0m\u001b[1;33m.\u001b[0m\u001b[0mcolumns\u001b[0m\u001b[1;33m.\u001b[0m\u001b[0mstr\u001b[0m\u001b[1;33m.\u001b[0m\u001b[0mreplace\u001b[0m\u001b[1;33m(\u001b[0m\u001b[1;34m'\"'\u001b[0m\u001b[1;33m,\u001b[0m \u001b[1;34m''\u001b[0m\u001b[1;33m)\u001b[0m\u001b[1;33m.\u001b[0m\u001b[0mstr\u001b[0m\u001b[1;33m.\u001b[0m\u001b[0mstrip\u001b[0m\u001b[1;33m(\u001b[0m\u001b[1;33m)\u001b[0m\u001b[1;33m\u001b[0m\u001b[1;33m\u001b[0m\u001b[0m\n",
      "\u001b[1;32m~\\anaconda3\\lib\\site-packages\\pandas\\core\\generic.py\u001b[0m in \u001b[0;36m__setattr__\u001b[1;34m(self, name, value)\u001b[0m\n\u001b[0;32m   5586\u001b[0m         \u001b[1;32mtry\u001b[0m\u001b[1;33m:\u001b[0m\u001b[1;33m\u001b[0m\u001b[1;33m\u001b[0m\u001b[0m\n\u001b[0;32m   5587\u001b[0m             \u001b[0mobject\u001b[0m\u001b[1;33m.\u001b[0m\u001b[0m__getattribute__\u001b[0m\u001b[1;33m(\u001b[0m\u001b[0mself\u001b[0m\u001b[1;33m,\u001b[0m \u001b[0mname\u001b[0m\u001b[1;33m)\u001b[0m\u001b[1;33m\u001b[0m\u001b[1;33m\u001b[0m\u001b[0m\n\u001b[1;32m-> 5588\u001b[1;33m             \u001b[1;32mreturn\u001b[0m \u001b[0mobject\u001b[0m\u001b[1;33m.\u001b[0m\u001b[0m__setattr__\u001b[0m\u001b[1;33m(\u001b[0m\u001b[0mself\u001b[0m\u001b[1;33m,\u001b[0m \u001b[0mname\u001b[0m\u001b[1;33m,\u001b[0m \u001b[0mvalue\u001b[0m\u001b[1;33m)\u001b[0m\u001b[1;33m\u001b[0m\u001b[1;33m\u001b[0m\u001b[0m\n\u001b[0m\u001b[0;32m   5589\u001b[0m         \u001b[1;32mexcept\u001b[0m \u001b[0mAttributeError\u001b[0m\u001b[1;33m:\u001b[0m\u001b[1;33m\u001b[0m\u001b[1;33m\u001b[0m\u001b[0m\n\u001b[0;32m   5590\u001b[0m             \u001b[1;32mpass\u001b[0m\u001b[1;33m\u001b[0m\u001b[1;33m\u001b[0m\u001b[0m\n",
      "\u001b[1;32m~\\anaconda3\\lib\\site-packages\\pandas\\_libs\\properties.pyx\u001b[0m in \u001b[0;36mpandas._libs.properties.AxisProperty.__set__\u001b[1;34m()\u001b[0m\n",
      "\u001b[1;32m~\\anaconda3\\lib\\site-packages\\pandas\\core\\generic.py\u001b[0m in \u001b[0;36m_set_axis\u001b[1;34m(self, axis, labels)\u001b[0m\n\u001b[0;32m    767\u001b[0m     \u001b[1;32mdef\u001b[0m \u001b[0m_set_axis\u001b[0m\u001b[1;33m(\u001b[0m\u001b[0mself\u001b[0m\u001b[1;33m,\u001b[0m \u001b[0maxis\u001b[0m\u001b[1;33m:\u001b[0m \u001b[0mint\u001b[0m\u001b[1;33m,\u001b[0m \u001b[0mlabels\u001b[0m\u001b[1;33m:\u001b[0m \u001b[0mIndex\u001b[0m\u001b[1;33m)\u001b[0m \u001b[1;33m->\u001b[0m \u001b[1;32mNone\u001b[0m\u001b[1;33m:\u001b[0m\u001b[1;33m\u001b[0m\u001b[1;33m\u001b[0m\u001b[0m\n\u001b[0;32m    768\u001b[0m         \u001b[0mlabels\u001b[0m \u001b[1;33m=\u001b[0m \u001b[0mensure_index\u001b[0m\u001b[1;33m(\u001b[0m\u001b[0mlabels\u001b[0m\u001b[1;33m)\u001b[0m\u001b[1;33m\u001b[0m\u001b[1;33m\u001b[0m\u001b[0m\n\u001b[1;32m--> 769\u001b[1;33m         \u001b[0mself\u001b[0m\u001b[1;33m.\u001b[0m\u001b[0m_mgr\u001b[0m\u001b[1;33m.\u001b[0m\u001b[0mset_axis\u001b[0m\u001b[1;33m(\u001b[0m\u001b[0maxis\u001b[0m\u001b[1;33m,\u001b[0m \u001b[0mlabels\u001b[0m\u001b[1;33m)\u001b[0m\u001b[1;33m\u001b[0m\u001b[1;33m\u001b[0m\u001b[0m\n\u001b[0m\u001b[0;32m    770\u001b[0m         \u001b[0mself\u001b[0m\u001b[1;33m.\u001b[0m\u001b[0m_clear_item_cache\u001b[0m\u001b[1;33m(\u001b[0m\u001b[1;33m)\u001b[0m\u001b[1;33m\u001b[0m\u001b[1;33m\u001b[0m\u001b[0m\n\u001b[0;32m    771\u001b[0m \u001b[1;33m\u001b[0m\u001b[0m\n",
      "\u001b[1;32m~\\anaconda3\\lib\\site-packages\\pandas\\core\\internals\\managers.py\u001b[0m in \u001b[0;36mset_axis\u001b[1;34m(self, axis, new_labels)\u001b[0m\n\u001b[0;32m    212\u001b[0m     \u001b[1;32mdef\u001b[0m \u001b[0mset_axis\u001b[0m\u001b[1;33m(\u001b[0m\u001b[0mself\u001b[0m\u001b[1;33m,\u001b[0m \u001b[0maxis\u001b[0m\u001b[1;33m:\u001b[0m \u001b[0mint\u001b[0m\u001b[1;33m,\u001b[0m \u001b[0mnew_labels\u001b[0m\u001b[1;33m:\u001b[0m \u001b[0mIndex\u001b[0m\u001b[1;33m)\u001b[0m \u001b[1;33m->\u001b[0m \u001b[1;32mNone\u001b[0m\u001b[1;33m:\u001b[0m\u001b[1;33m\u001b[0m\u001b[1;33m\u001b[0m\u001b[0m\n\u001b[0;32m    213\u001b[0m         \u001b[1;31m# Caller is responsible for ensuring we have an Index object.\u001b[0m\u001b[1;33m\u001b[0m\u001b[1;33m\u001b[0m\u001b[0m\n\u001b[1;32m--> 214\u001b[1;33m         \u001b[0mself\u001b[0m\u001b[1;33m.\u001b[0m\u001b[0m_validate_set_axis\u001b[0m\u001b[1;33m(\u001b[0m\u001b[0maxis\u001b[0m\u001b[1;33m,\u001b[0m \u001b[0mnew_labels\u001b[0m\u001b[1;33m)\u001b[0m\u001b[1;33m\u001b[0m\u001b[1;33m\u001b[0m\u001b[0m\n\u001b[0m\u001b[0;32m    215\u001b[0m         \u001b[0mself\u001b[0m\u001b[1;33m.\u001b[0m\u001b[0maxes\u001b[0m\u001b[1;33m[\u001b[0m\u001b[0maxis\u001b[0m\u001b[1;33m]\u001b[0m \u001b[1;33m=\u001b[0m \u001b[0mnew_labels\u001b[0m\u001b[1;33m\u001b[0m\u001b[1;33m\u001b[0m\u001b[0m\n\u001b[0;32m    216\u001b[0m \u001b[1;33m\u001b[0m\u001b[0m\n",
      "\u001b[1;32m~\\anaconda3\\lib\\site-packages\\pandas\\core\\internals\\base.py\u001b[0m in \u001b[0;36m_validate_set_axis\u001b[1;34m(self, axis, new_labels)\u001b[0m\n\u001b[0;32m     67\u001b[0m \u001b[1;33m\u001b[0m\u001b[0m\n\u001b[0;32m     68\u001b[0m         \u001b[1;32melif\u001b[0m \u001b[0mnew_len\u001b[0m \u001b[1;33m!=\u001b[0m \u001b[0mold_len\u001b[0m\u001b[1;33m:\u001b[0m\u001b[1;33m\u001b[0m\u001b[1;33m\u001b[0m\u001b[0m\n\u001b[1;32m---> 69\u001b[1;33m             raise ValueError(\n\u001b[0m\u001b[0;32m     70\u001b[0m                 \u001b[1;34mf\"Length mismatch: Expected axis has {old_len} elements, new \"\u001b[0m\u001b[1;33m\u001b[0m\u001b[1;33m\u001b[0m\u001b[0m\n\u001b[0;32m     71\u001b[0m                 \u001b[1;34mf\"values have {new_len} elements\"\u001b[0m\u001b[1;33m\u001b[0m\u001b[1;33m\u001b[0m\u001b[0m\n",
      "\u001b[1;31mValueError\u001b[0m: Length mismatch: Expected axis has 1 elements, new values have 7 elements"
     ]
    }
   ],
   "source": [
    "# Az oszlopneveket elválasztjuk pontosvesszővel és tisztítjuk őket\n",
    "search_log_room_1.columns = search_log_room_1.columns[0].split(\";\")\n",
    "search_log_room_1.columns = search_log_room_1.columns.str.replace('\"', '').str.strip()\n"
   ]
  },
  {
   "cell_type": "code",
   "execution_count": 13,
   "id": "baedaa6d",
   "metadata": {},
   "outputs": [],
   "source": [
    "# Fájl újraolvasása a helyes oszlopelválasztó karakterrel\n",
    "search_log_room_1 = pd.read_csv(\n",
    "    \"C:/Users/user/Desktop/PROMETHEUS/2024_PROJECT - D36 - DATA-SCIENCE-VERSENY/3_2. MORGENS - Data Science verseny/Alapadat letötések/Py_előkészítve/search_log_room_hotel_1.csv\", \n",
    "    sep=\";\",  # A pontosvessző használata az oszlopok elválasztásához\n",
    ")\n",
    "\n",
    "# Eltávolítjuk az esetleges felesleges idézőjeleket és szóközöket az oszlopnevekből\n",
    "search_log_room_1.columns = search_log_room_1.columns.str.replace('\"', '').str.strip()\n"
   ]
  },
  {
   "cell_type": "code",
   "execution_count": 14,
   "id": "da604969",
   "metadata": {},
   "outputs": [
    {
     "name": "stdout",
     "output_type": "stream",
     "text": [
      "Módosított fájl mentve ide: C:/Users/user/Desktop/PROMETHEUS/2024_PROJECT - D36 - DATA-SCIENCE-VERSENY/3_2. MORGENS - Data Science verseny/Alapadat letötések/Py_TISZ_csv\\search_log_room_1_CLEAN.csv\n"
     ]
    }
   ],
   "source": [
    "import pandas as pd    # 1.6 - tábla - ennél lehet hogy a fenti három kódot (vagy az In[13]) alkalmazni kell mert az \"id\" vel és az elválasztóval volt probléma!\n",
    "import os\n",
    "\n",
    "# Fájl beolvasása a megfelelő oszlopelválasztó karakterrel\n",
    "search_log_room_1 = pd.read_csv(\n",
    "    \"C:/Users/user/Desktop/PROMETHEUS/2024_PROJECT - D36 - DATA-SCIENCE-VERSENY/3_2. MORGENS - Data Science verseny/Alapadat letötések/Py_előkészítve/search_log_room_hotel_1.csv\", \n",
    "    sep=\";\",  # Pontosvessző használata\n",
    ")\n",
    "\n",
    "# Az oszlopnevek tisztítása\n",
    "search_log_room_1.columns = search_log_room_1.columns.str.replace('\"', '').str.strip()\n",
    "\n",
    "# Adattípusok átalakítása\n",
    "search_log_room_1['id'] = pd.to_numeric(search_log_room_1['id'], errors='coerce').astype('Int64')\n",
    "search_log_room_1['search_log_id'] = pd.to_numeric(search_log_room_1['search_log_id'], errors='coerce').astype('Int64')\n",
    "search_log_room_1['adults'] = pd.to_numeric(search_log_room_1['adults'], errors='coerce').astype('Int64')\n",
    "search_log_room_1['children'] = pd.to_numeric(search_log_room_1['children'], errors='coerce').astype('Int64')\n",
    "search_log_room_1['picked_room'] = search_log_room_1['picked_room'].astype('object')\n",
    "search_log_room_1['picked_price'] = pd.to_numeric(search_log_room_1['picked_price'], errors='coerce').astype('float64')\n",
    "search_log_room_1['picked_room.1'] = search_log_room_1['picked_room.1'].astype('object')\n",
    "\n",
    "# Kimeneti fájlmentés új mappába\n",
    "output_directory = \"C:/Users/user/Desktop/PROMETHEUS/2024_PROJECT - D36 - DATA-SCIENCE-VERSENY/3_2. MORGENS - Data Science verseny/Alapadat letötések/Py_TISZ_csv\"\n",
    "output_file_name = \"search_log_room_1_CLEAN.csv\"\n",
    "output_file_path = os.path.join(output_directory, output_file_name)\n",
    "search_log_room_1.to_csv(output_file_path, index=False, sep=\";\")\n",
    "\n",
    "# Ellenőrzés\n",
    "print(f\"Módosított fájl mentve ide: {output_file_path}\")\n"
   ]
  },
  {
   "cell_type": "code",
   "execution_count": null,
   "id": "a8fa8c6c",
   "metadata": {},
   "outputs": [],
   "source": []
  },
  {
   "cell_type": "code",
   "execution_count": 16,
   "id": "6c955895",
   "metadata": {},
   "outputs": [
    {
     "name": "stdout",
     "output_type": "stream",
     "text": [
      "['id;\"search_log_id\";\"search_log_room_id\";\"room_code\";\"room_price_min\";\"room_price_max\"']\n"
     ]
    }
   ],
   "source": [
    "print(search_log_room_offer_1.columns.tolist())"
   ]
  },
  {
   "cell_type": "code",
   "execution_count": null,
   "id": "a35ad33b",
   "metadata": {},
   "outputs": [],
   "source": [
    "\n"
   ]
  },
  {
   "cell_type": "code",
   "execution_count": 19,
   "id": "2b8d8783",
   "metadata": {},
   "outputs": [
    {
     "name": "stdout",
     "output_type": "stream",
     "text": [
      "Módosított fájl mentve ide: C:/Users/user/Desktop/PROMETHEUS/2024_PROJECT - D36 - DATA-SCIENCE-VERSENY/3_2. MORGENS - Data Science verseny/Alapadat letötések/Py_TISZ_csv\\search_log_room_offer_1_CLEAN.csv\n"
     ]
    }
   ],
   "source": [
    "import pandas as pd    # 1.7 - tábla - Ez a kód most az első sorban lévő pontosvesszőket szétválasztja, és helyesen bontja fel az oszlopokat. Próbáld meg futtatni, és jelezd, hogy működött-e!\n",
    "import os\n",
    "\n",
    "# Fájl beolvasása, a pontosvesszővel határolt CSV-t és a célmappát megadjuk\n",
    "search_log_room_offer_1 = pd.read_csv(\"C:/Users/user/Desktop/PROMETHEUS/2024_PROJECT - D36 - DATA-SCIENCE-VERSENY/3_2. MORGENS - Data Science verseny/Alapadat letötések/Py_előkészítve/search_log_room_offer_hotel_1.csv\", sep=\";\")\n",
    "output_directory = \"C:/Users/user/Desktop/PROMETHEUS/2024_PROJECT - D36 - DATA-SCIENCE-VERSENY/3_2. MORGENS - Data Science verseny/Alapadat letötések/Py_TISZ_csv\"\n",
    "\n",
    "# Az idézőjelek eltávolítása és a felesleges szóközök tisztítása az oszlopnevekben\n",
    "search_log_room_offer_1.columns = search_log_room_offer_1.columns.str.replace('\"', '').str.strip()\n",
    "\n",
    "# Adattípus átalakítások\n",
    "search_log_room_offer_1['id'] = pd.to_numeric(search_log_room_offer_1['id'], errors='coerce').astype('Int64')\n",
    "search_log_room_offer_1['search_log_id'] = pd.to_numeric(search_log_room_offer_1['search_log_id'], errors='coerce').astype('Int64')\n",
    "search_log_room_offer_1['search_log_room_id'] = pd.to_numeric(search_log_room_offer_1['search_log_room_id'], errors='coerce').astype('Int64')\n",
    "search_log_room_offer_1['room_code'] = search_log_room_offer_1['room_code'].astype('object')\n",
    "search_log_room_offer_1['room_price_min'] = pd.to_numeric(search_log_room_offer_1['room_price_min'], errors='coerce').astype('float64')\n",
    "search_log_room_offer_1['room_price_max'] = pd.to_numeric(search_log_room_offer_1['room_price_max'], errors='coerce').astype('float64')\n",
    "\n",
    "# Új fájlnév generálása\n",
    "output_file_name = \"search_log_room_offer_1_CLEAN.csv\"\n",
    "output_file_path = os.path.join(output_directory, output_file_name)\n",
    "\n",
    "# Módosított adatfájl mentése új mappába\n",
    "search_log_room_offer_1.to_csv(output_file_path, index=False, sep=\";\")\n",
    "\n",
    "# Ellenőrzés\n",
    "print(f\"Módosított fájl mentve ide: {output_file_path}\")\n"
   ]
  },
  {
   "cell_type": "code",
   "execution_count": 25,
   "id": "e5fa05f4",
   "metadata": {},
   "outputs": [
    {
     "name": "stdout",
     "output_type": "stream",
     "text": [
      "Módosított fájl mentve ide: C:/Users/user/Desktop/PROMETHEUS/2024_PROJECT - D36 - DATA-SCIENCE-VERSENY/3_2. MORGENS - Data Science verseny/Alapadat letötések/Py_TISZ_csv\\search_log_room_child_1_CLEAN.csv\n"
     ]
    }
   ],
   "source": [
    "import pandas as pd    # 1.8 - tábla - A NYERS ADATOK táblában hibásan van az \"search_log_room id\" így a jó \"search_log_room_id\" (Aláhúzás hiányzott az id elöl)!\n",
    "import os\n",
    "\n",
    "# Fájl beolvasása, a pontosvesszővel határolt CSV-t és a célmappát megadjuk\n",
    "search_log_room_child_1 = pd.read_csv(\"C:/Users/user/Desktop/PROMETHEUS/2024_PROJECT - D36 - DATA-SCIENCE-VERSENY/3_2. MORGENS - Data Science verseny/Alapadat letötések/Py_előkészítve/search_log_room_child_hotel_1.csv\", sep=\";\")\n",
    "output_directory = \"C:/Users/user/Desktop/PROMETHEUS/2024_PROJECT - D36 - DATA-SCIENCE-VERSENY/3_2. MORGENS - Data Science verseny/Alapadat letötések/Py_TISZ_csv\"\n",
    "\n",
    "# Az idézőjelek eltávolítása és a felesleges szóközök tisztítása az oszlopnevekben\n",
    "search_log_room_child_1.columns = search_log_room_child_1.columns.str.replace('\"', '').str.strip()\n",
    "\n",
    "# Adattípus átalakítások\n",
    "search_log_room_child_1['id'] = pd.to_numeric(search_log_room_child_1['id'], errors='coerce').astype('Int64')\n",
    "search_log_room_child_1['search_log_room_id'] = pd.to_numeric(search_log_room_child_1['search_log_room_id'], errors='coerce').astype('Int64')\n",
    "search_log_room_child_1['age'] = pd.to_numeric(search_log_room_child_1['age'], errors='coerce').astype('Int64')\n",
    "search_log_room_child_1['baby_bed'] = pd.to_numeric(search_log_room_child_1['baby_bed'], errors='coerce').astype('Int8')  # tinyint átalakítása\n",
    "\n",
    "# Új fájlnév generálása\n",
    "output_file_name = \"search_log_room_child_1_CLEAN.csv\"\n",
    "output_file_path = os.path.join(output_directory, output_file_name)\n",
    "\n",
    "# Módosított adatfájl mentése új mappába\n",
    "search_log_room_child_1.to_csv(output_file_path, index=False, sep=\";\")\n",
    "\n",
    "# Ellenőrzés\n",
    "print(f\"Módosított fájl mentve ide: {output_file_path}\")\n"
   ]
  },
  {
   "cell_type": "code",
   "execution_count": 21,
   "id": "4fb5ca8d",
   "metadata": {},
   "outputs": [
    {
     "name": "stdout",
     "output_type": "stream",
     "text": [
      "['id', 'search_log_room_id', 'age', 'baby_bed']\n"
     ]
    }
   ],
   "source": [
    "print(search_log_room_child_1.columns.tolist())\n"
   ]
  },
  {
   "cell_type": "code",
   "execution_count": 22,
   "id": "e1846285",
   "metadata": {},
   "outputs": [],
   "source": [
    "search_log_room_child_1['search_log_room_id'] = pd.to_numeric(search_log_room_child_1['search_log_room_id'], errors='coerce').astype('Int64')\n"
   ]
  },
  {
   "cell_type": "code",
   "execution_count": 24,
   "id": "7df2b20f",
   "metadata": {},
   "outputs": [
    {
     "name": "stdout",
     "output_type": "stream",
     "text": [
      "['id', 'search_log_room_id', 'age', 'baby_bed']\n"
     ]
    }
   ],
   "source": [
    "print(search_log_room_child_1.columns.tolist())"
   ]
  },
  {
   "cell_type": "code",
   "execution_count": 26,
   "id": "45fe11f6",
   "metadata": {},
   "outputs": [
    {
     "name": "stdout",
     "output_type": "stream",
     "text": [
      "Módosított fájl mentve ide: C:/Users/user/Desktop/PROMETHEUS/2024_PROJECT - D36 - DATA-SCIENCE-VERSENY/3_2. MORGENS - Data Science verseny/Alapadat letötések/Py_TISZ_csv\\search_log_session_1_CLEAN.csv\n"
     ]
    }
   ],
   "source": [
    "import pandas as pd    # 1.9 - tábla (Első full saját, és elsőre jó!!!!!!!!!!!!)  Itt kell majd adattisztítani B, C oszlopban!\n",
    "import os\n",
    "\n",
    "# Fájl beolvasása, a pontosvesszővel határolt CSV-t és a célmappát megadjuk\n",
    "search_log_session_1 = pd.read_csv(\"C:/Users/user/Desktop/PROMETHEUS/2024_PROJECT - D36 - DATA-SCIENCE-VERSENY/3_2. MORGENS - Data Science verseny/Alapadat letötések/Py_előkészítve/search_log_session_hotel_1.csv\", sep=\";\")\n",
    "output_directory = \"C:/Users/user/Desktop/PROMETHEUS/2024_PROJECT - D36 - DATA-SCIENCE-VERSENY/3_2. MORGENS - Data Science verseny/Alapadat letötések/Py_TISZ_csv\"\n",
    "\n",
    "# Az idézőjelek eltávolítása és a felesleges szóközök tisztítása az oszlopnevekben\n",
    "search_log_session_1.columns = search_log_session_1.columns.str.replace('\"', '').str.strip()\n",
    "\n",
    "# Adattípus átalakítások\n",
    "search_log_session_1['id'] = pd.to_numeric(search_log_session_1['id'], errors='coerce').astype('Int64')\n",
    "search_log_session_1['uuid'] = search_log_session_1['uuid'].astype('object')\n",
    "search_log_session_1['session_id'] = pd.to_numeric(search_log_session_1['session_id'], errors='coerce').astype('Int64')\n",
    "search_log_session_1['utm_source'] = search_log_session_1['utm_source'].astype('object')\n",
    "search_log_session_1['utm_medium'] = search_log_session_1['utm_medium'].astype('object')\n",
    "search_log_session_1['utm_campaign'] = search_log_session_1['utm_campaign'].astype('object')\n",
    "\n",
    "# Új fájlnév generálása\n",
    "output_file_name = \"search_log_session_1_CLEAN.csv\"\n",
    "output_file_path = os.path.join(output_directory, output_file_name)\n",
    "\n",
    "# Módosított adatfájl mentése új mappába\n",
    "search_log_session_1.to_csv(output_file_path, index=False, sep=\";\")\n",
    "\n",
    "# Ellenőrzés\n",
    "print(f\"Módosított fájl mentve ide: {output_file_path}\")"
   ]
  },
  {
   "cell_type": "code",
   "execution_count": 27,
   "id": "745670f7",
   "metadata": {},
   "outputs": [
    {
     "name": "stdout",
     "output_type": "stream",
     "text": [
      "Módosított fájl mentve ide: C:/Users/user/Desktop/PROMETHEUS/2024_PROJECT - D36 - DATA-SCIENCE-VERSENY/3_2. MORGENS - Data Science verseny/Alapadat letötések/Py_TISZ_csv\\website_daily_users_1_CLEAN.csv\n"
     ]
    }
   ],
   "source": [
    "import pandas as pd    # 1.10 - tábla (Második full saját, és elsőre jó!!!!!!!!!!!!) Itt kell majd adattisztítani D, E, F oszlopban!\n",
    "import os\n",
    "\n",
    "# Fájl beolvasása, a pontosvesszővel határolt CSV-t és a célmappát megadjuk\n",
    "website_daily_users_1 = pd.read_csv(\"C:/Users/user/Desktop/PROMETHEUS/2024_PROJECT - D36 - DATA-SCIENCE-VERSENY/3_2. MORGENS - Data Science verseny/Alapadat letötések/Py_előkészítve/website_daily_users_hotel_1.csv\", sep=\";\")\n",
    "output_directory = \"C:/Users/user/Desktop/PROMETHEUS/2024_PROJECT - D36 - DATA-SCIENCE-VERSENY/3_2. MORGENS - Data Science verseny/Alapadat letötések/Py_TISZ_csv\"\n",
    "\n",
    "# Az idézőjelek eltávolítása és a felesleges szóközök tisztítása az oszlopnevekben\n",
    "website_daily_users_1.columns = website_daily_users_1.columns.str.replace('\"', '').str.strip()\n",
    "\n",
    "# Adattípus átalakítások\n",
    "website_daily_users_1['date'] = website_daily_users_1['date'].astype('object')\n",
    "website_daily_users_1['utm_source_and_medium'] = website_daily_users_1['utm_source_and_medium'].astype('object')\n",
    "website_daily_users_1['utm_campaign'] = website_daily_users_1['utm_campaign'].astype('object')\n",
    "website_daily_users_1['user_count'] = pd.to_numeric(website_daily_users_1['user_count'], errors='coerce').astype('Int64')\n",
    "\n",
    "# Új fájlnév generálása\n",
    "output_file_name = \"website_daily_users_1_CLEAN.csv\"\n",
    "output_file_path = os.path.join(output_directory, output_file_name)\n",
    "\n",
    "# Módosított adatfájl mentése új mappába\n",
    "website_daily_users_1.to_csv(output_file_path, index=False, sep=\";\")\n",
    "\n",
    "# Ellenőrzés\n",
    "print(f\"Módosított fájl mentve ide: {output_file_path}\")"
   ]
  },
  {
   "cell_type": "code",
   "execution_count": 28,
   "id": "14d6aeb1",
   "metadata": {},
   "outputs": [
    {
     "name": "stdout",
     "output_type": "stream",
     "text": [
      "Módosított fájl mentve ide: C:/Users/user/Desktop/PROMETHEUS/2024_PROJECT - D36 - DATA-SCIENCE-VERSENY/3_2. MORGENS - Data Science verseny/Alapadat letötések/Py_TISZ_csv\\upsell_data_1_CLEAN.csv\n"
     ]
    }
   ],
   "source": [
    "import pandas as pd    # 1.11 - tábla (Második full saját, és elsőre jó!!!!!!!!!!!!) Itt kell majd adattisztítani D, E, F oszlopban!\n",
    "import os\n",
    "\n",
    "# Fájl beolvasása, a pontosvesszővel határolt CSV-t és a célmappát megadjuk\n",
    "upsell_data_1 = pd.read_csv(\"C:/Users/user/Desktop/PROMETHEUS/2024_PROJECT - D36 - DATA-SCIENCE-VERSENY/3_2. MORGENS - Data Science verseny/Alapadat letötések/Py_előkészítve/upsell_data_hotel_1.csv\", sep=\";\")\n",
    "output_directory = \"C:/Users/user/Desktop/PROMETHEUS/2024_PROJECT - D36 - DATA-SCIENCE-VERSENY/3_2. MORGENS - Data Science verseny/Alapadat letötések/Py_TISZ_csv\"\n",
    "\n",
    "# Az idézőjelek eltávolítása és a felesleges szóközök tisztítása az oszlopnevekben\n",
    "upsell_data_1.columns = upsell_data_1.columns.str.replace('\"', '').str.strip()\n",
    "\n",
    "# Adattípus átalakítások\n",
    "upsell_data_1['search_log_id'] = pd.to_numeric(upsell_data_1['search_log_id'], errors='coerce').astype('Int64')\n",
    "upsell_data_1['upsell_type'] = pd.to_numeric(upsell_data_1['upsell_type'], errors='coerce').astype('Int64')\n",
    "upsell_data_1['name'] = upsell_data_1['name'].astype('object')\n",
    "upsell_data_1['unit_price'] = pd.to_numeric(upsell_data_1['unit_price'], errors='coerce').astype('float64')\n",
    "upsell_data_1['pieces'] = pd.to_numeric(upsell_data_1['pieces'], errors='coerce').astype('Int64')\n",
    "upsell_data_1['sum_price'] = pd.to_numeric(upsell_data_1['sum_price'], errors='coerce').astype('float64')\n",
    "\n",
    "# Új fájlnév generálása\n",
    "output_file_name = \"upsell_data_1_CLEAN.csv\"\n",
    "output_file_path = os.path.join(output_directory, output_file_name)\n",
    "\n",
    "# Módosított adatfájl mentése új mappába\n",
    "upsell_data_1.to_csv(output_file_path, index=False, sep=\";\")\n",
    "\n",
    "# Ellenőrzés\n",
    "print(f\"Módosított fájl mentve ide: {output_file_path}\")"
   ]
  },
  {
   "cell_type": "code",
   "execution_count": null,
   "id": "dd66ea2a",
   "metadata": {},
   "outputs": [],
   "source": []
  }
 ],
 "metadata": {
  "kernelspec": {
   "display_name": "Python 3 (ipykernel)",
   "language": "python",
   "name": "python3"
  },
  "language_info": {
   "codemirror_mode": {
    "name": "ipython",
    "version": 3
   },
   "file_extension": ".py",
   "mimetype": "text/x-python",
   "name": "python",
   "nbconvert_exporter": "python",
   "pygments_lexer": "ipython3",
   "version": "3.9.13"
  }
 },
 "nbformat": 4,
 "nbformat_minor": 5
}
